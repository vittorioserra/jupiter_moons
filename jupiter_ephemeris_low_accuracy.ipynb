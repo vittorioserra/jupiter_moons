{
 "cells": [
  {
   "cell_type": "code",
   "execution_count": 2,
   "metadata": {},
   "outputs": [],
   "source": [
    "import numpy as np\n",
    "import pandas as pd\n",
    "\n",
    "from astropy.time import Time as ap_time\n",
    "\n",
    "from datetime import datetime"
   ]
  },
  {
   "cell_type": "code",
   "execution_count": 47,
   "metadata": {},
   "outputs": [],
   "source": [
    "def norm_angle_deg(omega):\n",
    "\n",
    "    while(omega > 360 or omega < 0):\n",
    "        if(omega > 360):\n",
    "            omega = omega - 360;\n",
    "        if(omega <0 ):\n",
    "            omega = omega + 360;\n",
    "            \n",
    "    return omega"
   ]
  },
  {
   "cell_type": "code",
   "execution_count": 3,
   "metadata": {},
   "outputs": [],
   "source": [
    "curr_time = datetime.now()\n",
    "\n",
    "datestr = (str(curr_time.year) +\"-\"+ str(curr_time.month) +\"-\"+ str(curr_time.day) +\"T\"+ \n",
    "          str(curr_time.hour) +\":\"+ str(curr_time.minute) +\":\"+ str(curr_time.second))\n",
    "\n",
    "\n",
    "datestr = \"1992-12-16T00:00:59\"\n",
    "\n",
    "\n",
    "t = ap_time(datestr)"
   ]
  },
  {
   "cell_type": "code",
   "execution_count": 4,
   "metadata": {},
   "outputs": [
    {
     "name": "stdout",
     "output_type": "stream",
     "text": [
      "current julian day : 2448972.5006828704\n",
      "current mean sidereal time : 5h40m31.1301s\n"
     ]
    }
   ],
   "source": [
    "curr_julian_day = t.jd\n",
    "curr_mean_sidereal_time = t.sidereal_time('mean', 'greenwich')\n",
    "\n",
    "print(\"current julian day : \" + str(curr_julian_day))\n",
    "print(\"current mean sidereal time : \" + str(curr_mean_sidereal_time))"
   ]
  },
  {
   "cell_type": "code",
   "execution_count": 5,
   "metadata": {},
   "outputs": [],
   "source": [
    "#clculate tau in julian millenia since J2000.0\n",
    "\n",
    "tau = (curr_julian_day-2451545.0)/365250.0 #julian millenia\n",
    "T = (curr_julian_day-2451545.0)/36525.0    #julian century"
   ]
  },
  {
   "cell_type": "code",
   "execution_count": 33,
   "metadata": {},
   "outputs": [
    {
     "name": "stdout",
     "output_type": "stream",
     "text": [
      "d : -2572.4993171296082\n",
      "V in deg : 169.8793994620014\n",
      "M in deg : 342.072901287263\n",
      "N in deg : 166.34093459354298\n",
      "J in deg : 264.33050644569994\n"
     ]
    }
   ],
   "source": [
    "d = curr_julian_day - 2451545\n",
    "\n",
    "print(\"d : \" + str(d))\n",
    "\n",
    "V_deg = 172.75  + 0.00111588*d\n",
    "M_deg = 357.529 + 0.9856003*d\n",
    "N_deg = 20.020 + 0.0830853*d + 0.329*np.sin(np.deg2rad(V_deg))\n",
    "J_deg = 66.115 + 0.9025179*d - 0.329*np.sin(np.deg2rad(V_deg)) \n",
    "\n",
    "while(V_deg > 360 or V_deg < 0):\n",
    "    if(V_deg > 360):\n",
    "        V_deg = V_deg - 360;\n",
    "        \n",
    "    if(V_deg <0 ):\n",
    "        V_deg = V_deg + 360;\n",
    "        \n",
    "while(M_deg > 360 or M_deg < 0):\n",
    "    if(M_deg > 360):\n",
    "        M_deg = M_deg - 360;\n",
    "        \n",
    "    if(M_deg <0 ):\n",
    "        M_deg = M_deg + 360;\n",
    "\n",
    "while(N_deg > 360 or N_deg < 0):\n",
    "    if(N_deg > 360):\n",
    "        N_deg = N_deg - 360;\n",
    "        \n",
    "    if(N_deg <0 ):\n",
    "        N_deg = N_deg + 360;\n",
    "        \n",
    "while(J_deg > 360 or J_deg < 0):\n",
    "    if(J_deg > 360):\n",
    "        J_deg = J_deg - 360;\n",
    "        \n",
    "    if(J_deg <0 ):\n",
    "        J_deg = J_deg + 360;\n",
    "        \n",
    "        \n",
    "        \n",
    "\n",
    "print(\"V in deg : \"+str(V_deg))\n",
    "print(\"M in deg : \"+str(M_deg))\n",
    "print(\"N in deg : \"+str(N_deg))\n",
    "print(\"J in deg : \"+str(J_deg))\n"
   ]
  },
  {
   "cell_type": "code",
   "execution_count": 34,
   "metadata": {},
   "outputs": [
    {
     "name": "stdout",
     "output_type": "stream",
     "text": [
      "A in deg : -0.6011642293420907\n",
      "B in deg : 1.2346793843758295\n",
      "K in deg : 264.9640216007337\n"
     ]
    }
   ],
   "source": [
    "A_deg = 1.915*np.sin(np.deg2rad(M_deg))+0.020*np.sin(np.deg2rad(2*M_deg))\n",
    "B_deg = 5.555*np.sin(np.deg2rad(N_deg))+0.168*np.sin(np.deg2rad(2*N_deg)) \n",
    "K_deg = J_deg + A_deg + B_deg\n",
    "\n",
    "\n",
    "print(\"A in deg : \"+str(A_deg))\n",
    "print(\"B in deg : \"+str(B_deg))\n",
    "print(\"K in deg : \"+str(K_deg))"
   ]
  },
  {
   "cell_type": "code",
   "execution_count": 35,
   "metadata": {},
   "outputs": [
    {
     "name": "stdout",
     "output_type": "stream",
     "text": [
      "R_earth in AU : 0.9841278169692913\n",
      "R_jupter in AU : 5.44824212923964\n"
     ]
    }
   ],
   "source": [
    "R_earth = 1.00014 - 0.01671*np.cos(np.deg2rad(M_deg)) - 0.00014*np.cos(np.deg2rad(2*M_deg))\n",
    "R_jupiter = 5.20872 - 0.25208*np.cos(np.deg2rad(N_deg)) - 0.00611*np.cos(np.deg2rad(2*N_deg))\n",
    "\n",
    "print(\"R_earth in AU : \"+str(R_earth))\n",
    "print(\"R_jupter in AU : \"+str(R_jupiter))"
   ]
  },
  {
   "cell_type": "code",
   "execution_count": 37,
   "metadata": {},
   "outputs": [
    {
     "name": "stdout",
     "output_type": "stream",
     "text": [
      "Delta in AU : 5.62078066720395\n"
     ]
    }
   ],
   "source": [
    "Delta = np.sqrt(R_earth**2 + R_jupiter**2  - 2*R_earth*R_jupiter*np.cos(np.deg2rad(K_deg)))\n",
    "print(\"Delta in AU : \"+str(Delta))"
   ]
  },
  {
   "cell_type": "code",
   "execution_count": 38,
   "metadata": {},
   "outputs": [
    {
     "name": "stdout",
     "output_type": "stream",
     "text": [
      "psi in deg : -10.044413626940717\n"
     ]
    }
   ],
   "source": [
    "psi = np.arcsin(R_earth/Delta*np.sin(np.deg2rad(K_deg)))\n",
    "psi_deg = np.rad2deg(psi)\n",
    "\n",
    "print(\"psi in deg : \"+str(psi_deg))"
   ]
  },
  {
   "cell_type": "code",
   "execution_count": 39,
   "metadata": {},
   "outputs": [
    {
     "name": "stdout",
     "output_type": "stream",
     "text": [
      "omega_1 in deg : 267.7821286721155\n",
      "omega_2 in deg : 72.44981754152104\n"
     ]
    }
   ],
   "source": [
    "omega_1_deg = 210.98 + 877.8169088*(d-Delta/173) + np.rad2deg(psi) - B_deg\n",
    "omega_2_deg = 187.23 + 870.1869088*(d-Delta/173) + np.rad2deg(psi) - B_deg\n",
    "\n",
    "        \n",
    "while(omega_1_deg > 360 or omega_1_deg < 0):\n",
    "    if(omega_1_deg > 360):\n",
    "        omega_1_deg = omega_1_deg - 360;\n",
    "    if(omega_1_deg <0 ):\n",
    "        omega_1_deg = omega_1_deg + 360;\n",
    "        \n",
    "                \n",
    "while(omega_2_deg > 360 or omega_2_deg < 0):\n",
    "    if(omega_2_deg > 360):\n",
    "        omega_2_deg = omega_2_deg - 360;\n",
    "    if(omega_2_deg <0 ):\n",
    "        omega_2_deg = omega_2_deg + 360;\n",
    "\n",
    "print(\"omega_1 in deg : \"+str(omega_1_deg))\n",
    "print(\"omega_2 in deg : \"+str(omega_2_deg))\n",
    "\n",
    "\n",
    "correction_of_phase_deg = 57.3*(np.sin(psi/2))**2\n",
    "\n",
    "central_meridian_1_deg = omega_1_deg + correction_of_phase_deg\n",
    "central_meridian_2_deg = omega_2_deg + correction_of_phase_deg"
   ]
  },
  {
   "cell_type": "code",
   "execution_count": 40,
   "metadata": {},
   "outputs": [
    {
     "name": "stdout",
     "output_type": "stream",
     "text": [
      "lambda_jupiter in deg : -178.10904926818884\n"
     ]
    }
   ],
   "source": [
    "lambda_jupiter_j2000_deg = 34.35 + 0.083091*d + 0.329*np.sin(np.deg2rad(V_deg)) + B_deg\n",
    "\n",
    "print(\"lambda_jupiter in deg : \"+str(lambda_jupiter_j2000_deg))\n"
   ]
  },
  {
   "cell_type": "code",
   "execution_count": 41,
   "metadata": {},
   "outputs": [
    {
     "name": "stdout",
     "output_type": "stream",
     "text": [
      "D_s in deg : -2.1942411838051914\n",
      "D_e in deg : -2.5074214083803175\n"
     ]
    }
   ],
   "source": [
    "D_s_deg = 3.12*np.sin(np.deg2rad(lambda_jupiter_j2000_deg + 42.8))\n",
    "D_e_deg = D_s_deg - 2.22*np.sin(psi)*np.cos(np.deg2rad(lambda_jupiter_j2000_deg+22.5)) - 1.30*((R_jupiter - Delta)/Delta)*np.sin(np.deg2rad(lambda_jupiter_j2000_deg-100.5))\n",
    "\n",
    "print(\"D_s in deg : \"+str(D_s_deg))\n",
    "print(\"D_e in deg : \"+str(D_e_deg))"
   ]
  },
  {
   "cell_type": "markdown",
   "metadata": {},
   "source": [
    "Galileian Moons"
   ]
  },
  {
   "cell_type": "code",
   "execution_count": 58,
   "metadata": {},
   "outputs": [
    {
     "name": "stdout",
     "output_type": "stream",
     "text": [
      "u_1 in deg : 324.471354248235\n",
      "u_2 in deg : 51.18592587803141\n",
      "u_3 in deg : 4.5425330663856585\n",
      "u_4 in deg : 15.018084698851453\n"
     ]
    }
   ],
   "source": [
    "u_1_deg = 163.8069 + 203.4058646*(d-Delta/173)+psi_deg - B_deg\n",
    "u_2_deg = 358.4140 + 101.2916335*(d-Delta/173)+psi_deg - B_deg\n",
    "u_3_deg = 5.717 + 50.2345180*(d-Delta/173)+psi_deg - B_deg\n",
    "u_4_deg = 224.8092 + 21.4879800*(d-Delta/173)+psi_deg - B_deg\n",
    "\n",
    "u_1_deg = norm_angle_deg(u_1_deg)\n",
    "u_2_deg = norm_angle_deg(u_2_deg)\n",
    "u_3_deg = norm_angle_deg(u_3_deg)\n",
    "u_4_deg = norm_angle_deg(u_4_deg)\n",
    "\n",
    "print(\"u_1 in deg : \"+str(u_1_deg))\n",
    "print(\"u_2 in deg : \"+str(u_2_deg))\n",
    "print(\"u_3 in deg : \"+str(u_3_deg))\n",
    "print(\"u_4 in deg : \"+str(u_4_deg))"
   ]
  },
  {
   "cell_type": "code",
   "execution_count": 55,
   "metadata": {},
   "outputs": [
    {
     "name": "stdout",
     "output_type": "stream",
     "text": [
      "G in deg : 145.86481987620937\n",
      "H in deg : 39.9171958440711\n"
     ]
    }
   ],
   "source": [
    "G_deg = 331.18 + 50.310482*(d-Delta/173)\n",
    "H_deg = 87.45  + 21.569231*(d-Delta/173)\n",
    "\n",
    "G_deg = norm_angle_deg(G_deg)\n",
    "H_deg = norm_angle_deg(H_deg)\n",
    "\n",
    "print(\"G in deg : \"+str(G_deg))\n",
    "print(\"H in deg : \"+str(H_deg))"
   ]
  },
  {
   "cell_type": "code",
   "execution_count": 59,
   "metadata": {},
   "outputs": [
    {
     "name": "stdout",
     "output_type": "stream",
     "text": [
      "u_1 correction in deg : -0.05412627012380698\n",
      "u_2 correction in deg : 1.0632481456155656\n",
      "u_3 correction in deg : 0.09258930868106009\n",
      "u_4 correction in deg : 0.5409361113790989\n"
     ]
    }
   ],
   "source": [
    "u_1_correction_deg = 0.473*np.sin(2*np.deg2rad(u_1_deg - u_2_deg))\n",
    "u_2_correction_deg = 1.065*np.sin(2*np.deg2rad(u_2_deg - u_3_deg))\n",
    "u_3_correction_deg = 0.165*np.sin(np.deg2rad(G_deg))\n",
    "u_4_correction_deg = 0.843*np.sin(np.deg2rad(H_deg))\n",
    "\n",
    "print(\"u_1 correction in deg : \"+str(u_1_correction_deg))\n",
    "print(\"u_2 correction in deg : \"+str(u_2_correction_deg))\n",
    "print(\"u_3 correction in deg : \"+str(u_3_correction_deg))\n",
    "print(\"u_4 correction in deg : \"+str(u_4_correction_deg))"
   ]
  },
  {
   "cell_type": "code",
   "execution_count": 60,
   "metadata": {},
   "outputs": [
    {
     "name": "stdout",
     "output_type": "stream",
     "text": [
      "u_1 corrected in deg : 324.4172279781112\n",
      "u_2 corrected in deg : 5.605781212001224\n",
      "u_3 corrected in deg : 4.635122375066719\n",
      "u_4 corrected in deg : 15.559020810230551\n"
     ]
    }
   ],
   "source": [
    "u_1_corrected_deg = u_1_deg + u_1_correction_deg\n",
    "u_2_corrected_deg = u_3_deg + u_2_correction_deg\n",
    "u_3_corrected_deg = u_3_deg + u_3_correction_deg\n",
    "u_4_corrected_deg = u_4_deg + u_4_correction_deg\n",
    "\n",
    "print(\"u_1 corrected in deg : \"+str(u_1_corrected_deg))\n",
    "print(\"u_2 corrected in deg : \"+str(u_2_corrected_deg))\n",
    "print(\"u_3 corrected in deg : \"+str(u_3_corrected_deg))\n",
    "print(\"u_4 corrected in deg : \"+str(u_4_corrected_deg))"
   ]
  },
  {
   "cell_type": "code",
   "execution_count": 65,
   "metadata": {},
   "outputs": [
    {
     "name": "stdout",
     "output_type": "stream",
     "text": [
      "r_1 corrected in jupiter-radii : 5.929939718825305\n",
      "r_2 corrected in jupiter-radii : 9.401656838821163\n",
      "r_3 corrected in jupiter-radii : 15.006178664329235\n",
      "r_4 corrected in jupiter-radii : 26.213984012321745\n"
     ]
    }
   ],
   "source": [
    "r_1 = 5.9057-0.0244*np.cos(2*np.deg2rad(u_1_deg-u_2_deg))\n",
    "r_2 = 9.3966-0.0882*np.cos(2*np.deg2rad(u_2_deg-u_3_deg))\n",
    "r_3 = 14.9883 - 0.0216*np.cos(np.deg2rad(G_deg))\n",
    "r_4 = 26.3627 - 0.1939*np.cos(np.deg2rad(H_deg))\n",
    "\n",
    "print(\"r_1 corrected in jupiter-radii : \"+str(r_1))\n",
    "print(\"r_2 corrected in jupiter-radii : \"+str(r_2))\n",
    "print(\"r_3 corrected in jupiter-radii : \"+str(r_3))\n",
    "print(\"r_4 corrected in jupiter-radii : \"+str(r_4))"
   ]
  },
  {
   "cell_type": "code",
   "execution_count": 68,
   "metadata": {},
   "outputs": [],
   "source": [
    "X_1 = r_1*np.sin(np.deg2rad(u_1_corrected_deg))\n",
    "X_2 = r_2*np.sin(np.deg2rad(u_2_corrected_deg))\n",
    "X_3 = r_3*np.sin(np.deg2rad(u_3_corrected_deg))\n",
    "X_4 = r_4*np.sin(np.deg2rad(u_3_corrected_deg))\n",
    "\n",
    "Y_1 = -r_1*np.cos(np.deg2rad(u_1_corrected_deg))*np.sin(np.deg2rad(D_e_deg))\n",
    "Y_2 = -r_2*np.cos(np.deg2rad(u_2_corrected_deg))*np.sin(np.deg2rad(D_e_deg))\n",
    "Y_3 = -r_3*np.cos(np.deg2rad(u_3_corrected_deg))*np.sin(np.deg2rad(D_e_deg))\n",
    "Y_4 = -r_4*np.cos(np.deg2rad(u_4_corrected_deg))*np.sin(np.deg2rad(D_e_deg))\n",
    "\n",
    "Z_1 = -r_1*np.sin(np.deg2rad(u_1_corrected_deg))*np.sin(np.deg2rad(D_e_deg))\n",
    "Z_2 = -r_2*np.sin(np.deg2rad(u_2_corrected_deg))*np.sin(np.deg2rad(D_e_deg))\n",
    "Z_3 = -r_3*np.sin(np.deg2rad(u_3_corrected_deg))*np.sin(np.deg2rad(D_e_deg))\n",
    "Z_4 = -r_4*np.sin(np.deg2rad(u_4_corrected_deg))*np.sin(np.deg2rad(D_e_deg))"
   ]
  },
  {
   "cell_type": "code",
   "execution_count": null,
   "metadata": {},
   "outputs": [],
   "source": []
  }
 ],
 "metadata": {
  "kernelspec": {
   "display_name": "Python 3",
   "language": "python",
   "name": "python3"
  },
  "language_info": {
   "codemirror_mode": {
    "name": "ipython",
    "version": 3
   },
   "file_extension": ".py",
   "mimetype": "text/x-python",
   "name": "python",
   "nbconvert_exporter": "python",
   "pygments_lexer": "ipython3",
   "version": "3.6.9"
  }
 },
 "nbformat": 4,
 "nbformat_minor": 4
}

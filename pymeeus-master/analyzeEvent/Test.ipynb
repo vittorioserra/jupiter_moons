{
 "cells": [
  {
   "cell_type": "code",
   "execution_count": 11,
   "id": "immune-bailey",
   "metadata": {},
   "outputs": [],
   "source": [
    "import numpy as np\n",
    "\n",
    "from math import sin"
   ]
  },
  {
   "cell_type": "code",
   "execution_count": 12,
   "id": "unlike-springfield",
   "metadata": {},
   "outputs": [],
   "source": [
    "x_vec = np.linspace(0, 2*np.pi, 10**9)\n",
    "y_vec = np.zeros(len(x_vec))"
   ]
  },
  {
   "cell_type": "code",
   "execution_count": null,
   "id": "forty-indonesian",
   "metadata": {},
   "outputs": [],
   "source": [
    "for i in range(len(x_vec)-1):\n",
    "    y_vec[i]=sin(x_vec[i])"
   ]
  },
  {
   "cell_type": "code",
   "execution_count": null,
   "id": "collectible-guinea",
   "metadata": {},
   "outputs": [],
   "source": [
    "y_vec = np.sin(x_vec)"
   ]
  },
  {
   "cell_type": "code",
   "execution_count": null,
   "id": "generous-summit",
   "metadata": {},
   "outputs": [],
   "source": []
  }
 ],
 "metadata": {
  "kernelspec": {
   "display_name": "Python 3",
   "language": "python",
   "name": "python3"
  },
  "language_info": {
   "codemirror_mode": {
    "name": "ipython",
    "version": 3
   },
   "file_extension": ".py",
   "mimetype": "text/x-python",
   "name": "python",
   "nbconvert_exporter": "python",
   "pygments_lexer": "ipython3",
   "version": "3.6.9"
  }
 },
 "nbformat": 4,
 "nbformat_minor": 5
}

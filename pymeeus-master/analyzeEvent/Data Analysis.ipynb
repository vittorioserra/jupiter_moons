{
 "cells": [
  {
   "cell_type": "code",
   "execution_count": 1,
   "metadata": {},
   "outputs": [],
   "source": [
    "import numpy as np\n",
    "import pandas as pd\n",
    "import sqlite3\n",
    "import matplotlib.pyplot as plt\n",
    "import matplotlib\n",
    "\n",
    "%load_ext sql\n",
    "%sql sqlite:///Event.sqlite"
   ]
  },
  {
   "cell_type": "markdown",
   "metadata": {},
   "source": [
    "The database is impoted and converted to a pandas dataframe, much better for data analysis in python and also better for exporting the data to numpy"
   ]
  },
  {
   "cell_type": "code",
   "execution_count": 2,
   "metadata": {},
   "outputs": [],
   "source": [
    "cnx = sqlite3.connect(r'Event.sqlite')\n",
    "\n",
    "# create the dataframe from a query\n",
    "df = pd.read_sql_query(\"SELECT * FROM Event\", cnx)"
   ]
  },
  {
   "cell_type": "code",
   "execution_count": 3,
   "metadata": {},
   "outputs": [
    {
     "data": {
      "text/html": [
       "<div>\n",
       "<style scoped>\n",
       "    .dataframe tbody tr th:only-of-type {\n",
       "        vertical-align: middle;\n",
       "    }\n",
       "\n",
       "    .dataframe tbody tr th {\n",
       "        vertical-align: top;\n",
       "    }\n",
       "\n",
       "    .dataframe thead th {\n",
       "        text-align: right;\n",
       "    }\n",
       "</style>\n",
       "<table border=\"1\" class=\"dataframe\">\n",
       "  <thead>\n",
       "    <tr style=\"text-align: right;\">\n",
       "      <th></th>\n",
       "      <th>ID</th>\n",
       "      <th>DateTimeEventTT</th>\n",
       "      <th>Satellite</th>\n",
       "      <th>Type1</th>\n",
       "      <th>Type2</th>\n",
       "      <th>Type3</th>\n",
       "      <th>Origin</th>\n",
       "      <th>DateTimeAdded</th>\n",
       "    </tr>\n",
       "  </thead>\n",
       "  <tbody>\n",
       "    <tr>\n",
       "      <th>0</th>\n",
       "      <td>1</td>\n",
       "      <td>2020-01-01 15:17:59</td>\n",
       "      <td>1</td>\n",
       "      <td>OM</td>\n",
       "      <td>D</td>\n",
       "      <td>EXT</td>\n",
       "      <td>Thuillot</td>\n",
       "      <td>2020-12-13 12:52:55</td>\n",
       "    </tr>\n",
       "    <tr>\n",
       "      <th>1</th>\n",
       "      <td>2</td>\n",
       "      <td>2020-01-01 15:21:38</td>\n",
       "      <td>1</td>\n",
       "      <td>OM</td>\n",
       "      <td>D</td>\n",
       "      <td>INT</td>\n",
       "      <td>Thuillot</td>\n",
       "      <td>2020-12-13 12:52:55</td>\n",
       "    </tr>\n",
       "    <tr>\n",
       "      <th>2</th>\n",
       "      <td>3</td>\n",
       "      <td>2020-01-01 15:23:21</td>\n",
       "      <td>1</td>\n",
       "      <td>PA</td>\n",
       "      <td>D</td>\n",
       "      <td>EXT</td>\n",
       "      <td>Thuillot</td>\n",
       "      <td>2020-12-13 12:52:55</td>\n",
       "    </tr>\n",
       "    <tr>\n",
       "      <th>3</th>\n",
       "      <td>4</td>\n",
       "      <td>2020-01-01 15:27:01</td>\n",
       "      <td>1</td>\n",
       "      <td>PA</td>\n",
       "      <td>D</td>\n",
       "      <td>INT</td>\n",
       "      <td>Thuillot</td>\n",
       "      <td>2020-12-13 12:52:55</td>\n",
       "    </tr>\n",
       "    <tr>\n",
       "      <th>4</th>\n",
       "      <td>5</td>\n",
       "      <td>2020-01-01 17:32:48</td>\n",
       "      <td>1</td>\n",
       "      <td>OM</td>\n",
       "      <td>F</td>\n",
       "      <td>INT</td>\n",
       "      <td>Thuillot</td>\n",
       "      <td>2020-12-13 12:52:55</td>\n",
       "    </tr>\n",
       "    <tr>\n",
       "      <th>...</th>\n",
       "      <td>...</td>\n",
       "      <td>...</td>\n",
       "      <td>...</td>\n",
       "      <td>...</td>\n",
       "      <td>...</td>\n",
       "      <td>...</td>\n",
       "      <td>...</td>\n",
       "      <td>...</td>\n",
       "    </tr>\n",
       "    <tr>\n",
       "      <th>39588</th>\n",
       "      <td>80833</td>\n",
       "      <td>2020-12-31 07:06:17</td>\n",
       "      <td>2</td>\n",
       "      <td>OM</td>\n",
       "      <td>F</td>\n",
       "      <td>EXT</td>\n",
       "      <td>Apparent moon radius + Elliptical + Time corre...</td>\n",
       "      <td>2021-01-26 20:39:20</td>\n",
       "    </tr>\n",
       "    <tr>\n",
       "      <th>39589</th>\n",
       "      <td>80834</td>\n",
       "      <td>2020-12-31 07:19:59</td>\n",
       "      <td>1</td>\n",
       "      <td>PA</td>\n",
       "      <td>F</td>\n",
       "      <td>INT</td>\n",
       "      <td>Apparent moon radius + Elliptical + Time corre...</td>\n",
       "      <td>2021-01-26 20:39:20</td>\n",
       "    </tr>\n",
       "    <tr>\n",
       "      <th>39590</th>\n",
       "      <td>80835</td>\n",
       "      <td>2020-12-31 07:23:31</td>\n",
       "      <td>1</td>\n",
       "      <td>PA</td>\n",
       "      <td>F</td>\n",
       "      <td>EXT</td>\n",
       "      <td>Apparent moon radius + Elliptical + Time corre...</td>\n",
       "      <td>2021-01-26 20:39:20</td>\n",
       "    </tr>\n",
       "    <tr>\n",
       "      <th>39591</th>\n",
       "      <td>80836</td>\n",
       "      <td>2020-12-31 07:49:53</td>\n",
       "      <td>1</td>\n",
       "      <td>OM</td>\n",
       "      <td>F</td>\n",
       "      <td>INT</td>\n",
       "      <td>Apparent moon radius + Elliptical + Time corre...</td>\n",
       "      <td>2021-01-26 20:39:20</td>\n",
       "    </tr>\n",
       "    <tr>\n",
       "      <th>39592</th>\n",
       "      <td>80837</td>\n",
       "      <td>2020-12-31 07:53:25</td>\n",
       "      <td>1</td>\n",
       "      <td>OM</td>\n",
       "      <td>F</td>\n",
       "      <td>EXT</td>\n",
       "      <td>Apparent moon radius + Elliptical + Time corre...</td>\n",
       "      <td>2021-01-26 20:39:20</td>\n",
       "    </tr>\n",
       "  </tbody>\n",
       "</table>\n",
       "<p>39593 rows × 8 columns</p>\n",
       "</div>"
      ],
      "text/plain": [
       "          ID      DateTimeEventTT  Satellite Type1 Type2 Type3  \\\n",
       "0          1  2020-01-01 15:17:59          1    OM     D   EXT   \n",
       "1          2  2020-01-01 15:21:38          1    OM     D   INT   \n",
       "2          3  2020-01-01 15:23:21          1    PA     D   EXT   \n",
       "3          4  2020-01-01 15:27:01          1    PA     D   INT   \n",
       "4          5  2020-01-01 17:32:48          1    OM     F   INT   \n",
       "...      ...                  ...        ...   ...   ...   ...   \n",
       "39588  80833  2020-12-31 07:06:17          2    OM     F   EXT   \n",
       "39589  80834  2020-12-31 07:19:59          1    PA     F   INT   \n",
       "39590  80835  2020-12-31 07:23:31          1    PA     F   EXT   \n",
       "39591  80836  2020-12-31 07:49:53          1    OM     F   INT   \n",
       "39592  80837  2020-12-31 07:53:25          1    OM     F   EXT   \n",
       "\n",
       "                                                  Origin        DateTimeAdded  \n",
       "0                                               Thuillot  2020-12-13 12:52:55  \n",
       "1                                               Thuillot  2020-12-13 12:52:55  \n",
       "2                                               Thuillot  2020-12-13 12:52:55  \n",
       "3                                               Thuillot  2020-12-13 12:52:55  \n",
       "4                                               Thuillot  2020-12-13 12:52:55  \n",
       "...                                                  ...                  ...  \n",
       "39588  Apparent moon radius + Elliptical + Time corre...  2021-01-26 20:39:20  \n",
       "39589  Apparent moon radius + Elliptical + Time corre...  2021-01-26 20:39:20  \n",
       "39590  Apparent moon radius + Elliptical + Time corre...  2021-01-26 20:39:20  \n",
       "39591  Apparent moon radius + Elliptical + Time corre...  2021-01-26 20:39:20  \n",
       "39592  Apparent moon radius + Elliptical + Time corre...  2021-01-26 20:39:20  \n",
       "\n",
       "[39593 rows x 8 columns]"
      ]
     },
     "execution_count": 3,
     "metadata": {},
     "output_type": "execute_result"
    }
   ],
   "source": [
    "df"
   ]
  },
  {
   "cell_type": "code",
   "execution_count": 4,
   "metadata": {},
   "outputs": [
    {
     "data": {
      "text/plain": [
       "0        False\n",
       "1        False\n",
       "2        False\n",
       "3        False\n",
       "4        False\n",
       "         ...  \n",
       "39588    False\n",
       "39589    False\n",
       "39590    False\n",
       "39591    False\n",
       "39592    False\n",
       "Name: Origin, Length: 39593, dtype: bool"
      ]
     },
     "execution_count": 4,
     "metadata": {},
     "output_type": "execute_result"
    }
   ],
   "source": [
    "df.Origin == 'PyMeeus'"
   ]
  },
  {
   "cell_type": "code",
   "execution_count": 5,
   "metadata": {},
   "outputs": [],
   "source": [
    "sql_cmd = \"\"\"\n",
    "\n",
    "WITH\n",
    "\n",
    "PyMeeus AS\n",
    "(\n",
    "SELECT DateTimeEventTT, Satellite || Type1 || Type2 || Type3 AS Type, DateTimeEventTT, \n",
    "Satellite, Type1, Type2, Type3\n",
    "FROM Event\n",
    "WHERE Origin=\"PyMeeus\"\n",
    "),\n",
    "\n",
    "Thuillot AS\n",
    "(\n",
    "SELECT DateTimeEventTT, Satellite || Type1 || Type2 || Type3 AS Type, DateTimeEventTT\n",
    "FROM Event\n",
    "WHERE Origin=\"Thuillot\"\n",
    ")\n",
    "\n",
    "SELECT p.DateTimeEventTT, p.Satellite, p.Type1, p.Type2, p.Type3, \n",
    "strftime('%s', p.DateTimeEventTT) - strftime('%s', t.DateTimeEventTT) AS deltaTime, \n",
    "MIN( ABS( strftime('%s', p.DateTimeEventTT) - strftime('%s', t.DateTimeEventTT) )) AS minDeltaTime\n",
    "FROM (PyMeeus p INNER JOIN Thuillot t\n",
    "ON p.Type = t.Type)\n",
    "GROUP BY p.DateTimeEventTT\n",
    "HAVING minDeltaTime <= 3600\n",
    "\n",
    "\"\"\"\n",
    "\n",
    "df = pd.read_sql_query(sql_cmd, cnx)"
   ]
  },
  {
   "cell_type": "code",
   "execution_count": 6,
   "metadata": {},
   "outputs": [
    {
     "data": {
      "text/html": [
       "<div>\n",
       "<style scoped>\n",
       "    .dataframe tbody tr th:only-of-type {\n",
       "        vertical-align: middle;\n",
       "    }\n",
       "\n",
       "    .dataframe tbody tr th {\n",
       "        vertical-align: top;\n",
       "    }\n",
       "\n",
       "    .dataframe thead th {\n",
       "        text-align: right;\n",
       "    }\n",
       "</style>\n",
       "<table border=\"1\" class=\"dataframe\">\n",
       "  <thead>\n",
       "    <tr style=\"text-align: right;\">\n",
       "      <th></th>\n",
       "      <th>DateTimeEventTT</th>\n",
       "      <th>Satellite</th>\n",
       "      <th>Type1</th>\n",
       "      <th>Type2</th>\n",
       "      <th>Type3</th>\n",
       "      <th>deltaTime</th>\n",
       "      <th>minDeltaTime</th>\n",
       "    </tr>\n",
       "  </thead>\n",
       "  <tbody>\n",
       "    <tr>\n",
       "      <th>0</th>\n",
       "      <td>2020-01-01 15:18:23</td>\n",
       "      <td>1</td>\n",
       "      <td>OM</td>\n",
       "      <td>D</td>\n",
       "      <td>EXT</td>\n",
       "      <td>24</td>\n",
       "      <td>24</td>\n",
       "    </tr>\n",
       "    <tr>\n",
       "      <th>1</th>\n",
       "      <td>2020-01-01 15:22:01</td>\n",
       "      <td>1</td>\n",
       "      <td>OM</td>\n",
       "      <td>D</td>\n",
       "      <td>INT</td>\n",
       "      <td>23</td>\n",
       "      <td>23</td>\n",
       "    </tr>\n",
       "    <tr>\n",
       "      <th>2</th>\n",
       "      <td>2020-01-01 15:23:25</td>\n",
       "      <td>1</td>\n",
       "      <td>PA</td>\n",
       "      <td>D</td>\n",
       "      <td>EXT</td>\n",
       "      <td>4</td>\n",
       "      <td>4</td>\n",
       "    </tr>\n",
       "    <tr>\n",
       "      <th>3</th>\n",
       "      <td>2020-01-01 15:27:03</td>\n",
       "      <td>1</td>\n",
       "      <td>PA</td>\n",
       "      <td>D</td>\n",
       "      <td>INT</td>\n",
       "      <td>2</td>\n",
       "      <td>2</td>\n",
       "    </tr>\n",
       "    <tr>\n",
       "      <th>4</th>\n",
       "      <td>2020-01-01 17:32:16</td>\n",
       "      <td>1</td>\n",
       "      <td>OM</td>\n",
       "      <td>F</td>\n",
       "      <td>INT</td>\n",
       "      <td>-32</td>\n",
       "      <td>32</td>\n",
       "    </tr>\n",
       "    <tr>\n",
       "      <th>...</th>\n",
       "      <td>...</td>\n",
       "      <td>...</td>\n",
       "      <td>...</td>\n",
       "      <td>...</td>\n",
       "      <td>...</td>\n",
       "      <td>...</td>\n",
       "      <td>...</td>\n",
       "    </tr>\n",
       "    <tr>\n",
       "      <th>5218</th>\n",
       "      <td>2020-12-31 07:06:17</td>\n",
       "      <td>2</td>\n",
       "      <td>OM</td>\n",
       "      <td>F</td>\n",
       "      <td>EXT</td>\n",
       "      <td>-3</td>\n",
       "      <td>3</td>\n",
       "    </tr>\n",
       "    <tr>\n",
       "      <th>5219</th>\n",
       "      <td>2020-12-31 07:19:59</td>\n",
       "      <td>1</td>\n",
       "      <td>PA</td>\n",
       "      <td>F</td>\n",
       "      <td>INT</td>\n",
       "      <td>3</td>\n",
       "      <td>3</td>\n",
       "    </tr>\n",
       "    <tr>\n",
       "      <th>5220</th>\n",
       "      <td>2020-12-31 07:23:31</td>\n",
       "      <td>1</td>\n",
       "      <td>PA</td>\n",
       "      <td>F</td>\n",
       "      <td>EXT</td>\n",
       "      <td>1</td>\n",
       "      <td>1</td>\n",
       "    </tr>\n",
       "    <tr>\n",
       "      <th>5221</th>\n",
       "      <td>2020-12-31 07:49:53</td>\n",
       "      <td>1</td>\n",
       "      <td>OM</td>\n",
       "      <td>F</td>\n",
       "      <td>INT</td>\n",
       "      <td>-9</td>\n",
       "      <td>9</td>\n",
       "    </tr>\n",
       "    <tr>\n",
       "      <th>5222</th>\n",
       "      <td>2020-12-31 07:53:25</td>\n",
       "      <td>1</td>\n",
       "      <td>OM</td>\n",
       "      <td>F</td>\n",
       "      <td>EXT</td>\n",
       "      <td>-10</td>\n",
       "      <td>10</td>\n",
       "    </tr>\n",
       "  </tbody>\n",
       "</table>\n",
       "<p>5223 rows × 7 columns</p>\n",
       "</div>"
      ],
      "text/plain": [
       "          DateTimeEventTT  Satellite Type1 Type2 Type3  deltaTime  \\\n",
       "0     2020-01-01 15:18:23          1    OM     D   EXT         24   \n",
       "1     2020-01-01 15:22:01          1    OM     D   INT         23   \n",
       "2     2020-01-01 15:23:25          1    PA     D   EXT          4   \n",
       "3     2020-01-01 15:27:03          1    PA     D   INT          2   \n",
       "4     2020-01-01 17:32:16          1    OM     F   INT        -32   \n",
       "...                   ...        ...   ...   ...   ...        ...   \n",
       "5218  2020-12-31 07:06:17          2    OM     F   EXT         -3   \n",
       "5219  2020-12-31 07:19:59          1    PA     F   INT          3   \n",
       "5220  2020-12-31 07:23:31          1    PA     F   EXT          1   \n",
       "5221  2020-12-31 07:49:53          1    OM     F   INT         -9   \n",
       "5222  2020-12-31 07:53:25          1    OM     F   EXT        -10   \n",
       "\n",
       "      minDeltaTime  \n",
       "0               24  \n",
       "1               23  \n",
       "2                4  \n",
       "3                2  \n",
       "4               32  \n",
       "...            ...  \n",
       "5218             3  \n",
       "5219             3  \n",
       "5220             1  \n",
       "5221             9  \n",
       "5222            10  \n",
       "\n",
       "[5223 rows x 7 columns]"
      ]
     },
     "execution_count": 6,
     "metadata": {},
     "output_type": "execute_result"
    }
   ],
   "source": [
    "df"
   ]
  },
  {
   "cell_type": "code",
   "execution_count": 7,
   "metadata": {},
   "outputs": [
    {
     "data": {
      "text/plain": [
       "array(['OM', 'PA', 'EC', 'OC'], dtype=object)"
      ]
     },
     "execution_count": 7,
     "metadata": {},
     "output_type": "execute_result"
    }
   ],
   "source": [
    "df['Type1'].unique()"
   ]
  },
  {
   "cell_type": "code",
   "execution_count": 8,
   "metadata": {},
   "outputs": [],
   "source": [
    "df_OM_INT= df[((df.Satellite == 1)&(df.Type1 == 'OM')&(df.Type2 == 'D')&(df.Type3 == 'INT'))|\n",
    "   ((df.Satellite == 2)&(df.Type1 == 'OM')&(df.Type2 == 'D')&(df.Type3 == 'INT'))|\n",
    "   ((df.Satellite == 3)&(df.Type1 == 'OM')&(df.Type2 == 'D')&(df.Type3 == 'INT'))|  \n",
    "   ((df.Satellite == 4)&(df.Type1 == 'OM')&(df.Type2 == 'D')&(df.Type3 == 'INT'))\n",
    "  ]"
   ]
  },
  {
   "cell_type": "code",
   "execution_count": 9,
   "metadata": {},
   "outputs": [],
   "source": [
    "df_OM_EXT= df[((df.Satellite == 1)&(df.Type1 == 'OM')&(df.Type2 == 'D')&(df.Type3 == 'INT'))|\n",
    "   ((df.Satellite == 2)&(df.Type1 == 'OM')&(df.Type2 == 'D')&(df.Type3 == 'INT'))|\n",
    "   ((df.Satellite == 3)&(df.Type1 == 'OM')&(df.Type2 == 'D')&(df.Type3 == 'INT'))|  \n",
    "   ((df.Satellite == 4)&(df.Type1 == 'OM')&(df.Type2 == 'D')&(df.Type3 == 'INT'))\n",
    "  ]"
   ]
  },
  {
   "cell_type": "code",
   "execution_count": 10,
   "metadata": {},
   "outputs": [
    {
     "data": {
      "text/html": [
       "<div>\n",
       "<style scoped>\n",
       "    .dataframe tbody tr th:only-of-type {\n",
       "        vertical-align: middle;\n",
       "    }\n",
       "\n",
       "    .dataframe tbody tr th {\n",
       "        vertical-align: top;\n",
       "    }\n",
       "\n",
       "    .dataframe thead th {\n",
       "        text-align: right;\n",
       "    }\n",
       "</style>\n",
       "<table border=\"1\" class=\"dataframe\">\n",
       "  <thead>\n",
       "    <tr style=\"text-align: right;\">\n",
       "      <th></th>\n",
       "      <th>DateTimeEventTT</th>\n",
       "      <th>Satellite</th>\n",
       "      <th>Type1</th>\n",
       "      <th>Type2</th>\n",
       "      <th>Type3</th>\n",
       "      <th>deltaTime</th>\n",
       "      <th>minDeltaTime</th>\n",
       "    </tr>\n",
       "  </thead>\n",
       "  <tbody>\n",
       "    <tr>\n",
       "      <th>10</th>\n",
       "      <td>2020-01-01 21:04:05</td>\n",
       "      <td>2</td>\n",
       "      <td>EC</td>\n",
       "      <td>D</td>\n",
       "      <td>INT</td>\n",
       "      <td>-22</td>\n",
       "      <td>22</td>\n",
       "    </tr>\n",
       "    <tr>\n",
       "      <th>15</th>\n",
       "      <td>2020-01-02 09:26:31</td>\n",
       "      <td>3</td>\n",
       "      <td>EC</td>\n",
       "      <td>D</td>\n",
       "      <td>INT</td>\n",
       "      <td>-29</td>\n",
       "      <td>29</td>\n",
       "    </tr>\n",
       "    <tr>\n",
       "      <th>19</th>\n",
       "      <td>2020-01-02 12:41:37</td>\n",
       "      <td>1</td>\n",
       "      <td>EC</td>\n",
       "      <td>D</td>\n",
       "      <td>INT</td>\n",
       "      <td>2</td>\n",
       "      <td>2</td>\n",
       "    </tr>\n",
       "    <tr>\n",
       "      <th>41</th>\n",
       "      <td>2020-01-04 07:10:16</td>\n",
       "      <td>1</td>\n",
       "      <td>EC</td>\n",
       "      <td>D</td>\n",
       "      <td>INT</td>\n",
       "      <td>2</td>\n",
       "      <td>2</td>\n",
       "    </tr>\n",
       "    <tr>\n",
       "      <th>54</th>\n",
       "      <td>2020-01-05 10:21:16</td>\n",
       "      <td>2</td>\n",
       "      <td>EC</td>\n",
       "      <td>D</td>\n",
       "      <td>INT</td>\n",
       "      <td>-23</td>\n",
       "      <td>23</td>\n",
       "    </tr>\n",
       "    <tr>\n",
       "      <th>...</th>\n",
       "      <td>...</td>\n",
       "      <td>...</td>\n",
       "      <td>...</td>\n",
       "      <td>...</td>\n",
       "      <td>...</td>\n",
       "      <td>...</td>\n",
       "      <td>...</td>\n",
       "    </tr>\n",
       "    <tr>\n",
       "      <th>4629</th>\n",
       "      <td>2020-11-19 20:46:39</td>\n",
       "      <td>3</td>\n",
       "      <td>EC</td>\n",
       "      <td>D</td>\n",
       "      <td>INT</td>\n",
       "      <td>-73</td>\n",
       "      <td>73</td>\n",
       "    </tr>\n",
       "    <tr>\n",
       "      <th>4733</th>\n",
       "      <td>2020-11-27 00:47:08</td>\n",
       "      <td>3</td>\n",
       "      <td>EC</td>\n",
       "      <td>D</td>\n",
       "      <td>INT</td>\n",
       "      <td>-72</td>\n",
       "      <td>72</td>\n",
       "    </tr>\n",
       "    <tr>\n",
       "      <th>4761</th>\n",
       "      <td>2020-11-28 18:24:20</td>\n",
       "      <td>4</td>\n",
       "      <td>EC</td>\n",
       "      <td>D</td>\n",
       "      <td>INT</td>\n",
       "      <td>42</td>\n",
       "      <td>42</td>\n",
       "    </tr>\n",
       "    <tr>\n",
       "      <th>4839</th>\n",
       "      <td>2020-12-04 04:47:41</td>\n",
       "      <td>3</td>\n",
       "      <td>EC</td>\n",
       "      <td>D</td>\n",
       "      <td>INT</td>\n",
       "      <td>-72</td>\n",
       "      <td>72</td>\n",
       "    </tr>\n",
       "    <tr>\n",
       "      <th>5008</th>\n",
       "      <td>2020-12-15 12:32:13</td>\n",
       "      <td>4</td>\n",
       "      <td>EC</td>\n",
       "      <td>D</td>\n",
       "      <td>INT</td>\n",
       "      <td>41</td>\n",
       "      <td>41</td>\n",
       "    </tr>\n",
       "  </tbody>\n",
       "</table>\n",
       "<p>228 rows × 7 columns</p>\n",
       "</div>"
      ],
      "text/plain": [
       "          DateTimeEventTT  Satellite Type1 Type2 Type3  deltaTime  \\\n",
       "10    2020-01-01 21:04:05          2    EC     D   INT        -22   \n",
       "15    2020-01-02 09:26:31          3    EC     D   INT        -29   \n",
       "19    2020-01-02 12:41:37          1    EC     D   INT          2   \n",
       "41    2020-01-04 07:10:16          1    EC     D   INT          2   \n",
       "54    2020-01-05 10:21:16          2    EC     D   INT        -23   \n",
       "...                   ...        ...   ...   ...   ...        ...   \n",
       "4629  2020-11-19 20:46:39          3    EC     D   INT        -73   \n",
       "4733  2020-11-27 00:47:08          3    EC     D   INT        -72   \n",
       "4761  2020-11-28 18:24:20          4    EC     D   INT         42   \n",
       "4839  2020-12-04 04:47:41          3    EC     D   INT        -72   \n",
       "5008  2020-12-15 12:32:13          4    EC     D   INT         41   \n",
       "\n",
       "      minDeltaTime  \n",
       "10              22  \n",
       "15              29  \n",
       "19               2  \n",
       "41               2  \n",
       "54              23  \n",
       "...            ...  \n",
       "4629            73  \n",
       "4733            72  \n",
       "4761            42  \n",
       "4839            72  \n",
       "5008            41  \n",
       "\n",
       "[228 rows x 7 columns]"
      ]
     },
     "execution_count": 10,
     "metadata": {},
     "output_type": "execute_result"
    }
   ],
   "source": [
    "df_EC_INT= df[((df.Satellite == 1)&(df.Type1 == 'EC')&(df.Type2 == 'D')&(df.Type3 == 'INT'))|\n",
    "   ((df.Satellite == 2)&(df.Type1 == 'EC')&(df.Type2 == 'D')&(df.Type3 == 'INT'))|\n",
    "   ((df.Satellite == 3)&(df.Type1 == 'EC')&(df.Type2 == 'D')&(df.Type3 == 'INT'))|  \n",
    "   ((df.Satellite == 4)&(df.Type1 == 'EC')&(df.Type2 == 'D')&(df.Type3 == 'INT'))\n",
    "  ]\n",
    "\n",
    "df_EC_INT"
   ]
  },
  {
   "cell_type": "markdown",
   "metadata": {},
   "source": [
    "# Eclipses"
   ]
  },
  {
   "cell_type": "markdown",
   "metadata": {
    "pycharm": {
     "name": "#%% md\n"
    }
   },
   "source": [
    "## IO"
   ]
  },
  {
   "cell_type": "code",
   "execution_count": 24,
   "metadata": {},
   "outputs": [
    {
     "name": "stderr",
     "output_type": "stream",
     "text": [
      "/home/vserra/.local/lib/python3.6/site-packages/ipykernel_launcher.py:11: UserWarning: Legend does not support [<matplotlib.lines.Line2D object at 0x7f4613ef9a58>] instances.\n",
      "A proxy artist may be used instead.\n",
      "See: https://matplotlib.org/users/legend_guide.html#creating-artists-specifically-for-adding-to-the-legend-aka-proxy-artists\n",
      "  # This is added back by InteractiveShellApp.init_path()\n",
      "/home/vserra/.local/lib/python3.6/site-packages/ipykernel_launcher.py:11: UserWarning: Legend does not support [<matplotlib.lines.Line2D object at 0x7f4614e149e8>] instances.\n",
      "A proxy artist may be used instead.\n",
      "See: https://matplotlib.org/users/legend_guide.html#creating-artists-specifically-for-adding-to-the-legend-aka-proxy-artists\n",
      "  # This is added back by InteractiveShellApp.init_path()\n"
     ]
    },
    {
     "data": {
      "text/plain": [
       "<matplotlib.legend.Legend at 0x7f4613d0d0b8>"
      ]
     },
     "execution_count": 24,
     "metadata": {},
     "output_type": "execute_result"
    },
    {
     "data": {
      "image/png": "[encoded data removed]",
      "text/plain": [
       "<Figure size 432x288 with 1 Axes>"
      ]
     },
     "metadata": {
      "needs_background": "light"
     },
     "output_type": "display_data"
    }
   ],
   "source": [
    "df_EC_INT_IO_INT= df[((df.Satellite == 1)&(df.Type1 == 'EC')&(df.Type2 == 'D')&(df.Type3 == 'INT'))]\n",
    "\n",
    "df_EC_INT_IO_INT= df_EC_INT_IO_INT[[ 'DateTimeEventTT','deltaTime']]\n",
    "\n",
    "dates_int = matplotlib.dates.date2num(df_EC_INT_IO_INT['DateTimeEventTT'].to_numpy())\n",
    "matplotlib.pyplot.plot_date(dates_int, df_EC_INT_IO_INT['deltaTime'].to_numpy(), 'b-')\n",
    "\n",
    "plt.ylabel('Time Difference (s)')\n",
    "plt.xlabel('Time')\n",
    "plt.title('Variation in eclipse Time for satellite 1 - D')\n",
    "plt.legend((intr,ext), ('INT', 'EXT'))\n",
    "\n",
    "df_EC_INT_IO_EXT= df[((df.Satellite == 1)&(df.Type1 == 'EC')&(df.Type2 == 'D')&(df.Type3 == 'EXT'))]\n",
    "\n",
    "df_EC_INT_IO_EXT= df_EC_INT_IO_EXT[[ 'DateTimeEventTT','deltaTime']]\n",
    "\n",
    "dates_ext = matplotlib.dates.date2num(df_EC_INT_IO_EXT['DateTimeEventTT'].to_numpy())\n",
    "matplotlib.pyplot.plot_date(dates_ext, df_EC_INT_IO_EXT['deltaTime'].to_numpy(),'r-')\n",
    "\n",
    "plt.ylabel('Time Difference (s)')\n",
    "plt.xlabel('Time')\n",
    "plt.title('Variation in eclipse Time for satellite 1 - D')\n",
    "plt.legend(('INT', 'EXT'))"
   ]
  },
  {
   "cell_type": "code",
   "execution_count": 26,
   "metadata": {},
   "outputs": [
    {
     "data": {
      "text/plain": [
       "<matplotlib.legend.Legend at 0x7f46119f5a90>"
      ]
     },
     "execution_count": 26,
     "metadata": {},
     "output_type": "execute_result"
    },
    {
     "data": {
      "image/png": "[encoded data removed]",
      "text/plain": [
       "<Figure size 432x288 with 1 Axes>"
      ]
     },
     "metadata": {
      "needs_background": "light"
     },
     "output_type": "display_data"
    }
   ],
   "source": [
    "df_EC_INT_IO_INT= df[((df.Satellite == 1)&(df.Type1 == 'EC')&(df.Type2 == 'F')&(df.Type3 == 'INT'))]\n",
    "\n",
    "df_EC_INT_IO_INT= df_EC_INT_IO_INT[[ 'DateTimeEventTT','deltaTime']]\n",
    "\n",
    "dates_int = matplotlib.dates.date2num(df_EC_INT_IO_INT['DateTimeEventTT'].to_numpy())\n",
    "matplotlib.pyplot.plot_date(dates_int, df_EC_INT_IO_INT['deltaTime'].to_numpy(), 'b-')\n",
    "\n",
    "df_EC_INT_IO_EXT= df[((df.Satellite == 1)&(df.Type1 == 'EC')&(df.Type2 == 'F')&(df.Type3 == 'EXT'))]\n",
    "\n",
    "df_EC_INT_IO_EXT= df_EC_INT_IO_EXT[[ 'DateTimeEventTT','deltaTime']]\n",
    "\n",
    "dates_ext = matplotlib.dates.date2num(df_EC_INT_IO_EXT['DateTimeEventTT'].to_numpy())\n",
    "matplotlib.pyplot.plot_date(dates_ext, df_EC_INT_IO_EXT['deltaTime'].to_numpy(),'r-')\n",
    "\n",
    "plt.ylabel('Time Difference (s)')\n",
    "plt.xlabel('Time')\n",
    "plt.title('Variation in eclipse Time for satellite 1 - D')\n",
    "plt.legend(('INT', 'EXT'))"
   ]
  },
  {
   "cell_type": "code",
   "execution_count": 35,
   "metadata": {
    "pycharm": {
     "name": "#%%\n"
    }
   },
   "outputs": [
    {
     "data": {
      "text/plain": [
       "<matplotlib.legend.Legend at 0x7f46114b80b8>"
      ]
     },
     "execution_count": 35,
     "metadata": {},
     "output_type": "execute_result"
    },
    {
     "data": {
      "image/png": "[encoded data removed]",
      "text/plain": [
       "<Figure size 432x288 with 1 Axes>"
      ]
     },
     "metadata": {
      "needs_background": "light"
     },
     "output_type": "display_data"
    }
   ],
   "source": [
    "df_EC_INT_IO_INT= df[((df.Satellite == 1)&(df.Type1 == 'EC')&(df.Type2 == 'D')&(df.Type3 == 'INT'))]\n",
    "\n",
    "df_EC_INT_IO_INT= df_EC_INT_IO_INT[[ 'DateTimeEventTT','deltaTime']]\n",
    "\n",
    "dates_int = matplotlib.dates.date2num(df_EC_INT_IO_INT['DateTimeEventTT'].to_numpy())\n",
    "matplotlib.pyplot.plot_date(dates_int, df_EC_INT_IO_INT['deltaTime'].to_numpy(), 'b-')\n",
    "\n",
    "df_EC_INT_IO_EXT= df[((df.Satellite == 1)&(df.Type1 == 'EC')&(df.Type2 == 'D')&(df.Type3 == 'EXT'))]\n",
    "\n",
    "df_EC_INT_IO_EXT= df_EC_INT_IO_EXT[[ 'DateTimeEventTT','deltaTime']]\n",
    "\n",
    "dates_ext = matplotlib.dates.date2num(df_EC_INT_IO_EXT['DateTimeEventTT'].to_numpy())\n",
    "matplotlib.pyplot.plot_date(dates_ext, df_EC_INT_IO_EXT['deltaTime'].to_numpy(),'r-')\n",
    "\n",
    "df_EC_INT_IO_INT= df[((df.Satellite == 1)&(df.Type1 == 'EC')&(df.Type2 == 'F')&(df.Type3 == 'INT'))]\n",
    "\n",
    "df_EC_INT_IO_INT= df_EC_INT_IO_INT[[ 'DateTimeEventTT','deltaTime']]\n",
    "\n",
    "dates_int = matplotlib.dates.date2num(df_EC_INT_IO_INT['DateTimeEventTT'].to_numpy())\n",
    "matplotlib.pyplot.plot_date(dates_int, df_EC_INT_IO_INT['deltaTime'].to_numpy(), 'g-')\n",
    "\n",
    "df_EC_INT_IO_EXT= df[((df.Satellite == 1)&(df.Type1 == 'EC')&(df.Type2 == 'F')&(df.Type3 == 'EXT'))]\n",
    "\n",
    "df_EC_INT_IO_EXT= df_EC_INT_IO_EXT[[ 'DateTimeEventTT','deltaTime']]\n",
    "\n",
    "dates_ext = matplotlib.dates.date2num(df_EC_INT_IO_EXT['DateTimeEventTT'].to_numpy())\n",
    "matplotlib.pyplot.plot_date(dates_ext, df_EC_INT_IO_EXT['deltaTime'].to_numpy(),'m-')\n",
    "\n",
    "plt.ylabel('Time Difference (s)')\n",
    "plt.xlabel('Time')\n",
    "plt.title('Variation in eclipse Time for satellite 1')\n",
    "plt.legend(('INT-D', 'EXT-D', 'INT-F','EXT-F'))"
   ]
  },
  {
   "cell_type": "markdown",
   "metadata": {
    "pycharm": {
     "name": "#%% md\n"
    }
   },
   "source": [
    "## EUROPA"
   ]
  },
  {
   "cell_type": "code",
   "execution_count": 28,
   "metadata": {
    "scrolled": true
   },
   "outputs": [
    {
     "data": {
      "text/plain": [
       "<matplotlib.legend.Legend at 0x7f4611a49160>"
      ]
     },
     "execution_count": 28,
     "metadata": {},
     "output_type": "execute_result"
    },
    {
     "data": {
      "image/png": "[encoded data removed]",
      "text/plain": [
       "<Figure size 432x288 with 1 Axes>"
      ]
     },
     "metadata": {
      "needs_background": "light"
     },
     "output_type": "display_data"
    }
   ],
   "source": [
    "df_EC_INT_IO_INT= df[((df.Satellite == 2)&(df.Type1 == 'EC')&(df.Type2 == 'D')&(df.Type3 == 'INT'))]\n",
    "\n",
    "df_EC_INT_IO_INT= df_EC_INT_IO_INT[[ 'DateTimeEventTT','deltaTime']]\n",
    "\n",
    "dates_int = matplotlib.dates.date2num(df_EC_INT_IO_INT['DateTimeEventTT'].to_numpy())\n",
    "matplotlib.pyplot.plot_date(dates_int, df_EC_INT_IO_INT['deltaTime'].to_numpy(), 'b-')\n",
    "\n",
    "df_EC_INT_IO_EXT= df[((df.Satellite == 2)&(df.Type1 == 'EC')&(df.Type2 == 'D')&(df.Type3 == 'EXT'))]\n",
    "\n",
    "df_EC_INT_IO_EXT= df_EC_INT_IO_EXT[[ 'DateTimeEventTT','deltaTime']]\n",
    "\n",
    "dates_ext = matplotlib.dates.date2num(df_EC_INT_IO_EXT['DateTimeEventTT'].to_numpy())\n",
    "matplotlib.pyplot.plot_date(dates_ext, df_EC_INT_IO_EXT['deltaTime'].to_numpy(),'r-')\n",
    "\n",
    "plt.ylabel('Time Difference (s)')\n",
    "plt.xlabel('Time')\n",
    "plt.title('Variation in eclipse Time for satellite 2 - D')\n",
    "plt.legend(('INT', 'EXT'))"
   ]
  },
  {
   "cell_type": "markdown",
   "metadata": {},
   "source": [
    "For Io and Europa there is roughly a sin-function decribing their yearly variations with different pahase, amplitiude and frequency. The error seems to increase with an increasing incliation of the satellite's orbital plane if compared to the Jovian ecliptic, indicating that the error source might indeed be not having considered Jupiter's rotational axis inclination with regard to the jovian ecliptic."
   ]
  },
  {
   "cell_type": "code",
   "execution_count": 30,
   "metadata": {},
   "outputs": [
    {
     "data": {
      "text/plain": [
       "<matplotlib.legend.Legend at 0x7f4611890710>"
      ]
     },
     "execution_count": 30,
     "metadata": {},
     "output_type": "execute_result"
    },
    {
     "data": {
      "image/png": "[encoded data removed]",
      "text/plain": [
       "<Figure size 432x288 with 1 Axes>"
      ]
     },
     "metadata": {
      "needs_background": "light"
     },
     "output_type": "display_data"
    }
   ],
   "source": [
    "df_EC_INT_IO_INT= df[((df.Satellite == 2)&(df.Type1 == 'EC')&(df.Type2 == 'F')&(df.Type3 == 'INT'))]\n",
    "\n",
    "df_EC_INT_IO_INT= df_EC_INT_IO_INT[[ 'DateTimeEventTT','deltaTime']]\n",
    "\n",
    "dates_int = matplotlib.dates.date2num(df_EC_INT_IO_INT['DateTimeEventTT'].to_numpy())\n",
    "matplotlib.pyplot.plot_date(dates_int, df_EC_INT_IO_INT['deltaTime'].to_numpy(), 'b-')\n",
    "\n",
    "df_EC_INT_IO_EXT= df[((df.Satellite == 2)&(df.Type1 == 'EC')&(df.Type2 == 'F')&(df.Type3 == 'EXT'))]\n",
    "\n",
    "df_EC_INT_IO_EXT= df_EC_INT_IO_EXT[[ 'DateTimeEventTT','deltaTime']]\n",
    "\n",
    "dates_ext = matplotlib.dates.date2num(df_EC_INT_IO_EXT['DateTimeEventTT'].to_numpy())\n",
    "matplotlib.pyplot.plot_date(dates_ext, df_EC_INT_IO_EXT['deltaTime'].to_numpy(),'r-')\n",
    "\n",
    "plt.ylabel('Time Difference (s)')\n",
    "plt.xlabel('Time')\n",
    "plt.title('Variation in eclipse Time for satellite 2 - F')\n",
    "plt.legend(('INT', 'EXT'))"
   ]
  },
  {
   "cell_type": "code",
   "execution_count": 36,
   "metadata": {
    "scrolled": true
   },
   "outputs": [
    {
     "data": {
      "text/plain": [
       "<matplotlib.legend.Legend at 0x7f4611447940>"
      ]
     },
     "execution_count": 36,
     "metadata": {},
     "output_type": "execute_result"
    },
    {
     "data": {
      "image/png": "[encoded data removed]",
      "text/plain": [
       "<Figure size 432x288 with 1 Axes>"
      ]
     },
     "metadata": {
      "needs_background": "light"
     },
     "output_type": "display_data"
    }
   ],
   "source": [
    "df_EC_INT_IO_INT= df[((df.Satellite == 2)&(df.Type1 == 'EC')&(df.Type2 == 'D')&(df.Type3 == 'INT'))]\n",
    "\n",
    "df_EC_INT_IO_INT= df_EC_INT_IO_INT[[ 'DateTimeEventTT','deltaTime']]\n",
    "\n",
    "dates_int = matplotlib.dates.date2num(df_EC_INT_IO_INT['DateTimeEventTT'].to_numpy())\n",
    "matplotlib.pyplot.plot_date(dates_int, df_EC_INT_IO_INT['deltaTime'].to_numpy(), 'b-')\n",
    "\n",
    "df_EC_INT_IO_EXT= df[((df.Satellite == 2)&(df.Type1 == 'EC')&(df.Type2 == 'D')&(df.Type3 == 'EXT'))]\n",
    "\n",
    "df_EC_INT_IO_EXT= df_EC_INT_IO_EXT[[ 'DateTimeEventTT','deltaTime']]\n",
    "\n",
    "dates_ext = matplotlib.dates.date2num(df_EC_INT_IO_EXT['DateTimeEventTT'].to_numpy())\n",
    "matplotlib.pyplot.plot_date(dates_ext, df_EC_INT_IO_EXT['deltaTime'].to_numpy(),'r-')\n",
    "\n",
    "df_EC_INT_IO_INT= df[((df.Satellite == 2)&(df.Type1 == 'EC')&(df.Type2 == 'F')&(df.Type3 == 'INT'))]\n",
    "\n",
    "df_EC_INT_IO_INT= df_EC_INT_IO_INT[[ 'DateTimeEventTT','deltaTime']]\n",
    "\n",
    "dates_int = matplotlib.dates.date2num(df_EC_INT_IO_INT['DateTimeEventTT'].to_numpy())\n",
    "matplotlib.pyplot.plot_date(dates_int, df_EC_INT_IO_INT['deltaTime'].to_numpy(), 'g-')\n",
    "\n",
    "df_EC_INT_IO_EXT= df[((df.Satellite == 2)&(df.Type1 == 'EC')&(df.Type2 == 'F')&(df.Type3 == 'EXT'))]\n",
    "\n",
    "df_EC_INT_IO_EXT= df_EC_INT_IO_EXT[[ 'DateTimeEventTT','deltaTime']]\n",
    "\n",
    "dates_ext = matplotlib.dates.date2num(df_EC_INT_IO_EXT['DateTimeEventTT'].to_numpy())\n",
    "matplotlib.pyplot.plot_date(dates_ext, df_EC_INT_IO_EXT['deltaTime'].to_numpy(),'m-')\n",
    "\n",
    "plt.ylabel('Time Difference (s)')\n",
    "plt.xlabel('Time')\n",
    "plt.title('Variation in eclipse Time for satellite 2')\n",
    "plt.legend(('INT-D', 'EXT-D', 'INT-F','EXT-F'))"
   ]
  },
  {
   "cell_type": "markdown",
   "source": [
    "## CALLISTO"
   ],
   "metadata": {
    "collapsed": false
   }
  },
  {
   "cell_type": "code",
   "execution_count": null,
   "outputs": [],
   "source": [
    "df_EC_INT_IO_INT= df[((df.Satellite == 3)&(df.Type1 == 'EC')&(df.Type2 == 'D')&(df.Type3 == 'INT'))]\n",
    "\n",
    "df_EC_INT_IO_INT= df_EC_INT_IO_INT[[ 'DateTimeEventTT','deltaTime']]\n",
    "\n",
    "dates_int = matplotlib.dates.date2num(df_EC_INT_IO_INT['DateTimeEventTT'].to_numpy())\n",
    "matplotlib.pyplot.plot_date(dates_int, df_EC_INT_IO_INT['deltaTime'].to_numpy(), 'b-')\n",
    "\n",
    "df_EC_INT_IO_EXT= df[((df.Satellite == 3)&(df.Type1 == 'EC')&(df.Type2 == 'D')&(df.Type3 == 'EXT'))]\n",
    "\n",
    "df_EC_INT_IO_EXT= df_EC_INT_IO_EXT[[ 'DateTimeEventTT','deltaTime']]\n",
    "\n",
    "dates_int = matplotlib.dates.date2num(df_EC_INT_IO_EXT['DateTimeEventTT'].to_numpy())\n",
    "matplotlib.pyplot.plot_date(dates_int, df_EC_INT_IO_EXT['deltaTime'].to_numpy(), 'r-')\n",
    "\n",
    "plt.ylabel('Time Difference (s)')\n",
    "plt.xlabel('Time')\n",
    "plt.title('Variation in eclipse Time for satellite 3 - D')\n",
    "plt.legend(('INT-D', 'EXT-D'))"
   ],
   "metadata": {
    "collapsed": false,
    "pycharm": {
     "name": "#%%\n"
    }
   }
  },
  {
   "cell_type": "code",
   "execution_count": null,
   "outputs": [],
   "source": [
    "df_EC_INT_IO_INT= df[((df.Satellite == 3)&(df.Type1 == 'EC')&(df.Type2 == 'F')&(df.Type3 == 'INT'))]\n",
    "\n",
    "df_EC_INT_IO_INT= df_EC_INT_IO_INT[[ 'DateTimeEventTT','deltaTime']]\n",
    "\n",
    "dates_int = matplotlib.dates.date2num(df_EC_INT_IO_INT['DateTimeEventTT'].to_numpy())\n",
    "matplotlib.pyplot.plot_date(dates_int, df_EC_INT_IO_INT['deltaTime'].to_numpy(), 'b-')\n",
    "\n",
    "df_EC_INT_IO_EXT= df[((df.Satellite == 3)&(df.Type1 == 'EC')&(df.Type2 == 'F')&(df.Type3 == 'EXT'))]\n",
    "\n",
    "df_EC_INT_IO_EXT= df_EC_INT_IO_EXT[[ 'DateTimeEventTT','deltaTime']]\n",
    "\n",
    "dates_ext = matplotlib.dates.date2num(df_EC_INT_IO_EXT['DateTimeEventTT'].to_numpy())\n",
    "matplotlib.pyplot.plot_date(dates_ext, df_EC_INT_IO_EXT['deltaTime'].to_numpy(),'r-')\n",
    "\n",
    "plt.ylabel('Time Difference (s)')\n",
    "plt.xlabel('Time')\n",
    "plt.title('Variation in eclipse Time for satellite 3 - F')\n",
    "plt.legend(('INT', 'EXT'))"
   ],
   "metadata": {
    "collapsed": false,
    "pycharm": {
     "name": "#%%\n"
    }
   }
  },
  {
   "cell_type": "code",
   "execution_count": null,
   "outputs": [],
   "source": [
    "df_EC_INT_IO_INT= df[((df.Satellite == 3)&(df.Type1 == 'EC')&(df.Type2 == 'D')&(df.Type3 == 'INT'))]\n",
    "\n",
    "df_EC_INT_IO_INT= df_EC_INT_IO_INT[[ 'DateTimeEventTT','deltaTime']]\n",
    "\n",
    "dates_int = matplotlib.dates.date2num(df_EC_INT_IO_INT['DateTimeEventTT'].to_numpy())\n",
    "matplotlib.pyplot.plot_date(dates_int, df_EC_INT_IO_INT['deltaTime'].to_numpy(), 'b-')\n",
    "\n",
    "df_EC_INT_IO_EXT= df[((df.Satellite == 3)&(df.Type1 == 'EC')&(df.Type2 == 'D')&(df.Type3 == 'EXT'))]\n",
    "\n",
    "df_EC_INT_IO_EXT= df_EC_INT_IO_EXT[[ 'DateTimeEventTT','deltaTime']]\n",
    "\n",
    "dates_ext = matplotlib.dates.date2num(df_EC_INT_IO_EXT['DateTimeEventTT'].to_numpy())\n",
    "matplotlib.pyplot.plot_date(dates_ext, df_EC_INT_IO_EXT['deltaTime'].to_numpy(),'r-')\n",
    "\n",
    "df_EC_INT_IO_INT= df[((df.Satellite == 3)&(df.Type1 == 'EC')&(df.Type2 == 'F')&(df.Type3 == 'INT'))]\n",
    "\n",
    "df_EC_INT_IO_INT= df_EC_INT_IO_INT[[ 'DateTimeEventTT','deltaTime']]\n",
    "\n",
    "dates_int = matplotlib.dates.date2num(df_EC_INT_IO_INT['DateTimeEventTT'].to_numpy())\n",
    "matplotlib.pyplot.plot_date(dates_int, df_EC_INT_IO_INT['deltaTime'].to_numpy(), 'g-')\n",
    "\n",
    "df_EC_INT_IO_EXT= df[((df.Satellite == 3)&(df.Type1 == 'EC')&(df.Type2 == 'F')&(df.Type3 == 'EXT'))]\n",
    "\n",
    "df_EC_INT_IO_EXT= df_EC_INT_IO_EXT[[ 'DateTimeEventTT','deltaTime']]\n",
    "\n",
    "dates_ext = matplotlib.dates.date2num(df_EC_INT_IO_EXT['DateTimeEventTT'].to_numpy())\n",
    "matplotlib.pyplot.plot_date(dates_ext, df_EC_INT_IO_EXT['deltaTime'].to_numpy(),'m-')\n",
    "\n",
    "plt.ylabel('Time Difference (s)')\n",
    "plt.xlabel('Time')\n",
    "plt.title('Variation in eclipse Time for satellite 3')\n",
    "plt.legend(('INT-D', 'EXT-D', 'INT-F','EXT-F'))"
   ],
   "metadata": {
    "collapsed": false,
    "pycharm": {
     "name": "#%%\n"
    }
   }
  },
  {
   "cell_type": "markdown",
   "source": [
    "## GANYMEDE"
   ],
   "metadata": {
    "collapsed": false
   }
  },
  {
   "cell_type": "code",
   "execution_count": null,
   "outputs": [],
   "source": [
    "df_EC_INT_IO_INT= df[((df.Satellite == 4)&(df.Type1 == 'EC')&(df.Type2 == 'D')&(df.Type3 == 'INT'))]\n",
    "\n",
    "df_EC_INT_IO_INT= df_EC_INT_IO_INT[[ 'DateTimeEventTT','deltaTime']]\n",
    "\n",
    "dates_int = matplotlib.dates.date2num(df_EC_INT_IO_INT['DateTimeEventTT'].to_numpy())\n",
    "matplotlib.pyplot.plot_date(dates_int, df_EC_INT_IO_INT['deltaTime'].to_numpy(), 'b-')\n",
    "\n",
    "df_EC_INT_IO_EXT= df[((df.Satellite == 4)&(df.Type1 == 'EC')&(df.Type2 == 'D')&(df.Type3 == 'EXT'))]\n",
    "\n",
    "df_EC_INT_IO_EXT= df_EC_INT_IO_EXT[[ 'DateTimeEventTT','deltaTime']]\n",
    "\n",
    "dates_int = matplotlib.dates.date2num(df_EC_INT_IO_EXT['DateTimeEventTT'].to_numpy())\n",
    "matplotlib.pyplot.plot_date(dates_int, df_EC_INT_IO_EXT['deltaTime'].to_numpy(), 'r-')\n",
    "\n",
    "plt.ylabel('Time Difference (s)')\n",
    "plt.xlabel('Time')\n",
    "plt.title('Variation in eclipse Time for satellite 4 - D')\n",
    "plt.legend(('INT-D', 'EXT-D'))"
   ],
   "metadata": {
    "collapsed": false,
    "pycharm": {
     "name": "#%%\n"
    }
   }
  },
  {
   "cell_type": "code",
   "execution_count": null,
   "outputs": [],
   "source": [
    "df_EC_INT_IO_INT= df[((df.Satellite == 4)&(df.Type1 == 'EC')&(df.Type2 == 'F')&(df.Type3 == 'INT'))]\n",
    "\n",
    "df_EC_INT_IO_INT= df_EC_INT_IO_INT[[ 'DateTimeEventTT','deltaTime']]\n",
    "\n",
    "dates_int = matplotlib.dates.date2num(df_EC_INT_IO_INT['DateTimeEventTT'].to_numpy())\n",
    "matplotlib.pyplot.plot_date(dates_int, df_EC_INT_IO_INT['deltaTime'].to_numpy(), 'b-')\n",
    "\n",
    "df_EC_INT_IO_EXT= df[((df.Satellite == 4)&(df.Type1 == 'EC')&(df.Type2 == 'F')&(df.Type3 == 'EXT'))]\n",
    "\n",
    "df_EC_INT_IO_EXT= df_EC_INT_IO_EXT[[ 'DateTimeEventTT','deltaTime']]\n",
    "\n",
    "dates_ext = matplotlib.dates.date2num(df_EC_INT_IO_EXT['DateTimeEventTT'].to_numpy())\n",
    "matplotlib.pyplot.plot_date(dates_ext, df_EC_INT_IO_EXT['deltaTime'].to_numpy(),'r-')\n",
    "\n",
    "plt.ylabel('Time Difference (s)')\n",
    "plt.xlabel('Time')\n",
    "plt.title('Variation in eclipse Time for satellite 4 - F')\n",
    "plt.legend(('INT', 'EXT'))"
   ],
   "metadata": {
    "collapsed": false,
    "pycharm": {
     "name": "#%%\n"
    }
   }
  },
  {
   "cell_type": "code",
   "execution_count": null,
   "outputs": [],
   "source": [
    "df_EC_INT_IO_INT= df[((df.Satellite == 4)&(df.Type1 == 'EC')&(df.Type2 == 'D')&(df.Type3 == 'INT'))]\n",
    "\n",
    "df_EC_INT_IO_INT= df_EC_INT_IO_INT[[ 'DateTimeEventTT','deltaTime']]\n",
    "\n",
    "dates_int = matplotlib.dates.date2num(df_EC_INT_IO_INT['DateTimeEventTT'].to_numpy())\n",
    "matplotlib.pyplot.plot_date(dates_int, df_EC_INT_IO_INT['deltaTime'].to_numpy(), 'b-')\n",
    "\n",
    "df_EC_INT_IO_EXT= df[((df.Satellite == 4)&(df.Type1 == 'EC')&(df.Type2 == 'D')&(df.Type3 == 'EXT'))]\n",
    "\n",
    "df_EC_INT_IO_EXT= df_EC_INT_IO_EXT[[ 'DateTimeEventTT','deltaTime']]\n",
    "\n",
    "dates_ext = matplotlib.dates.date2num(df_EC_INT_IO_EXT['DateTimeEventTT'].to_numpy())\n",
    "matplotlib.pyplot.plot_date(dates_ext, df_EC_INT_IO_EXT['deltaTime'].to_numpy(),'r-')\n",
    "\n",
    "df_EC_INT_IO_INT= df[((df.Satellite == 4)&(df.Type1 == 'EC')&(df.Type2 == 'F')&(df.Type3 == 'INT'))]\n",
    "\n",
    "df_EC_INT_IO_INT= df_EC_INT_IO_INT[[ 'DateTimeEventTT','deltaTime']]\n",
    "\n",
    "dates_int = matplotlib.dates.date2num(df_EC_INT_IO_INT['DateTimeEventTT'].to_numpy())\n",
    "matplotlib.pyplot.plot_date(dates_int, df_EC_INT_IO_INT['deltaTime'].to_numpy(), 'g-')\n",
    "\n",
    "df_EC_INT_IO_EXT= df[((df.Satellite == 4)&(df.Type1 == 'EC')&(df.Type2 == 'F')&(df.Type3 == 'EXT'))]\n",
    "\n",
    "df_EC_INT_IO_EXT= df_EC_INT_IO_EXT[[ 'DateTimeEventTT','deltaTime']]\n",
    "\n",
    "dates_ext = matplotlib.dates.date2num(df_EC_INT_IO_EXT['DateTimeEventTT'].to_numpy())\n",
    "matplotlib.pyplot.plot_date(dates_ext, df_EC_INT_IO_EXT['deltaTime'].to_numpy(),'m-')\n",
    "\n",
    "plt.ylabel('Time Difference (s)')\n",
    "plt.xlabel('Time')\n",
    "plt.title('Variation in eclipse Time for satellite 4')\n",
    "plt.legend(('INT-D', 'EXT-D', 'INT-F','EXT-F'))"
   ],
   "metadata": {
    "collapsed": false,
    "pycharm": {
     "name": "#%%\n"
    }
   }
  },
  {
   "cell_type": "markdown",
   "source": [],
   "metadata": {
    "collapsed": false
   }
  },
  {
   "cell_type": "code",
   "execution_count": null,
   "outputs": [],
   "source": [
    "df_EC_INT_IO_INT= df[((df.Satellite == 1)&(df.Type1 == 'EC')&(df.Type2 == 'F')&(df.Type3 == 'INT'))]\n",
    "df_EC_INT_IO_INT= df_EC_INT_IO_INT[[ 'DateTimeEventTT','deltaTime']]\n",
    "\n",
    "dates_int = matplotlib.dates.date2num(df_EC_INT_IO_INT['DateTimeEventTT'].to_numpy())\n",
    "matplotlib.pyplot.plot_date(dates_int, df_EC_INT_IO_INT['deltaTime'].to_numpy(), 'b-')\n",
    "\n",
    "df_EC_INT_IO_INT= df[((df.Satellite == 2)&(df.Type1 == 'EC')&(df.Type2 == 'F')&(df.Type3 == 'INT'))]\n",
    "\n",
    "df_EC_INT_IO_INT= df_EC_INT_IO_INT[[ 'DateTimeEventTT','deltaTime']]\n",
    "\n",
    "dates_int = matplotlib.dates.date2num(df_EC_INT_IO_INT['DateTimeEventTT'].to_numpy())\n",
    "matplotlib.pyplot.plot_date(dates_int, df_EC_INT_IO_INT['deltaTime'].to_numpy(), 'r-')\n",
    "\n",
    "df_EC_INT_IO_INT= df[((df.Satellite == 3)&(df.Type1 == 'EC')&(df.Type2 == 'F')&(df.Type3 == 'INT'))]\n",
    "df_EC_INT_IO_INT= df_EC_INT_IO_INT[[ 'DateTimeEventTT','deltaTime']]\n",
    "\n",
    "dates_int = matplotlib.dates.date2num(df_EC_INT_IO_INT['DateTimeEventTT'].to_numpy())\n",
    "matplotlib.pyplot.plot_date(dates_int, df_EC_INT_IO_INT['deltaTime'].to_numpy(), 'g-')\n",
    "\n",
    "df_EC_INT_IO_INT= df[((df.Satellite == 4)&(df.Type1 == 'EC')&(df.Type2 == 'F')&(df.Type3 == 'INT'))]\n",
    "\n",
    "df_EC_INT_IO_INT= df_EC_INT_IO_INT[[ 'DateTimeEventTT','deltaTime']]\n",
    "\n",
    "dates_int = matplotlib.dates.date2num(df_EC_INT_IO_INT['DateTimeEventTT'].to_numpy())\n",
    "matplotlib.pyplot.plot_date(dates_int, df_EC_INT_IO_INT['deltaTime'].to_numpy(), 'm-')\n",
    "\n",
    "plt.ylabel('Time Difference (s)')\n",
    "plt.xlabel('Time')\n",
    "plt.title('Variation in eclipse Time for all satellites - F - INT')\n",
    "plt.legend(('IO', 'EUROPA', 'GANYMEDE', 'CALLISTO'))"
   ],
   "metadata": {
    "collapsed": false,
    "pycharm": {
     "name": "#%%\n"
    }
   }
  },
  {
   "cell_type": "code",
   "execution_count": null,
   "outputs": [],
   "source": [
    "df_EC_INT_IO_INT= df[((df.Satellite == 1)&(df.Type1 == 'EC')&(df.Type2 == 'D')&(df.Type3 == 'INT'))]\n",
    "df_EC_INT_IO_INT= df_EC_INT_IO_INT[[ 'DateTimeEventTT','deltaTime']]\n",
    "\n",
    "dates_int = matplotlib.dates.date2num(df_EC_INT_IO_INT['DateTimeEventTT'].to_numpy())\n",
    "matplotlib.pyplot.plot_date(dates_int, df_EC_INT_IO_INT['deltaTime'].to_numpy(), 'b-')\n",
    "\n",
    "df_EC_INT_IO_INT= df[((df.Satellite == 2)&(df.Type1 == 'EC')&(df.Type2 == 'D')&(df.Type3 == 'INT'))]\n",
    "\n",
    "df_EC_INT_IO_INT= df_EC_INT_IO_INT[[ 'DateTimeEventTT','deltaTime']]\n",
    "\n",
    "dates_int = matplotlib.dates.date2num(df_EC_INT_IO_INT['DateTimeEventTT'].to_numpy())\n",
    "matplotlib.pyplot.plot_date(dates_int, df_EC_INT_IO_INT['deltaTime'].to_numpy(), 'r-')\n",
    "\n",
    "df_EC_INT_IO_INT= df[((df.Satellite == 3)&(df.Type1 == 'EC')&(df.Type2 == 'D')&(df.Type3 == 'INT'))]\n",
    "df_EC_INT_IO_INT= df_EC_INT_IO_INT[[ 'DateTimeEventTT','deltaTime']]\n",
    "\n",
    "dates_int = matplotlib.dates.date2num(df_EC_INT_IO_INT['DateTimeEventTT'].to_numpy())\n",
    "matplotlib.pyplot.plot_date(dates_int, df_EC_INT_IO_INT['deltaTime'].to_numpy(), 'g-')\n",
    "\n",
    "df_EC_INT_IO_INT= df[((df.Satellite == 4)&(df.Type1 == 'EC')&(df.Type2 == 'D')&(df.Type3 == 'INT'))]\n",
    "\n",
    "df_EC_INT_IO_INT= df_EC_INT_IO_INT[[ 'DateTimeEventTT','deltaTime']]\n",
    "\n",
    "dates_int = matplotlib.dates.date2num(df_EC_INT_IO_INT['DateTimeEventTT'].to_numpy())\n",
    "matplotlib.pyplot.plot_date(dates_int, df_EC_INT_IO_INT['deltaTime'].to_numpy(), 'm-')\n",
    "\n",
    "plt.ylabel('Time Difference (s)')\n",
    "plt.xlabel('Time')\n",
    "plt.title('Variation in eclipse Time for all satellites - D - INT')\n",
    "plt.legend(('IO', 'EUROPA', 'GANYMEDE', 'CALLISTO'))"
   ],
   "metadata": {
    "collapsed": false,
    "pycharm": {
     "name": "#%%\n"
    }
   }
  },
  {
   "cell_type": "markdown",
   "metadata": {},
   "source": [
    "# Transits"
   ]
  },
  {
   "cell_type": "code",
   "execution_count": 39,
   "metadata": {
    "scrolled": true
   },
   "outputs": [
    {
     "data": {
      "text/plain": [
       "<matplotlib.legend.Legend at 0x7f4611a66a90>"
      ]
     },
     "execution_count": 39,
     "metadata": {},
     "output_type": "execute_result"
    },
    {
     "data": {
      "image/png": "[encoded data removed]",
      "text/plain": [
       "<Figure size 432x288 with 1 Axes>"
      ]
     },
     "metadata": {
      "needs_background": "light"
     },
     "output_type": "display_data"
    }
   ],
   "source": [
    "df_EC_INT_IO_INT= df[((df.Satellite == 3)&(df.Type1 == 'EC')&(df.Type2 == 'D')&(df.Type3 == 'INT'))]\n",
    "\n",
    "df_EC_INT_IO_INT= df_EC_INT_IO_INT[[ 'DateTimeEventTT','deltaTime']]\n",
    "\n",
    "dates_int = matplotlib.dates.date2num(df_EC_INT_IO_INT['DateTimeEventTT'].to_numpy())\n",
    "matplotlib.pyplot.plot_date(dates_int, df_EC_INT_IO_INT['deltaTime'].to_numpy(), 'b-')\n",
    "\n",
    "df_EC_INT_IO_EXT= df[((df.Satellite == 3)&(df.Type1 == 'EC')&(df.Type2 == 'D')&(df.Type3 == 'EXT'))]\n",
    "\n",
    "df_EC_INT_IO_EXT= df_EC_INT_IO_EXT[[ 'DateTimeEventTT','deltaTime']]\n",
    "\n",
    "dates_int = matplotlib.dates.date2num(df_EC_INT_IO_EXT['DateTimeEventTT'].to_numpy())\n",
    "matplotlib.pyplot.plot_date(dates_int, df_EC_INT_IO_EXT['deltaTime'].to_numpy(), 'r-')\n",
    "\n",
    "plt.ylabel('Time Difference (s)')\n",
    "plt.xlabel('Time')\n",
    "plt.title('Variation in eclipse Time for satellite 3 - D')\n",
    "plt.legend(('INT-D', 'EXT-D'))"
   ]
  },
  {
   "cell_type": "code",
   "execution_count": 30,
   "metadata": {
    "scrolled": true
   },
   "outputs": [
    {
     "data": {
      "text/plain": [
       "<matplotlib.legend.Legend at 0x7f4611890710>"
      ]
     },
     "execution_count": 30,
     "metadata": {},
     "output_type": "execute_result"
    },
    {
     "data": {
      "image/png": "[encoded data removed]",
      "text/plain": [
       "<Figure size 432x288 with 1 Axes>"
      ]
     },
     "metadata": {
      "needs_background": "light"
     },
     "output_type": "display_data"
    }
   ],
   "source": [
    "df_EC_INT_IO_INT= df[((df.Satellite == 3)&(df.Type1 == 'EC')&(df.Type2 == 'F')&(df.Type3 == 'INT'))]\n",
    "\n",
    "df_EC_INT_IO_INT= df_EC_INT_IO_INT[[ 'DateTimeEventTT','deltaTime']]\n",
    "\n",
    "dates_int = matplotlib.dates.date2num(df_EC_INT_IO_INT['DateTimeEventTT'].to_numpy())\n",
    "matplotlib.pyplot.plot_date(dates_int, df_EC_INT_IO_INT['deltaTime'].to_numpy(), 'b-')\n",
    "\n",
    "df_EC_INT_IO_EXT= df[((df.Satellite == 3)&(df.Type1 == 'EC')&(df.Type2 == 'F')&(df.Type3 == 'EXT'))]\n",
    "\n",
    "df_EC_INT_IO_EXT= df_EC_INT_IO_EXT[[ 'DateTimeEventTT','deltaTime']]\n",
    "\n",
    "dates_ext = matplotlib.dates.date2num(df_EC_INT_IO_EXT['DateTimeEventTT'].to_numpy())\n",
    "matplotlib.pyplot.plot_date(dates_ext, df_EC_INT_IO_EXT['deltaTime'].to_numpy(),'r-')\n",
    "\n",
    "plt.ylabel('Time Difference (s)')\n",
    "plt.xlabel('Time')\n",
    "plt.title('Variation in eclipse Time for satellite 3 - F')\n",
    "plt.legend(('INT', 'EXT'))"
   ]
  },
  {
   "cell_type": "code",
   "execution_count": 40,
   "metadata": {
    "scrolled": false
   },
   "outputs": [
    {
     "data": {
      "text/plain": [
       "<matplotlib.legend.Legend at 0x7f461179f668>"
      ]
     },
     "execution_count": 40,
     "metadata": {},
     "output_type": "execute_result"
    },
    {
     "data": {
      "image/png": "[encoded data removed]",
      "text/plain": [
       "<Figure size 432x288 with 1 Axes>"
      ]
     },
     "metadata": {
      "needs_background": "light"
     },
     "output_type": "display_data"
    }
   ],
   "source": [
    "df_EC_INT_IO_INT= df[((df.Satellite == 3)&(df.Type1 == 'EC')&(df.Type2 == 'D')&(df.Type3 == 'INT'))]\n",
    "\n",
    "df_EC_INT_IO_INT= df_EC_INT_IO_INT[[ 'DateTimeEventTT','deltaTime']]\n",
    "\n",
    "dates_int = matplotlib.dates.date2num(df_EC_INT_IO_INT['DateTimeEventTT'].to_numpy())\n",
    "matplotlib.pyplot.plot_date(dates_int, df_EC_INT_IO_INT['deltaTime'].to_numpy(), 'b-')\n",
    "\n",
    "df_EC_INT_IO_EXT= df[((df.Satellite == 3)&(df.Type1 == 'EC')&(df.Type2 == 'D')&(df.Type3 == 'EXT'))]\n",
    "\n",
    "df_EC_INT_IO_EXT= df_EC_INT_IO_EXT[[ 'DateTimeEventTT','deltaTime']]\n",
    "\n",
    "dates_ext = matplotlib.dates.date2num(df_EC_INT_IO_EXT['DateTimeEventTT'].to_numpy())\n",
    "matplotlib.pyplot.plot_date(dates_ext, df_EC_INT_IO_EXT['deltaTime'].to_numpy(),'r-')\n",
    "\n",
    "df_EC_INT_IO_INT= df[((df.Satellite == 3)&(df.Type1 == 'EC')&(df.Type2 == 'F')&(df.Type3 == 'INT'))]\n",
    "\n",
    "df_EC_INT_IO_INT= df_EC_INT_IO_INT[[ 'DateTimeEventTT','deltaTime']]\n",
    "\n",
    "dates_int = matplotlib.dates.date2num(df_EC_INT_IO_INT['DateTimeEventTT'].to_numpy())\n",
    "matplotlib.pyplot.plot_date(dates_int, df_EC_INT_IO_INT['deltaTime'].to_numpy(), 'g-')\n",
    "\n",
    "df_EC_INT_IO_EXT= df[((df.Satellite == 3)&(df.Type1 == 'EC')&(df.Type2 == 'F')&(df.Type3 == 'EXT'))]\n",
    "\n",
    "df_EC_INT_IO_EXT= df_EC_INT_IO_EXT[[ 'DateTimeEventTT','deltaTime']]\n",
    "\n",
    "dates_ext = matplotlib.dates.date2num(df_EC_INT_IO_EXT['DateTimeEventTT'].to_numpy())\n",
    "matplotlib.pyplot.plot_date(dates_ext, df_EC_INT_IO_EXT['deltaTime'].to_numpy(),'m-')\n",
    "\n",
    "plt.ylabel('Time Difference (s)')\n",
    "plt.xlabel('Time')\n",
    "plt.title('Variation in eclipse Time for satellite 3')\n",
    "plt.legend(('INT-D', 'EXT-D', 'INT-F','EXT-F'))"
   ]
  },
  {
   "cell_type": "markdown",
   "metadata": {},
   "source": [
    "## GANYMEDE"
   ]
  },
  {
   "cell_type": "code",
   "execution_count": 41,
   "metadata": {
    "scrolled": true
   },
   "outputs": [
    {
     "data": {
      "text/plain": [
       "<matplotlib.legend.Legend at 0x7f461125f8d0>"
      ]
     },
     "execution_count": 41,
     "metadata": {},
     "output_type": "execute_result"
    },
    {
     "data": {
      "image/png": "[encoded data removed]",
      "text/plain": [
       "<Figure size 432x288 with 1 Axes>"
      ]
     },
     "metadata": {
      "needs_background": "light"
     },
     "output_type": "display_data"
    }
   ],
   "source": [
    "df_EC_INT_IO_INT= df[((df.Satellite == 4)&(df.Type1 == 'EC')&(df.Type2 == 'D')&(df.Type3 == 'INT'))]\n",
    "\n",
    "df_EC_INT_IO_INT= df_EC_INT_IO_INT[[ 'DateTimeEventTT','deltaTime']]\n",
    "\n",
    "dates_int = matplotlib.dates.date2num(df_EC_INT_IO_INT['DateTimeEventTT'].to_numpy())\n",
    "matplotlib.pyplot.plot_date(dates_int, df_EC_INT_IO_INT['deltaTime'].to_numpy(), 'b-')\n",
    "\n",
    "df_EC_INT_IO_EXT= df[((df.Satellite == 4)&(df.Type1 == 'EC')&(df.Type2 == 'D')&(df.Type3 == 'EXT'))]\n",
    "\n",
    "df_EC_INT_IO_EXT= df_EC_INT_IO_EXT[[ 'DateTimeEventTT','deltaTime']]\n",
    "\n",
    "dates_int = matplotlib.dates.date2num(df_EC_INT_IO_EXT['DateTimeEventTT'].to_numpy())\n",
    "matplotlib.pyplot.plot_date(dates_int, df_EC_INT_IO_EXT['deltaTime'].to_numpy(), 'r-')\n",
    "\n",
    "plt.ylabel('Time Difference (s)')\n",
    "plt.xlabel('Time')\n",
    "plt.title('Variation in eclipse Time for satellite 4 - D')\n",
    "plt.legend(('INT-D', 'EXT-D'))"
   ]
  },
  {
   "cell_type": "code",
   "execution_count": 42,
   "metadata": {
    "scrolled": true
   },
   "outputs": [
    {
     "data": {
      "text/plain": [
       "<matplotlib.legend.Legend at 0x7f46111d9e10>"
      ]
     },
     "execution_count": 42,
     "metadata": {},
     "output_type": "execute_result"
    },
    {
     "data": {
      "image/png": "[encoded data removed]",
      "text/plain": [
       "<Figure size 432x288 with 1 Axes>"
      ]
     },
     "metadata": {
      "needs_background": "light"
     },
     "output_type": "display_data"
    }
   ],
   "source": [
    "df_EC_INT_IO_INT= df[((df.Satellite == 4)&(df.Type1 == 'EC')&(df.Type2 == 'F')&(df.Type3 == 'INT'))]\n",
    "\n",
    "df_EC_INT_IO_INT= df_EC_INT_IO_INT[[ 'DateTimeEventTT','deltaTime']]\n",
    "\n",
    "dates_int = matplotlib.dates.date2num(df_EC_INT_IO_INT['DateTimeEventTT'].to_numpy())\n",
    "matplotlib.pyplot.plot_date(dates_int, df_EC_INT_IO_INT['deltaTime'].to_numpy(), 'b-')\n",
    "\n",
    "df_EC_INT_IO_EXT= df[((df.Satellite == 4)&(df.Type1 == 'EC')&(df.Type2 == 'F')&(df.Type3 == 'EXT'))]\n",
    "\n",
    "df_EC_INT_IO_EXT= df_EC_INT_IO_EXT[[ 'DateTimeEventTT','deltaTime']]\n",
    "\n",
    "dates_ext = matplotlib.dates.date2num(df_EC_INT_IO_EXT['DateTimeEventTT'].to_numpy())\n",
    "matplotlib.pyplot.plot_date(dates_ext, df_EC_INT_IO_EXT['deltaTime'].to_numpy(),'r-')\n",
    "\n",
    "plt.ylabel('Time Difference (s)')\n",
    "plt.xlabel('Time')\n",
    "plt.title('Variation in eclipse Time for satellite 4 - F')\n",
    "plt.legend(('INT', 'EXT'))"
   ]
  },
  {
   "cell_type": "code",
   "execution_count": 43,
   "metadata": {
    "scrolled": false
   },
   "outputs": [
    {
     "data": {
      "text/plain": [
       "<matplotlib.legend.Legend at 0x7f4611157518>"
      ]
     },
     "execution_count": 43,
     "metadata": {},
     "output_type": "execute_result"
    },
    {
     "data": {
      "image/png": "[encoded data removed]",
      "text/plain": [
       "<Figure size 432x288 with 1 Axes>"
      ]
     },
     "metadata": {
      "needs_background": "light"
     },
     "output_type": "display_data"
    }
   ],
   "source": [
    "df_EC_INT_IO_INT= df[((df.Satellite == 4)&(df.Type1 == 'EC')&(df.Type2 == 'D')&(df.Type3 == 'INT'))]\n",
    "\n",
    "df_EC_INT_IO_INT= df_EC_INT_IO_INT[[ 'DateTimeEventTT','deltaTime']]\n",
    "\n",
    "dates_int = matplotlib.dates.date2num(df_EC_INT_IO_INT['DateTimeEventTT'].to_numpy())\n",
    "matplotlib.pyplot.plot_date(dates_int, df_EC_INT_IO_INT['deltaTime'].to_numpy(), 'b-')\n",
    "\n",
    "df_EC_INT_IO_EXT= df[((df.Satellite == 4)&(df.Type1 == 'EC')&(df.Type2 == 'D')&(df.Type3 == 'EXT'))]\n",
    "\n",
    "df_EC_INT_IO_EXT= df_EC_INT_IO_EXT[[ 'DateTimeEventTT','deltaTime']]\n",
    "\n",
    "dates_ext = matplotlib.dates.date2num(df_EC_INT_IO_EXT['DateTimeEventTT'].to_numpy())\n",
    "matplotlib.pyplot.plot_date(dates_ext, df_EC_INT_IO_EXT['deltaTime'].to_numpy(),'r-')\n",
    "\n",
    "df_EC_INT_IO_INT= df[((df.Satellite == 4)&(df.Type1 == 'EC')&(df.Type2 == 'F')&(df.Type3 == 'INT'))]\n",
    "\n",
    "df_EC_INT_IO_INT= df_EC_INT_IO_INT[[ 'DateTimeEventTT','deltaTime']]\n",
    "\n",
    "dates_int = matplotlib.dates.date2num(df_EC_INT_IO_INT['DateTimeEventTT'].to_numpy())\n",
    "matplotlib.pyplot.plot_date(dates_int, df_EC_INT_IO_INT['deltaTime'].to_numpy(), 'g-')\n",
    "\n",
    "df_EC_INT_IO_EXT= df[((df.Satellite == 4)&(df.Type1 == 'EC')&(df.Type2 == 'F')&(df.Type3 == 'EXT'))]\n",
    "\n",
    "df_EC_INT_IO_EXT= df_EC_INT_IO_EXT[[ 'DateTimeEventTT','deltaTime']]\n",
    "\n",
    "dates_ext = matplotlib.dates.date2num(df_EC_INT_IO_EXT['DateTimeEventTT'].to_numpy())\n",
    "matplotlib.pyplot.plot_date(dates_ext, df_EC_INT_IO_EXT['deltaTime'].to_numpy(),'m-')\n",
    "\n",
    "plt.ylabel('Time Difference (s)')\n",
    "plt.xlabel('Time')\n",
    "plt.title('Variation in eclipse Time for satellite 4')\n",
    "plt.legend(('INT-D', 'EXT-D', 'INT-F','EXT-F'))"
   ]
  },
  {
   "cell_type": "markdown",
   "metadata": {},
   "source": []
  },
  {
   "cell_type": "code",
   "execution_count": 48,
   "metadata": {},
   "outputs": [
    {
     "data": {
      "text/plain": [
       "<matplotlib.legend.Legend at 0x7f4610e621d0>"
      ]
     },
     "execution_count": 48,
     "metadata": {},
     "output_type": "execute_result"
    },
    {
     "data": {
      "image/png": "[encoded data removed]",
      "text/plain": [
       "<Figure size 432x288 with 1 Axes>"
      ]
     },
     "metadata": {
      "needs_background": "light"
     },
     "output_type": "display_data"
    }
   ],
   "source": [
    "df_EC_INT_IO_INT= df[((df.Satellite == 1)&(df.Type1 == 'EC')&(df.Type2 == 'F')&(df.Type3 == 'INT'))]\n",
    "df_EC_INT_IO_INT= df_EC_INT_IO_INT[[ 'DateTimeEventTT','deltaTime']]\n",
    "\n",
    "dates_int = matplotlib.dates.date2num(df_EC_INT_IO_INT['DateTimeEventTT'].to_numpy())\n",
    "matplotlib.pyplot.plot_date(dates_int, df_EC_INT_IO_INT['deltaTime'].to_numpy(), 'b-')\n",
    "\n",
    "df_EC_INT_IO_INT= df[((df.Satellite == 2)&(df.Type1 == 'EC')&(df.Type2 == 'F')&(df.Type3 == 'INT'))]\n",
    "\n",
    "df_EC_INT_IO_INT= df_EC_INT_IO_INT[[ 'DateTimeEventTT','deltaTime']]\n",
    "\n",
    "dates_int = matplotlib.dates.date2num(df_EC_INT_IO_INT['DateTimeEventTT'].to_numpy())\n",
    "matplotlib.pyplot.plot_date(dates_int, df_EC_INT_IO_INT['deltaTime'].to_numpy(), 'r-')\n",
    "\n",
    "df_EC_INT_IO_INT= df[((df.Satellite == 3)&(df.Type1 == 'EC')&(df.Type2 == 'F')&(df.Type3 == 'INT'))]\n",
    "df_EC_INT_IO_INT= df_EC_INT_IO_INT[[ 'DateTimeEventTT','deltaTime']]\n",
    "\n",
    "dates_int = matplotlib.dates.date2num(df_EC_INT_IO_INT['DateTimeEventTT'].to_numpy())\n",
    "matplotlib.pyplot.plot_date(dates_int, df_EC_INT_IO_INT['deltaTime'].to_numpy(), 'g-')\n",
    "\n",
    "df_EC_INT_IO_INT= df[((df.Satellite == 4)&(df.Type1 == 'EC')&(df.Type2 == 'F')&(df.Type3 == 'INT'))]\n",
    "\n",
    "df_EC_INT_IO_INT= df_EC_INT_IO_INT[[ 'DateTimeEventTT','deltaTime']]\n",
    "\n",
    "dates_int = matplotlib.dates.date2num(df_EC_INT_IO_INT['DateTimeEventTT'].to_numpy())\n",
    "matplotlib.pyplot.plot_date(dates_int, df_EC_INT_IO_INT['deltaTime'].to_numpy(), 'm-')\n",
    "\n",
    "plt.ylabel('Time Difference (s)')\n",
    "plt.xlabel('Time')\n",
    "plt.title('Variation in eclipse Time for all satellites - F - INT')\n",
    "plt.legend(('IO', 'EUROPA', 'GANYMEDE', 'CALLISTO'))"
   ]
  },
  {
   "cell_type": "code",
   "execution_count": 49,
   "metadata": {},
   "outputs": [
    {
     "data": {
      "text/plain": [
       "<matplotlib.legend.Legend at 0x7f4610de61d0>"
      ]
     },
     "execution_count": 49,
     "metadata": {},
     "output_type": "execute_result"
    },
    {
     "data": {
      "image/png": "[encoded data removed]",
      "text/plain": [
       "<Figure size 432x288 with 1 Axes>"
      ]
     },
     "metadata": {
      "needs_background": "light"
     },
     "output_type": "display_data"
    }
   ],
   "source": [
    "df_EC_INT_IO_INT= df[((df.Satellite == 1)&(df.Type1 == 'EC')&(df.Type2 == 'D')&(df.Type3 == 'INT'))]\n",
    "df_EC_INT_IO_INT= df_EC_INT_IO_INT[[ 'DateTimeEventTT','deltaTime']]\n",
    "\n",
    "dates_int = matplotlib.dates.date2num(df_EC_INT_IO_INT['DateTimeEventTT'].to_numpy())\n",
    "matplotlib.pyplot.plot_date(dates_int, df_EC_INT_IO_INT['deltaTime'].to_numpy(), 'b-')\n",
    "\n",
    "df_EC_INT_IO_INT= df[((df.Satellite == 2)&(df.Type1 == 'EC')&(df.Type2 == 'D')&(df.Type3 == 'INT'))]\n",
    "\n",
    "df_EC_INT_IO_INT= df_EC_INT_IO_INT[[ 'DateTimeEventTT','deltaTime']]\n",
    "\n",
    "dates_int = matplotlib.dates.date2num(df_EC_INT_IO_INT['DateTimeEventTT'].to_numpy())\n",
    "matplotlib.pyplot.plot_date(dates_int, df_EC_INT_IO_INT['deltaTime'].to_numpy(), 'r-')\n",
    "\n",
    "df_EC_INT_IO_INT= df[((df.Satellite == 3)&(df.Type1 == 'EC')&(df.Type2 == 'D')&(df.Type3 == 'INT'))]\n",
    "df_EC_INT_IO_INT= df_EC_INT_IO_INT[[ 'DateTimeEventTT','deltaTime']]\n",
    "\n",
    "dates_int = matplotlib.dates.date2num(df_EC_INT_IO_INT['DateTimeEventTT'].to_numpy())\n",
    "matplotlib.pyplot.plot_date(dates_int, df_EC_INT_IO_INT['deltaTime'].to_numpy(), 'g-')\n",
    "\n",
    "df_EC_INT_IO_INT= df[((df.Satellite == 4)&(df.Type1 == 'EC')&(df.Type2 == 'D')&(df.Type3 == 'INT'))]\n",
    "\n",
    "df_EC_INT_IO_INT= df_EC_INT_IO_INT[[ 'DateTimeEventTT','deltaTime']]\n",
    "\n",
    "dates_int = matplotlib.dates.date2num(df_EC_INT_IO_INT['DateTimeEventTT'].to_numpy())\n",
    "matplotlib.pyplot.plot_date(dates_int, df_EC_INT_IO_INT['deltaTime'].to_numpy(), 'm-')\n",
    "\n",
    "plt.ylabel('Time Difference (s)')\n",
    "plt.xlabel('Time')\n",
    "plt.title('Variation in eclipse Time for all satellites - D - INT')\n",
    "plt.legend(('IO', 'EUROPA', 'GANYMEDE', 'CALLISTO'))"
   ]
  },
  {
   "cell_type": "markdown",
   "metadata": {},
   "source": [
    "# Transits"
   ]
  },
  {
   "cell_type": "code",
   "execution_count": null,
   "metadata": {},
   "outputs": [],
   "source": [
    "df_PA_INT_IO= df[((df.Satellite == 1)&(df.Type1 == 'PA')&(df.Type2 == 'D')&(df.Type3 == 'EXT'))]\n",
    "\n",
    "df_PA_INT_IO= df_PA_INT_IO[[ 'DateTimeEventTT','deltaTime']]\n",
    "\n",
    "dates = matplotlib.dates.date2num(df_PA_INT_IO['DateTimeEventTT'].to_numpy())\n",
    "matplotlib.pyplot.plot_date(dates, df_PA_INT_IO['deltaTime'].to_numpy())\n",
    "\n",
    "df_PA_INT_EUROPA= df[((df.Satellite == 2)&(df.Type1 == 'PA')&(df.Type2 == 'D')&(df.Type3 == 'EXT'))]\n",
    "\n",
    "df_PA_INT_EUROPA= df_PA_INT_EUROPA[[ 'DateTimeEventTT','deltaTime']]\n",
    "\n",
    "dates = matplotlib.dates.date2num(df_PA_INT_EUROPA['DateTimeEventTT'].to_numpy())\n",
    "matplotlib.pyplot.plot_date(dates, df_PA_INT_EUROPA['deltaTime'].to_numpy())\n",
    "\n",
    "df_PA_INT_GANYMEDE= df[((df.Satellite == 3)&(df.Type1 == 'PA')&(df.Type2 == 'D')&(df.Type3 == 'EXT'))]\n",
    "\n",
    "df_PA_INT_GANYMEDE= df_PA_INT_GANYMEDE[[ 'DateTimeEventTT','deltaTime']]\n",
    "\n",
    "dates = matplotlib.dates.date2num(df_PA_INT_GANYMEDE['DateTimeEventTT'].to_numpy())\n",
    "matplotlib.pyplot.plot_date(dates, df_PA_INT_GANYMEDE['deltaTime'].to_numpy())\n",
    "\n",
    "df_PA_INT_CALLISTO= df[((df.Satellite == 4)&(df.Type1 == 'PA')&(df.Type2 == 'D')&(df.Type3 == 'EXT'))]\n",
    "\n",
    "df_PA_INT_CALLISTO= df_PA_INT_CALLISTO[[ 'DateTimeEventTT','deltaTime']]\n",
    "\n",
    "dates = matplotlib.dates.date2num(df_PA_INT_CALLISTO['DateTimeEventTT'].to_numpy())\n",
    "matplotlib.pyplot.plot_date(dates, df_PA_INT_CALLISTO['deltaTime'].to_numpy())"
   ]
  },
  {
   "cell_type": "markdown",
   "metadata": {},
   "source": [
    "Again, greater offset with greater orbital inclination of the moon, seems to be similar to the assumpstions relating to the umbral phenomena. Is really probably correlated to the false assumption that jupiter's rotational axis is consideres to  be perpendicuilar thowards Earth. The greater error in the second section of the curve is probably correlated to the difference in our currently implemented model, which does not consider the phase of Jupiter. \n",
    "\n",
    "Strikingy logically, one can see the moment in which Jupiter gets perspectivelly overrun by earth, thus the side with a phase changes.\n",
    "\n",
    "The curves for the begiining and ending of the phenomena are of course inverted, as the phase on different perspective sides must be taken into accoutn respectively.\n",
    "\n",
    "The fact that the variation for the side of jupiter not interested by the pahse seems to be yearly points thowards the last hypothesis.\n",
    "\n",
    "Not condisering the pahse correction gives a sin-artifact with higher amplitude"
   ]
  },
  {
   "cell_type": "code",
   "execution_count": null,
   "metadata": {},
   "outputs": [],
   "source": [
    "df_PA_INT_IO= df[((df.Satellite == 1)&(df.Type1 == 'PA')&(df.Type2 == 'F')&(df.Type3 == 'EXT'))]\n",
    "\n",
    "df_PA_INT_IO= df_PA_INT_IO[[ 'DateTimeEventTT','deltaTime']]\n",
    "\n",
    "dates = matplotlib.dates.date2num(df_PA_INT_IO['DateTimeEventTT'].to_numpy())\n",
    "matplotlib.pyplot.plot_date(dates, df_PA_INT_IO['deltaTime'].to_numpy())\n",
    "\n",
    "df_PA_INT_EUROPA= df[((df.Satellite == 2)&(df.Type1 == 'PA')&(df.Type2 == 'F')&(df.Type3 == 'EXT'))]\n",
    "\n",
    "df_PA_INT_EUROPA= df_PA_INT_EUROPA[[ 'DateTimeEventTT','deltaTime']]\n",
    "\n",
    "dates = matplotlib.dates.date2num(df_PA_INT_EUROPA['DateTimeEventTT'].to_numpy())\n",
    "matplotlib.pyplot.plot_date(dates, df_PA_INT_EUROPA['deltaTime'].to_numpy())\n",
    "\n",
    "df_PA_INT_GANYMEDE= df[((df.Satellite == 3)&(df.Type1 == 'PA')&(df.Type2 == 'F')&(df.Type3 == 'EXT'))]\n",
    "\n",
    "df_PA_INT_GANYMEDE= df_PA_INT_GANYMEDE[[ 'DateTimeEventTT','deltaTime']]\n",
    "\n",
    "dates = matplotlib.dates.date2num(df_PA_INT_GANYMEDE['DateTimeEventTT'].to_numpy())\n",
    "matplotlib.pyplot.plot_date(dates, df_PA_INT_GANYMEDE['deltaTime'].to_numpy())\n",
    "\n",
    "df_PA_INT_CALLISTO= df[((df.Satellite == 4)&(df.Type1 == 'PA')&(df.Type2 == 'F')&(df.Type3 == 'EXT'))]\n",
    "\n",
    "df_PA_INT_CALLISTO= df_PA_INT_CALLISTO[[ 'DateTimeEventTT','deltaTime']]\n",
    "\n",
    "dates = matplotlib.dates.date2num(df_PA_INT_CALLISTO['DateTimeEventTT'].to_numpy())\n",
    "matplotlib.pyplot.plot_date(dates, df_PA_INT_CALLISTO['deltaTime'].to_numpy())"
   ]
  },
  {
   "cell_type": "code",
   "execution_count": null,
   "metadata": {},
   "outputs": [],
   "source": [
    "df_PA_INT_IO= df[((df.Satellite == 1)&(df.Type1 == 'PA')&(df.Type2 == 'D')&(df.Type3 == 'INT'))].deltaTime\n",
    "\n",
    "plt.plot(df_PA_INT_IO.to_numpy())\n",
    "\n",
    "df_PA_EXT_IO= df[((df.Satellite == 1)&(df.Type1 == 'PA')&(df.Type2 == 'D')&(df.Type3 == 'EXT'))].deltaTime\n",
    "\n",
    "plt.plot(df_PA_EXT_IO.to_numpy())\n"
   ]
  },
  {
   "cell_type": "code",
   "execution_count": null,
   "metadata": {},
   "outputs": [],
   "source": [
    "df_PA_INT_IO= df[((df.Satellite == 1)&(df.Type1 == 'PA')&(df.Type2 == 'F')&(df.Type3 == 'INT'))].deltaTime\n",
    "\n",
    "plt.plot(df_PA_INT_IO.to_numpy())\n",
    "\n",
    "df_PA_EXT_IO= df[((df.Satellite == 1)&(df.Type1 == 'PA')&(df.Type2 == 'F')&(df.Type3 == 'EXT'))].deltaTime\n",
    "\n",
    "plt.plot(df_PA_EXT_IO.to_numpy())"
   ]
  },
  {
   "cell_type": "code",
   "execution_count": null,
   "metadata": {},
   "outputs": [],
   "source": [
    "df_PA_INT_IO= df[((df.Satellite == 1)&(df.Type1 == 'PA')&(df.Type2 == 'D')&(df.Type3 == 'INT'))].deltaTime\n",
    "\n",
    "plt.plot(df_PA_INT_IO.to_numpy())\n",
    "\n",
    "df_PA_EXT_IO= df[((df.Satellite == 1)&(df.Type1 == 'PA')&(df.Type2 == 'D')&(df.Type3 == 'EXT'))].deltaTime\n",
    "\n",
    "plt.plot(df_PA_EXT_IO.to_numpy())\n",
    "\n",
    "df_PA_INT_IO= df[((df.Satellite == 1)&(df.Type1 == 'PA')&(df.Type2 == 'F')&(df.Type3 == 'INT'))].deltaTime\n",
    "\n",
    "plt.plot(df_PA_INT_IO.to_numpy())\n",
    "\n",
    "df_PA_EXT_IO= df[((df.Satellite == 1)&(df.Type1 == 'PA')&(df.Type2 == 'F')&(df.Type3 == 'EXT'))].deltaTime\n",
    "\n",
    "plt.plot(df_PA_EXT_IO.to_numpy())"
   ]
  },
  {
   "cell_type": "code",
   "execution_count": null,
   "metadata": {},
   "outputs": [],
   "source": [
    "df_PA_INT_EUROPA= df[((df.Satellite == 2)&(df.Type1 == 'PA')&(df.Type2 == 'D')&(df.Type3 == 'INT'))].deltaTime\n",
    "\n",
    "plt.plot(df_PA_INT_EUROPA.to_numpy())\n",
    "\n",
    "df_PA_EXT_EUROPA= df[((df.Satellite == 2)&(df.Type1 == 'PA')&(df.Type2 == 'D')&(df.Type3 == 'EXT'))].deltaTime\n",
    "\n",
    "plt.plot(df_PA_EXT_EUROPA.to_numpy())\n"
   ]
  },
  {
   "cell_type": "code",
   "execution_count": null,
   "metadata": {},
   "outputs": [],
   "source": [
    "df_PA_INT_EUROPA= df[((df.Satellite == 2)&(df.Type1 == 'PA')&(df.Type2 == 'F')&(df.Type3 == 'INT'))].deltaTime\n",
    "\n",
    "plt.plot(df_PA_INT_EUROPA.to_numpy())\n",
    "\n",
    "df_PA_EXT_EUROPA= df[((df.Satellite == 2)&(df.Type1 == 'PA')&(df.Type2 == 'F')&(df.Type3 == 'EXT'))].deltaTime\n",
    "\n",
    "plt.plot(df_PA_EXT_EUROPA.to_numpy())\n"
   ]
  },
  {
   "cell_type": "code",
   "execution_count": null,
   "metadata": {},
   "outputs": [],
   "source": [
    "df_PA_INT_EUROPA= df[((df.Satellite == 2)&(df.Type1 == 'PA')&(df.Type2 == 'D')&(df.Type3 == 'INT'))].deltaTime\n",
    "\n",
    "plt.plot(df_PA_INT_EUROPA.to_numpy())\n",
    "\n",
    "df_PA_EXT_EUROPA= df[((df.Satellite == 2)&(df.Type1 == 'PA')&(df.Type2 == 'D')&(df.Type3 == 'EXT'))].deltaTime\n",
    "\n",
    "plt.plot(df_PA_EXT_EUROPA.to_numpy())\n",
    "\n",
    "df_PA_INT_EUROPA= df[((df.Satellite == 2)&(df.Type1 == 'PA')&(df.Type2 == 'F')&(df.Type3 == 'INT'))].deltaTime\n",
    "\n",
    "plt.plot(df_PA_INT_EUROPA.to_numpy())\n",
    "\n",
    "df_PA_EXT_EUROPA= df[((df.Satellite == 2)&(df.Type1 == 'PA')&(df.Type2 == 'F')&(df.Type3 == 'EXT'))].deltaTime\n",
    "\n",
    "plt.plot(df_PA_EXT_EUROPA.to_numpy())"
   ]
  },
  {
   "cell_type": "code",
   "execution_count": null,
   "metadata": {
    "scrolled": false
   },
   "outputs": [],
   "source": [
    "df_PA_INT_GANYMEDE= df[((df.Satellite == 3)&(df.Type1 == 'PA')&(df.Type2 == 'D')&(df.Type3 == 'INT'))].deltaTime\n",
    "\n",
    "plt.plot(df_PA_INT_GANYMEDE.to_numpy())\n",
    "\n",
    "df_PA_EXT_GANYMEDE= df[((df.Satellite == 3)&(df.Type1 == 'PA')&(df.Type2 == 'D')&(df.Type3 == 'EXT'))].deltaTime\n",
    "\n",
    "plt.plot(df_PA_EXT_GANYMEDE.to_numpy())"
   ]
  },
  {
   "cell_type": "code",
   "execution_count": null,
   "metadata": {
    "scrolled": false
   },
   "outputs": [],
   "source": [
    "df_PA_INT_GANYMEDE= df[((df.Satellite == 3)&(df.Type1 == 'PA')&(df.Type2 == 'F')&(df.Type3 == 'INT'))].deltaTime\n",
    "\n",
    "plt.plot(df_PA_INT_GANYMEDE.to_numpy())\n",
    "\n",
    "df_PA_EXT_GANYMEDE= df[((df.Satellite == 3)&(df.Type1 == 'PA')&(df.Type2 == 'F')&(df.Type3 == 'EXT'))].deltaTime\n",
    "\n",
    "plt.plot(df_PA_EXT_GANYMEDE.to_numpy())"
   ]
  },
  {
   "cell_type": "code",
   "execution_count": null,
   "metadata": {
    "scrolled": true
   },
   "outputs": [],
   "source": [
    "df_PA_INT_GANYMEDE= df[((df.Satellite == 3)&(df.Type1 == 'PA')&(df.Type2 == 'D')&(df.Type3 == 'INT'))].deltaTime\n",
    "\n",
    "plt.plot(df_PA_INT_GANYMEDE.to_numpy())\n",
    "\n",
    "df_PA_EXT_GANYMEDE= df[((df.Satellite == 3)&(df.Type1 == 'PA')&(df.Type2 == 'D')&(df.Type3 == 'EXT'))].deltaTime\n",
    "\n",
    "plt.plot(df_PA_EXT_GANYMEDE.to_numpy())\n",
    "\n",
    "df_PA_INT_GANYMEDE= df[((df.Satellite == 3)&(df.Type1 == 'PA')&(df.Type2 == 'F')&(df.Type3 == 'INT'))].deltaTime\n",
    "\n",
    "plt.plot(df_PA_INT_GANYMEDE.to_numpy())\n",
    "\n",
    "df_PA_EXT_GANYMEDE= df[((df.Satellite == 3)&(df.Type1 == 'PA')&(df.Type2 == 'F')&(df.Type3 == 'EXT'))].deltaTime\n",
    "\n",
    "plt.plot(df_PA_EXT_GANYMEDE.to_numpy())"
   ]
  },
  {
   "cell_type": "code",
   "execution_count": null,
   "metadata": {
    "scrolled": true
   },
   "outputs": [],
   "source": [
    "df_PA_INT_CALLISTO= df[((df.Satellite == 4)&(df.Type1 == 'PA')&(df.Type2 == 'D')&(df.Type3 == 'INT'))].deltaTime\n",
    "\n",
    "plt.plot(df_PA_INT_CALLISTO.to_numpy())\n",
    "\n",
    "df_PA_EXT_CALLISTO= df[((df.Satellite == 4)&(df.Type1 == 'PA')&(df.Type2 == 'D')&(df.Type3 == 'EXT'))].deltaTime\n",
    "\n",
    "plt.plot(df_PA_EXT_CALLISTO.to_numpy())"
   ]
  },
  {
   "cell_type": "code",
   "execution_count": null,
   "metadata": {},
   "outputs": [],
   "source": [
    "df_PA_INT_CALLISTO= df[((df.Satellite == 4)&(df.Type1 == 'PA')&(df.Type2 == 'F')&(df.Type3 == 'INT'))].deltaTime\n",
    "\n",
    "plt.plot(df_PA_INT_CALLISTO.to_numpy())\n",
    "\n",
    "df_PA_EXT_CALLISTO= df[((df.Satellite == 4)&(df.Type1 == 'PA')&(df.Type2 == 'F')&(df.Type3 == 'EXT'))].deltaTime\n",
    "\n",
    "plt.plot(df_PA_EXT_CALLISTO.to_numpy())"
   ]
  },
  {
   "cell_type": "code",
   "execution_count": null,
   "metadata": {
    "scrolled": false
   },
   "outputs": [],
   "source": [
    "df_PA_INT_CALLISTO= df[((df.Satellite == 4)&(df.Type1 == 'PA')&(df.Type2 == 'D')&(df.Type3 == 'INT'))].deltaTime\n",
    "\n",
    "plt.plot(df_PA_INT_CALLISTO.to_numpy())\n",
    "\n",
    "df_PA_EXT_CALLISTO= df[((df.Satellite == 4)&(df.Type1 == 'PA')&(df.Type2 == 'D')&(df.Type3 == 'EXT'))].deltaTime\n",
    "\n",
    "plt.plot(df_PA_EXT_CALLISTO.to_numpy())\n",
    "\n",
    "df_PA_INT_CALLISTO= df[((df.Satellite == 4)&(df.Type1 == 'PA')&(df.Type2 == 'F')&(df.Type3 == 'INT'))].deltaTime\n",
    "\n",
    "plt.plot(df_PA_INT_CALLISTO.to_numpy())\n",
    "\n",
    "df_PA_EXT_CALLISTO= df[((df.Satellite == 4)&(df.Type1 == 'PA')&(df.Type2 == 'F')&(df.Type3 == 'EXT'))].deltaTime\n",
    "\n",
    "plt.plot(df_PA_EXT_CALLISTO.to_numpy())"
   ]
  },
  {
   "cell_type": "markdown",
   "metadata": {},
   "source": [
    "Almost perfect correlation, the database seems to break in july, this needs to be investigated"
   ]
  },
  {
   "cell_type": "markdown",
   "metadata": {},
   "source": [
    "# Transit of the Umbra"
   ]
  },
  {
   "cell_type": "code",
   "execution_count": null,
   "metadata": {},
   "outputs": [],
   "source": [
    "df_OM_INT_IO= df[((df.Satellite == 1)&(df.Type1 == 'OM')&(df.Type2 == 'D')&(df.Type3 == 'EXT'))]\n",
    "\n",
    "df_OM_INT_IO= df_OM_INT_IO[[ 'DateTimeEventTT','deltaTime']]\n",
    "\n",
    "dates = matplotlib.dates.date2num(df_OM_INT_IO['DateTimeEventTT'].to_numpy())\n",
    "matplotlib.pyplot.plot_date(dates, df_OM_INT_IO['deltaTime'].to_numpy())\n",
    "\n",
    "df_OM_INT_EUROPA= df[((df.Satellite == 2)&(df.Type1 == 'OM')&(df.Type2 == 'D')&(df.Type3 == 'EXT'))]\n",
    "\n",
    "df_OM_INT_EUROPA= df_OM_INT_EUROPA[[ 'DateTimeEventTT','deltaTime']]\n",
    "\n",
    "dates = matplotlib.dates.date2num(df_OM_INT_EUROPA['DateTimeEventTT'].to_numpy())\n",
    "matplotlib.pyplot.plot_date(dates, df_OM_INT_EUROPA['deltaTime'].to_numpy())\n",
    "\n",
    "df_OM_INT_GANYMEDE= df[((df.Satellite == 3)&(df.Type1 == 'OM')&(df.Type2 == 'D')&(df.Type3 == 'EXT'))]\n",
    "\n",
    "df_OM_INT_GANYMEDE= df_OM_INT_GANYMEDE[[ 'DateTimeEventTT','deltaTime']]\n",
    "\n",
    "dates = matplotlib.dates.date2num(df_OM_INT_GANYMEDE['DateTimeEventTT'].to_numpy())\n",
    "matplotlib.pyplot.plot_date(dates, df_OM_INT_GANYMEDE['deltaTime'].to_numpy())\n",
    "\n",
    "df_OM_INT_CALLISTO= df[((df.Satellite == 4)&(df.Type1 == 'OM')&(df.Type2 == 'D')&(df.Type3 == 'EXT'))]\n",
    "\n",
    "df_OM_INT_CALLISTO= df_OM_INT_CALLISTO[[ 'DateTimeEventTT','deltaTime']]\n",
    "\n",
    "dates = matplotlib.dates.date2num(df_OM_INT_CALLISTO['DateTimeEventTT'].to_numpy())\n",
    "matplotlib.pyplot.plot_date(dates, df_OM_INT_CALLISTO['deltaTime'].to_numpy())"
   ]
  },
  {
   "cell_type": "code",
   "execution_count": null,
   "metadata": {},
   "outputs": [],
   "source": [
    "df_OM_INT_IO= df[((df.Satellite == 1)&(df.Type1 == 'OM')&(df.Type2 == 'F')&(df.Type3 == 'EXT'))]\n",
    "\n",
    "df_OM_INT_IO= df_OM_INT_IO[[ 'DateTimeEventTT','deltaTime']]\n",
    "\n",
    "dates = matplotlib.dates.date2num(df_OM_INT_IO['DateTimeEventTT'].to_numpy())\n",
    "matplotlib.pyplot.plot_date(dates, df_OM_INT_IO['deltaTime'].to_numpy())\n",
    "\n",
    "df_OM_INT_EUROPA= df[((df.Satellite == 2)&(df.Type1 == 'OM')&(df.Type2 == 'F')&(df.Type3 == 'EXT'))]\n",
    "\n",
    "df_OM_INT_EUROPA= df_OM_INT_EUROPA[[ 'DateTimeEventTT','deltaTime']]\n",
    "\n",
    "dates = matplotlib.dates.date2num(df_OM_INT_EUROPA['DateTimeEventTT'].to_numpy())\n",
    "matplotlib.pyplot.plot_date(dates, df_OM_INT_EUROPA['deltaTime'].to_numpy())\n",
    "\n",
    "df_OM_INT_GANYMEDE= df[((df.Satellite == 3)&(df.Type1 == 'OM')&(df.Type2 == 'F')&(df.Type3 == 'EXT'))]\n",
    "\n",
    "df_OM_INT_GANYMEDE= df_OM_INT_GANYMEDE[[ 'DateTimeEventTT','deltaTime']]\n",
    "\n",
    "dates = matplotlib.dates.date2num(df_OM_INT_GANYMEDE['DateTimeEventTT'].to_numpy())\n",
    "matplotlib.pyplot.plot_date(dates, df_OM_INT_GANYMEDE['deltaTime'].to_numpy())\n",
    "\n",
    "df_OM_INT_CALLISTO= df[((df.Satellite == 4)&(df.Type1 == 'OM')&(df.Type2 == 'F')&(df.Type3 == 'EXT'))]\n",
    "\n",
    "df_OM_INT_CALLISTO= df_OM_INT_CALLISTO[[ 'DateTimeEventTT','deltaTime']]\n",
    "\n",
    "dates = matplotlib.dates.date2num(df_OM_INT_CALLISTO['DateTimeEventTT'].to_numpy())\n",
    "matplotlib.pyplot.plot_date(dates, df_OM_INT_CALLISTO['deltaTime'].to_numpy())"
   ]
  },
  {
   "cell_type": "code",
   "execution_count": null,
   "metadata": {},
   "outputs": [],
   "source": [
    "df_OM_INT_IO= df[((df.Satellite == 1)&(df.Type1 == 'OM')&(df.Type2 == 'D')&(df.Type3 == 'INT'))].deltaTime\n",
    "\n",
    "plt.plot(df_OM_INT_IO.to_numpy())\n",
    "\n",
    "df_OM_EXT_IO= df[((df.Satellite == 1)&(df.Type1 == 'OM')&(df.Type2 == 'D')&(df.Type3 == 'EXT'))].deltaTime\n",
    "\n",
    "plt.plot(df_OM_EXT_IO.to_numpy())"
   ]
  },
  {
   "cell_type": "code",
   "execution_count": null,
   "metadata": {},
   "outputs": [],
   "source": [
    "df_OM_INT_IO= df[((df.Satellite == 1)&(df.Type1 == 'OM')&(df.Type2 == 'F')&(df.Type3 == 'INT'))].deltaTime\n",
    "\n",
    "plt.plot(df_OM_INT_IO.to_numpy())\n",
    "\n",
    "df_OM_EXT_IO= df[((df.Satellite == 1)&(df.Type1 == 'OM')&(df.Type2 == 'F')&(df.Type3 == 'EXT'))].deltaTime\n",
    "\n",
    "plt.plot(df_OM_EXT_IO.to_numpy())"
   ]
  },
  {
   "cell_type": "code",
   "execution_count": null,
   "metadata": {},
   "outputs": [],
   "source": [
    "df_OM_INT_IO= df[((df.Satellite == 1)&(df.Type1 == 'OM')&(df.Type2 == 'D')&(df.Type3 == 'INT'))].deltaTime\n",
    "\n",
    "plt.plot(df_OM_INT_IO.to_numpy())\n",
    "\n",
    "df_OM_EXT_IO= df[((df.Satellite == 1)&(df.Type1 == 'OM')&(df.Type2 == 'D')&(df.Type3 == 'EXT'))].deltaTime\n",
    "\n",
    "plt.plot(df_OM_EXT_IO.to_numpy())\n",
    "\n",
    "df_OM_INT_IO= df[((df.Satellite == 1)&(df.Type1 == 'OM')&(df.Type2 == 'F')&(df.Type3 == 'INT'))].deltaTime\n",
    "\n",
    "plt.plot(df_OM_INT_IO.to_numpy())\n",
    "\n",
    "df_OM_EXT_IO= df[((df.Satellite == 1)&(df.Type1 == 'OM')&(df.Type2 == 'F')&(df.Type3 == 'EXT'))].deltaTime\n",
    "\n",
    "plt.plot(df_OM_EXT_IO.to_numpy())"
   ]
  },
  {
   "cell_type": "code",
   "execution_count": null,
   "metadata": {
    "scrolled": true
   },
   "outputs": [],
   "source": [
    "df_OM_INT_EUROPA= df[((df.Satellite == 2)&(df.Type1 == 'OM')&(df.Type2 == 'D')&(df.Type3 == 'INT'))].deltaTime\n",
    "\n",
    "plt.plot(df_OM_INT_EUROPA.to_numpy())\n",
    "\n",
    "df_OM_EXT_EUROPA= df[((df.Satellite == 2)&(df.Type1 == 'OM')&(df.Type2 == 'D')&(df.Type3 == 'EXT'))].deltaTime\n",
    "\n",
    "plt.plot(df_OM_EXT_EUROPA.to_numpy())"
   ]
  },
  {
   "cell_type": "code",
   "execution_count": null,
   "metadata": {
    "scrolled": false
   },
   "outputs": [],
   "source": [
    "df_OM_INT_EUROPA= df[((df.Satellite == 2)&(df.Type1 == 'OM')&(df.Type2 == 'F')&(df.Type3 == 'INT'))].deltaTime\n",
    "\n",
    "plt.plot(df_OM_INT_EUROPA.to_numpy())\n",
    "\n",
    "df_OM_EXT_EUROPA= df[((df.Satellite == 2)&(df.Type1 == 'OM')&(df.Type2 == 'F')&(df.Type3 == 'EXT'))].deltaTime\n",
    "\n",
    "plt.plot(df_OM_EXT_EUROPA.to_numpy())"
   ]
  },
  {
   "cell_type": "code",
   "execution_count": null,
   "metadata": {
    "scrolled": true
   },
   "outputs": [],
   "source": [
    "df_OM_INT_EUROPA= df[((df.Satellite == 2)&(df.Type1 == 'OM')&(df.Type2 == 'D')&(df.Type3 == 'INT'))].deltaTime\n",
    "\n",
    "plt.plot(df_OM_INT_EUROPA.to_numpy())\n",
    "\n",
    "df_OM_EXT_EUROPA= df[((df.Satellite == 2)&(df.Type1 == 'OM')&(df.Type2 == 'D')&(df.Type3 == 'EXT'))].deltaTime\n",
    "\n",
    "plt.plot(df_OM_EXT_EUROPA.to_numpy())\n",
    "\n",
    "df_OM_INT_EUROPA= df[((df.Satellite == 2)&(df.Type1 == 'OM')&(df.Type2 == 'F')&(df.Type3 == 'INT'))].deltaTime\n",
    "\n",
    "plt.plot(df_OM_INT_EUROPA.to_numpy())\n",
    "\n",
    "df_OM_EXT_EUROPA= df[((df.Satellite == 2)&(df.Type1 == 'OM')&(df.Type2 == 'F')&(df.Type3 == 'EXT'))].deltaTime\n",
    "\n",
    "plt.plot(df_OM_EXT_EUROPA.to_numpy())"
   ]
  },
  {
   "cell_type": "code",
   "execution_count": null,
   "metadata": {
    "scrolled": true
   },
   "outputs": [],
   "source": [
    "df_OM_INT_GANYMEDE= df[((df.Satellite == 3)&(df.Type1 == 'OM')&(df.Type2 == 'D')&(df.Type3 == 'INT'))].deltaTime\n",
    "\n",
    "plt.plot(df_OM_INT_GANYMEDE.to_numpy())\n",
    "\n",
    "df_OM_EXT_GANYMEDE= df[((df.Satellite == 3)&(df.Type1 == 'OM')&(df.Type2 == 'D')&(df.Type3 == 'EXT'))].deltaTime\n",
    "\n",
    "plt.plot(df_OM_EXT_GANYMEDE.to_numpy())"
   ]
  },
  {
   "cell_type": "code",
   "execution_count": null,
   "metadata": {
    "scrolled": true
   },
   "outputs": [],
   "source": [
    "df_OM_INT_GANYMEDE= df[((df.Satellite == 3)&(df.Type1 == 'OM')&(df.Type2 == 'F')&(df.Type3 == 'INT'))].deltaTime\n",
    "\n",
    "plt.plot(df_OM_INT_GANYMEDE.to_numpy())\n",
    "\n",
    "df_OM_EXT_GANYMEDE= df[((df.Satellite == 3)&(df.Type1 == 'OM')&(df.Type2 == 'F')&(df.Type3 == 'EXT'))].deltaTime\n",
    "\n",
    "plt.plot(df_OM_EXT_GANYMEDE.to_numpy())"
   ]
  },
  {
   "cell_type": "code",
   "execution_count": null,
   "metadata": {
    "scrolled": false
   },
   "outputs": [],
   "source": [
    "df_OM_INT_GANYMEDE= df[((df.Satellite == 3)&(df.Type1 == 'OM')&(df.Type2 == 'D')&(df.Type3 == 'INT'))].deltaTime\n",
    "\n",
    "plt.plot(df_OM_INT_GANYMEDE.to_numpy())\n",
    "\n",
    "df_OM_EXT_GANYMEDE= df[((df.Satellite == 3)&(df.Type1 == 'OM')&(df.Type2 == 'D')&(df.Type3 == 'EXT'))].deltaTime\n",
    "\n",
    "plt.plot(df_OM_EXT_GANYMEDE.to_numpy())\n",
    "\n",
    "df_OM_INT_GANYMEDE= df[((df.Satellite == 3)&(df.Type1 == 'OM')&(df.Type2 == 'F')&(df.Type3 == 'INT'))].deltaTime\n",
    "\n",
    "plt.plot(df_OM_INT_GANYMEDE.to_numpy())\n",
    "\n",
    "df_OM_EXT_GANYMEDE= df[((df.Satellite == 3)&(df.Type1 == 'OM')&(df.Type2 == 'F')&(df.Type3 == 'EXT'))].deltaTime\n",
    "\n",
    "plt.plot(df_OM_EXT_GANYMEDE.to_numpy())"
   ]
  },
  {
   "cell_type": "code",
   "execution_count": null,
   "metadata": {},
   "outputs": [],
   "source": []
  },
  {
   "cell_type": "code",
   "execution_count": null,
   "metadata": {
    "scrolled": false
   },
   "outputs": [],
   "source": [
    "df_OM_INT_CALLISTO= df[((df.Satellite == 4)&(df.Type1 == 'OM')&(df.Type2 == 'D')&(df.Type3 == 'INT'))].deltaTime\n",
    "\n",
    "plt.plot(df_OM_INT_CALLISTO.to_numpy())\n",
    "\n",
    "df_OM_EXT_CALLISTO= df[((df.Satellite == 4)&(df.Type1 == 'OM')&(df.Type2 == 'D')&(df.Type3 == 'EXT'))].deltaTime\n",
    "\n",
    "plt.plot(df_OM_EXT_CALLISTO.to_numpy())"
   ]
  },
  {
   "cell_type": "code",
   "execution_count": null,
   "metadata": {
    "scrolled": false
   },
   "outputs": [],
   "source": [
    "df_OM_INT_CALLISTO= df[((df.Satellite == 4)&(df.Type1 == 'OM')&(df.Type2 == 'F')&(df.Type3 == 'INT'))].deltaTime\n",
    "\n",
    "plt.plot(df_OM_INT_CALLISTO.to_numpy())\n",
    "\n",
    "df_OM_EXT_CALLISTO= df[((df.Satellite == 4)&(df.Type1 == 'OM')&(df.Type2 == 'F')&(df.Type3 == 'EXT'))].deltaTime\n",
    "\n",
    "plt.plot(df_OM_EXT_CALLISTO.to_numpy())"
   ]
  },
  {
   "cell_type": "code",
   "execution_count": null,
   "metadata": {
    "scrolled": true
   },
   "outputs": [],
   "source": [
    "df_OM_INT_CALLISTO= df[((df.Satellite == 4)&(df.Type1 == 'OM')&(df.Type2 == 'D')&(df.Type3 == 'INT'))].deltaTime\n",
    "\n",
    "plt.plot(df_OM_INT_CALLISTO.to_numpy())\n",
    "\n",
    "df_OM_EXT_CALLISTO= df[((df.Satellite == 4)&(df.Type1 == 'OM')&(df.Type2 == 'D')&(df.Type3 == 'EXT'))].deltaTime\n",
    "\n",
    "plt.plot(df_OM_EXT_CALLISTO.to_numpy())\n",
    "\n",
    "df_OM_INT_CALLISTO= df[((df.Satellite == 4)&(df.Type1 == 'OM')&(df.Type2 == 'F')&(df.Type3 == 'INT'))].deltaTime\n",
    "\n",
    "plt.plot(df_OM_INT_CALLISTO.to_numpy())\n",
    "\n",
    "df_OM_EXT_CALLISTO= df[((df.Satellite == 4)&(df.Type1 == 'OM')&(df.Type2 == 'F')&(df.Type3 == 'EXT'))].deltaTime\n",
    "\n",
    "plt.plot(df_OM_EXT_CALLISTO.to_numpy())"
   ]
  },
  {
   "cell_type": "markdown",
   "metadata": {},
   "source": [
    "The artifact deriving from not considering Jupter's pahse is also present, of course coherent to the last (F, D) since the same side of Jupiter is intested by the corssing phenomena and the transit phenomena. \n",
    "\n",
    "The correlation of the absolute value of the variation with regard to the orbital inclination is also present."
   ]
  },
  {
   "cell_type": "markdown",
   "metadata": {},
   "source": [
    "# Occultations"
   ]
  },
  {
   "cell_type": "code",
   "execution_count": null,
   "metadata": {},
   "outputs": [],
   "source": [
    "df_OC_INT_IO= df[((df.Satellite == 1)&(df.Type1 == 'OC')&(df.Type2 == 'D')&(df.Type3 == 'EXT'))]\n",
    "\n",
    "df_OC_INT_IO= df_OC_INT_IO[[ 'DateTimeEventTT','deltaTime']]\n",
    "\n",
    "dates = matplotlib.dates.date2num(df_OC_INT_IO['DateTimeEventTT'].to_numpy())\n",
    "matplotlib.pyplot.plot_date(dates, df_OC_INT_IO['deltaTime'].to_numpy())\n",
    "\n",
    "df_OC_INT_EUROPA= df[((df.Satellite == 2)&(df.Type1 == 'OC')&(df.Type2 == 'D')&(df.Type3 == 'EXT'))]\n",
    "\n",
    "df_OC_INT_EUROPA= df_OC_INT_EUROPA[[ 'DateTimeEventTT','deltaTime']]\n",
    "\n",
    "dates = matplotlib.dates.date2num(df_OC_INT_EUROPA['DateTimeEventTT'].to_numpy())\n",
    "matplotlib.pyplot.plot_date(dates, df_OC_INT_EUROPA['deltaTime'].to_numpy())\n",
    "\n",
    "df_OC_INT_GANYMEDE= df[((df.Satellite == 3)&(df.Type1 == 'OC')&(df.Type2 == 'D')&(df.Type3 == 'EXT'))]\n",
    "\n",
    "df_OC_INT_GANYMEDE= df_OC_INT_GANYMEDE[[ 'DateTimeEventTT','deltaTime']]\n",
    "\n",
    "dates = matplotlib.dates.date2num(df_OC_INT_GANYMEDE['DateTimeEventTT'].to_numpy())\n",
    "matplotlib.pyplot.plot_date(dates, df_OC_INT_GANYMEDE['deltaTime'].to_numpy())\n",
    "\n",
    "df_OC_INT_CALLISTO= df[((df.Satellite == 4)&(df.Type1 == 'OC')&(df.Type2 == 'D')&(df.Type3 == 'EXT'))]\n",
    "\n",
    "df_OC_INT_CALLISTO= df_OC_INT_CALLISTO[[ 'DateTimeEventTT','deltaTime']]\n",
    "\n",
    "dates = matplotlib.dates.date2num(df_OC_INT_CALLISTO['DateTimeEventTT'].to_numpy())\n",
    "matplotlib.pyplot.plot_date(dates, df_OC_INT_CALLISTO['deltaTime'].to_numpy())"
   ]
  },
  {
   "cell_type": "code",
   "execution_count": null,
   "metadata": {},
   "outputs": [],
   "source": [
    "df_EC_INT_IO= df[((df.Satellite == 1)&(df.Type1 == 'OC')&(df.Type2 == 'F')&(df.Type3 == 'EXT'))]\n",
    "\n",
    "df_EC_INT_IO= df_EC_INT_IO[[ 'DateTimeEventTT','deltaTime']]\n",
    "\n",
    "dates = matplotlib.dates.date2num(df_EC_INT_IO['DateTimeEventTT'].to_numpy())\n",
    "matplotlib.pyplot.plot_date(dates, df_EC_INT_IO['deltaTime'].to_numpy())\n",
    "\n",
    "df_EC_INT_EUROPA= df[((df.Satellite == 2)&(df.Type1 == 'OC')&(df.Type2 == 'F')&(df.Type3 == 'EXT'))]\n",
    "\n",
    "df_EC_INT_EUROPA= df_EC_INT_EUROPA[[ 'DateTimeEventTT','deltaTime']]\n",
    "\n",
    "dates = matplotlib.dates.date2num(df_EC_INT_EUROPA['DateTimeEventTT'].to_numpy())\n",
    "matplotlib.pyplot.plot_date(dates, df_EC_INT_EUROPA['deltaTime'].to_numpy())\n",
    "\n",
    "df_EC_INT_GANYMEDE= df[((df.Satellite == 3)&(df.Type1 == 'OC')&(df.Type2 == 'F')&(df.Type3 == 'EXT'))]\n",
    "\n",
    "df_EC_INT_GANYMEDE= df_EC_INT_GANYMEDE[[ 'DateTimeEventTT','deltaTime']]\n",
    "\n",
    "dates = matplotlib.dates.date2num(df_EC_INT_GANYMEDE['DateTimeEventTT'].to_numpy())\n",
    "matplotlib.pyplot.plot_date(dates, df_EC_INT_GANYMEDE['deltaTime'].to_numpy())\n",
    "\n",
    "df_EC_INT_CALLISTO= df[((df.Satellite == 4)&(df.Type1 == 'OC')&(df.Type2 == 'F')&(df.Type3 == 'EXT'))]\n",
    "\n",
    "df_EC_INT_CALLISTO= df_EC_INT_CALLISTO[[ 'DateTimeEventTT','deltaTime']]\n",
    "\n",
    "dates = matplotlib.dates.date2num(df_EC_INT_CALLISTO['DateTimeEventTT'].to_numpy())\n",
    "matplotlib.pyplot.plot_date(dates, df_EC_INT_CALLISTO['deltaTime'].to_numpy())"
   ]
  },
  {
   "cell_type": "code",
   "execution_count": null,
   "metadata": {},
   "outputs": [],
   "source": [
    "df_EC_INT_IO= df[((df.Satellite == 1)&(df.Type1 == 'OC')&(df.Type2 == 'D')&(df.Type3 == 'INT'))].deltaTime\n",
    "\n",
    "plt.plot(df_EC_INT_IO.to_numpy())\n",
    "\n",
    "df_EC_EXT_IO= df[((df.Satellite == 1)&(df.Type1 == 'OC')&(df.Type2 == 'D')&(df.Type3 == 'EXT'))].deltaTime\n",
    "\n",
    "plt.plot(df_EC_EXT_IO.to_numpy())"
   ]
  },
  {
   "cell_type": "code",
   "execution_count": null,
   "metadata": {},
   "outputs": [],
   "source": [
    "df_EC_INT_IO= df[((df.Satellite == 1)&(df.Type1 == 'OC')&(df.Type2 == 'F')&(df.Type3 == 'INT'))].deltaTime\n",
    "\n",
    "plt.plot(df_EC_INT_IO.to_numpy())\n",
    "\n",
    "df_EC_EXT_IO= df[((df.Satellite == 1)&(df.Type1 == 'OC')&(df.Type2 == 'F')&(df.Type3 == 'EXT'))].deltaTime\n",
    "\n",
    "plt.plot(df_EC_EXT_IO.to_numpy())"
   ]
  },
  {
   "cell_type": "code",
   "execution_count": null,
   "metadata": {},
   "outputs": [],
   "source": [
    "df_EC_INT_IO= df[((df.Satellite == 1)&(df.Type1 == 'OC')&(df.Type2 == 'D')&(df.Type3 == 'INT'))].deltaTime\n",
    "\n",
    "plt.plot(df_EC_INT_IO.to_numpy())\n",
    "\n",
    "df_EC_EXT_IO= df[((df.Satellite == 1)&(df.Type1 == 'OC')&(df.Type2 == 'D')&(df.Type3 == 'EXT'))].deltaTime\n",
    "\n",
    "plt.plot(df_EC_EXT_IO.to_numpy())\n",
    "\n",
    "df_EC_INT_IO= df[((df.Satellite == 1)&(df.Type1 == 'OC')&(df.Type2 == 'F')&(df.Type3 == 'INT'))].deltaTime\n",
    "\n",
    "plt.plot(df_EC_INT_IO.to_numpy())\n",
    "\n",
    "df_EC_EXT_IO= df[((df.Satellite == 1)&(df.Type1 == 'OC')&(df.Type2 == 'F')&(df.Type3 == 'EXT'))].deltaTime\n",
    "\n",
    "plt.plot(df_EC_EXT_IO.to_numpy())"
   ]
  },
  {
   "cell_type": "code",
   "execution_count": null,
   "metadata": {
    "scrolled": true
   },
   "outputs": [],
   "source": [
    "df_EC_INT_EUROPA= df[((df.Satellite == 2)&(df.Type1 == 'OC')&(df.Type2 == 'D')&(df.Type3 == 'INT'))].deltaTime\n",
    "\n",
    "plt.plot(df_EC_INT_EUROPA.to_numpy())\n",
    "\n",
    "df_EC_EXT_EUROPA= df[((df.Satellite == 2)&(df.Type1 == 'OC')&(df.Type2 == 'D')&(df.Type3 == 'EXT'))].deltaTime\n",
    "\n",
    "plt.plot(df_EC_EXT_EUROPA.to_numpy())"
   ]
  },
  {
   "cell_type": "code",
   "execution_count": null,
   "metadata": {
    "scrolled": false
   },
   "outputs": [],
   "source": [
    "df_EC_INT_EUROPA= df[((df.Satellite == 2)&(df.Type1 == 'OC')&(df.Type2 == 'F')&(df.Type3 == 'INT'))].deltaTime\n",
    "\n",
    "plt.plot(df_EC_INT_EUROPA.to_numpy())\n",
    "\n",
    "df_EC_EXT_EUROPA= df[((df.Satellite == 2)&(df.Type1 == 'OC')&(df.Type2 == 'F')&(df.Type3 == 'EXT'))].deltaTime\n",
    "\n",
    "plt.plot(df_EC_EXT_EUROPA.to_numpy())"
   ]
  },
  {
   "cell_type": "code",
   "execution_count": null,
   "metadata": {
    "scrolled": true
   },
   "outputs": [],
   "source": [
    "df_EC_INT_EUROPA= df[((df.Satellite == 2)&(df.Type1 == 'OC')&(df.Type2 == 'D')&(df.Type3 == 'INT'))].deltaTime\n",
    "\n",
    "plt.plot(df_EC_INT_EUROPA.to_numpy())\n",
    "\n",
    "df_EC_EXT_EUROPA= df[((df.Satellite == 2)&(df.Type1 == 'OC')&(df.Type2 == 'D')&(df.Type3 == 'EXT'))].deltaTime\n",
    "\n",
    "plt.plot(df_EC_EXT_EUROPA.to_numpy())\n",
    "\n",
    "df_EC_INT_EUROPA= df[((df.Satellite == 2)&(df.Type1 == 'OC')&(df.Type2 == 'F')&(df.Type3 == 'INT'))].deltaTime\n",
    "\n",
    "plt.plot(df_EC_INT_EUROPA.to_numpy())\n",
    "\n",
    "df_EC_EXT_EUROPA= df[((df.Satellite == 2)&(df.Type1 == 'OC')&(df.Type2 == 'F')&(df.Type3 == 'EXT'))].deltaTime\n",
    "\n",
    "plt.plot(df_EC_EXT_EUROPA.to_numpy())"
   ]
  },
  {
   "cell_type": "code",
   "execution_count": null,
   "metadata": {
    "scrolled": true
   },
   "outputs": [],
   "source": [
    "df_EC_INT_GANYMEDE= df[((df.Satellite == 3)&(df.Type1 == 'OC')&(df.Type2 == 'D')&(df.Type3 == 'INT'))].deltaTime\n",
    "\n",
    "plt.plot(df_EC_INT_GANYMEDE.to_numpy())\n",
    "\n",
    "df_EC_EXT_GANYMEDE= df[((df.Satellite == 3)&(df.Type1 == 'OC')&(df.Type2 == 'D')&(df.Type3 == 'EXT'))].deltaTime\n",
    "\n",
    "plt.plot(df_EC_EXT_GANYMEDE.to_numpy())"
   ]
  },
  {
   "cell_type": "code",
   "execution_count": null,
   "metadata": {
    "scrolled": true
   },
   "outputs": [],
   "source": [
    "df_EC_INT_GANYMEDE= df[((df.Satellite == 3)&(df.Type1 == 'OC')&(df.Type2 == 'F')&(df.Type3 == 'INT'))].deltaTime\n",
    "\n",
    "plt.plot(df_EC_INT_GANYMEDE.to_numpy())\n",
    "\n",
    "df_EC_EXT_GANYMEDE= df[((df.Satellite == 3)&(df.Type1 == 'OC')&(df.Type2 == 'F')&(df.Type3 == 'EXT'))].deltaTime\n",
    "\n",
    "plt.plot(df_EC_EXT_GANYMEDE.to_numpy())"
   ]
  },
  {
   "cell_type": "code",
   "execution_count": null,
   "metadata": {
    "scrolled": false
   },
   "outputs": [],
   "source": [
    "df_EC_INT_GANYMEDE= df[((df.Satellite == 3)&(df.Type1 == 'OC')&(df.Type2 == 'D')&(df.Type3 == 'INT'))].deltaTime\n",
    "\n",
    "plt.plot(df_EC_INT_GANYMEDE.to_numpy())\n",
    "\n",
    "df_EC_EXT_GANYMEDE= df[((df.Satellite == 3)&(df.Type1 == 'OC')&(df.Type2 == 'D')&(df.Type3 == 'EXT'))].deltaTime\n",
    "\n",
    "plt.plot(df_EC_EXT_GANYMEDE.to_numpy())\n",
    "\n",
    "df_EC_INT_GANYMEDE= df[((df.Satellite == 3)&(df.Type1 == 'OC')&(df.Type2 == 'F')&(df.Type3 == 'INT'))].deltaTime\n",
    "\n",
    "plt.plot(df_EC_INT_GANYMEDE.to_numpy())\n",
    "\n",
    "df_EC_EXT_GANYMEDE= df[((df.Satellite == 3)&(df.Type1 == 'OC')&(df.Type2 == 'F')&(df.Type3 == 'EXT'))].deltaTime\n",
    "\n",
    "plt.plot(df_EC_EXT_GANYMEDE.to_numpy())"
   ]
  },
  {
   "cell_type": "code",
   "execution_count": null,
   "metadata": {},
   "outputs": [],
   "source": []
  },
  {
   "cell_type": "code",
   "execution_count": null,
   "metadata": {
    "scrolled": true
   },
   "outputs": [],
   "source": [
    "df_EC_INT_CALLISTO= df[((df.Satellite == 4)&(df.Type1 == 'OC')&(df.Type2 == 'D')&(df.Type3 == 'INT'))].deltaTime\n",
    "\n",
    "plt.plot(df_EC_INT_CALLISTO.to_numpy())\n",
    "\n",
    "df_EC_EXT_CALLISTO= df[((df.Satellite == 4)&(df.Type1 == 'OC')&(df.Type2 == 'D')&(df.Type3 == 'EXT'))].deltaTime\n",
    "\n",
    "plt.plot(df_EC_EXT_CALLISTO.to_numpy())"
   ]
  },
  {
   "cell_type": "code",
   "execution_count": null,
   "metadata": {
    "scrolled": false
   },
   "outputs": [],
   "source": [
    "df_EC_INT_CALLISTO= df[((df.Satellite == 4)&(df.Type1 == 'OC')&(df.Type2 == 'F')&(df.Type3 == 'INT'))].deltaTime\n",
    "\n",
    "plt.plot(df_EC_INT_CALLISTO.to_numpy())\n",
    "\n",
    "df_EC_EXT_CALLISTO= df[((df.Satellite == 4)&(df.Type1 == 'OC')&(df.Type2 == 'F')&(df.Type3 == 'EXT'))].deltaTime\n",
    "\n",
    "plt.plot(df_EC_EXT_CALLISTO.to_numpy())"
   ]
  },
  {
   "cell_type": "code",
   "execution_count": null,
   "metadata": {
    "scrolled": false
   },
   "outputs": [],
   "source": [
    "df_OC_INT_CALLISTO= df[((df.Satellite == 4)&(df.Type1 == 'OC')&(df.Type2 == 'D')&(df.Type3 == 'INT'))].deltaTime\n",
    "\n",
    "plt.plot(df_OC_INT_CALLISTO.to_numpy())\n",
    "\n",
    "df_OC_EXT_CALLISTO= df[((df.Satellite == 4)&(df.Type1 == 'OC')&(df.Type2 == 'D')&(df.Type3 == 'EXT'))].deltaTime\n",
    "\n",
    "plt.plot(df_OC_EXT_CALLISTO.to_numpy())\n",
    "\n",
    "df_OC_INT_CALLISTO= df[((df.Satellite == 4)&(df.Type1 == 'OC')&(df.Type2 == 'F')&(df.Type3 == 'INT'))].deltaTime\n",
    "\n",
    "plt.plot(df_OC_INT_CALLISTO.to_numpy())\n",
    "\n",
    "df_OC_EXT_CALLISTO= df[((df.Satellite == 4)&(df.Type1 == 'OC')&(df.Type2 == 'F')&(df.Type3 == 'EXT'))].deltaTime\n",
    "\n",
    "plt.plot(df_OC_EXT_CALLISTO.to_numpy())"
   ]
  },
  {
   "cell_type": "markdown",
   "metadata": {},
   "source": [
    "Io and Europa exibith again a curve similar to the one considered for eclipses, the correlation of the abs() ob the variation to the orbital inclination of the satellite is also present. No further artifact due to a missing phase correction since it is not required."
   ]
  },
  {
   "cell_type": "code",
   "execution_count": null,
   "metadata": {},
   "outputs": [],
   "source": []
  }
 ],
 "metadata": {
  "kernelspec": {
   "display_name": "Python 3",
   "language": "python",
   "name": "python3"
  },
  "language_info": {
   "codemirror_mode": {
    "name": "ipython",
    "version": 3
   },
   "file_extension": ".py",
   "mimetype": "text/x-python",
   "name": "python",
   "nbconvert_exporter": "python",
   "pygments_lexer": "ipython3",
   "version": "3.6.9"
  }
 },
 "nbformat": 4,
 "nbformat_minor": 4
}
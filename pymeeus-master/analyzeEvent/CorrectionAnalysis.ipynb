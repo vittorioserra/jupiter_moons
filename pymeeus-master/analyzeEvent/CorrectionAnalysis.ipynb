{
 "cells": [
  {
   "cell_type": "code",
   "execution_count": 2,
   "metadata": {
    "collapsed": true
   },
   "outputs": [],
   "source": [
    "import pandas as pd\n",
    "import sqlite3\n",
    "import matplotlib.pyplot as plt\n",
    "\n",
    "%load_ext sql\n",
    "%sql sqlite:///Event.sqlite"
   ]
  },
  {
   "cell_type": "code",
   "execution_count": 3,
   "outputs": [],
   "source": [
    "cnx = sqlite3.connect(r'Event.sqlite')"
   ],
   "metadata": {
    "collapsed": false,
    "pycharm": {
     "name": "#%%\n"
    }
   }
  },
  {
   "cell_type": "code",
   "execution_count": 11,
   "outputs": [],
   "source": [
    "sql_cmd = \"\"\"\n",
    "\n",
    "WITH\n",
    "\n",
    "PyMeeus AS\n",
    "(\n",
    "SELECT DateTimeEventTT, Satellite || Type1 || Type2 || Type3 AS Type, DateTimeEventTT,\n",
    "Satellite, Type1, Type2, Type3\n",
    "FROM Event\n",
    "WHERE Origin=\"PyMeeus\"\n",
    "),\n",
    "\n",
    "Thuillot AS\n",
    "(\n",
    "SELECT DateTimeEventTT, Satellite || Type1 || Type2 || Type3 AS Type, DateTimeEventTT\n",
    "FROM Event\n",
    "WHERE Origin=\"Thuillot\"\n",
    ")\n",
    "\n",
    "SELECT p.DateTimeEventTT, p.Satellite, p.Type1, p.Type2, p.Type3,\n",
    "strftime('%s', p.DateTimeEventTT) - strftime('%s', t.DateTimeEventTT) AS deltaTime,\n",
    "MIN( ABS( strftime('%s', p.DateTimeEventTT) - strftime('%s', t.DateTimeEventTT) )) AS minDeltaTime\n",
    "FROM (PyMeeus p INNER JOIN Thuillot t\n",
    "ON p.Type = t.Type)\n",
    "GROUP BY p.DateTimeEventTT\n",
    "HAVING minDeltaTime <= 3600\n",
    "\n",
    "\"\"\"\n",
    "\n",
    "df_pm_th = pd.read_sql_query(sql_cmd, cnx)"
   ],
   "metadata": {
    "collapsed": false,
    "pycharm": {
     "name": "#%%\n"
    }
   }
  },
  {
   "cell_type": "code",
   "execution_count": 8,
   "outputs": [],
   "source": [
    "sql_cmd = \"\"\"\n",
    "WITH\n",
    "\n",
    "PyMeeus AS\n",
    "(\n",
    "SELECT DateTimeEventTT, Satellite || Type1 || Type2 || Type3 AS Type, DateTimeEventTT,\n",
    "Satellite, Type1, Type2, Type3\n",
    "FROM Event\n",
    "WHERE Origin=\"Uncorrected (PyMeeus)\"\n",
    "),\n",
    "\n",
    "Thuillot AS\n",
    "(\n",
    "SELECT DateTimeEventTT, Satellite || Type1 || Type2 || Type3 AS Type, DateTimeEventTT\n",
    "FROM Event\n",
    "WHERE Origin=\"Thuillot\"\n",
    ")\n",
    "\n",
    "SELECT p.DateTimeEventTT, p.Satellite, p.Type1, p.Type2, p.Type3,\n",
    "strftime('%s', p.DateTimeEventTT) - strftime('%s', t.DateTimeEventTT) AS deltaTime,\n",
    "MIN( ABS( strftime('%s', p.DateTimeEventTT) - strftime('%s', t.DateTimeEventTT) )) AS minDeltaTime\n",
    "FROM (PyMeeus p INNER JOIN Thuillot t\n",
    "ON p.Type = t.Type)\n",
    "GROUP BY p.DateTimeEventTT\n",
    "HAVING minDeltaTime <= 3600\n",
    "\n",
    "\"\"\"\n",
    "\n",
    "df_un_th = pd.read_sql_query(sql_cmd, cnx)"
   ],
   "metadata": {
    "collapsed": false,
    "pycharm": {
     "name": "#%%\n"
    }
   }
  },
  {
   "cell_type": "code",
   "execution_count": 13,
   "outputs": [],
   "source": [
    "sql_cmd = \"\"\"\n",
    "WITH\n",
    "\n",
    "PyMeeus AS\n",
    "(\n",
    "SELECT DateTimeEventTT, Satellite || Type1 || Type2 || Type3 AS Type, DateTimeEventTT,\n",
    "Satellite, Type1, Type2, Type3\n",
    "FROM Event\n",
    "WHERE Origin=\"Time corrected (PyMeeus)\"\n",
    "),\n",
    "\n",
    "Thuillot AS\n",
    "(\n",
    "SELECT DateTimeEventTT, Satellite || Type1 || Type2 || Type3 AS Type, DateTimeEventTT\n",
    "FROM Event\n",
    "WHERE Origin=\"Thuillot\"\n",
    ")\n",
    "\n",
    "SELECT p.DateTimeEventTT, p.Satellite, p.Type1, p.Type2, p.Type3,\n",
    "strftime('%s', p.DateTimeEventTT) - strftime('%s', t.DateTimeEventTT) AS deltaTime,\n",
    "MIN( ABS( strftime('%s', p.DateTimeEventTT) - strftime('%s', t.DateTimeEventTT) )) AS minDeltaTime\n",
    "FROM (PyMeeus p INNER JOIN Thuillot t\n",
    "ON p.Type = t.Type)\n",
    "GROUP BY p.DateTimeEventTT\n",
    "HAVING minDeltaTime <= 3600\n",
    "\n",
    "\"\"\"\n",
    "\n",
    "df_tc_th = pd.read_sql_query(sql_cmd, cnx)"
   ],
   "metadata": {
    "collapsed": false,
    "pycharm": {
     "name": "#%%\n"
    }
   }
  },
  {
   "cell_type": "code",
   "execution_count": 14,
   "outputs": [],
   "source": [
    "sql_cmd = \"\"\"\n",
    "WITH\n",
    "\n",
    "PyMeeus AS\n",
    "(\n",
    "SELECT DateTimeEventTT, Satellite || Type1 || Type2 || Type3 AS Type, DateTimeEventTT,\n",
    "Satellite, Type1, Type2, Type3\n",
    "FROM Event\n",
    "WHERE Origin=\"Elliptical + Time corrected (PyMeeus)\"\n",
    "),\n",
    "\n",
    "Thuillot AS\n",
    "(\n",
    "SELECT DateTimeEventTT, Satellite || Type1 || Type2 || Type3 AS Type, DateTimeEventTT\n",
    "FROM Event\n",
    "WHERE Origin=\"Thuillot\"\n",
    ")\n",
    "\n",
    "SELECT p.DateTimeEventTT, p.Satellite, p.Type1, p.Type2, p.Type3,\n",
    "strftime('%s', p.DateTimeEventTT) - strftime('%s', t.DateTimeEventTT) AS deltaTime,\n",
    "MIN( ABS( strftime('%s', p.DateTimeEventTT) - strftime('%s', t.DateTimeEventTT) )) AS minDeltaTime\n",
    "FROM (PyMeeus p INNER JOIN Thuillot t\n",
    "ON p.Type = t.Type)\n",
    "GROUP BY p.DateTimeEventTT\n",
    "HAVING minDeltaTime <= 3600\n",
    "\n",
    "\"\"\"\n",
    "\n",
    "df_elltc_th = pd.read_sql_query(sql_cmd, cnx)\n"
   ],
   "metadata": {
    "collapsed": false,
    "pycharm": {
     "name": "#%%\n"
    }
   }
  },
  {
   "cell_type": "code",
   "execution_count": 15,
   "outputs": [],
   "source": [
    "sql_cmd = \"\"\"\n",
    "WITH\n",
    "\n",
    "PyMeeus AS\n",
    "(\n",
    "SELECT DateTimeEventTT, Satellite || Type1 || Type2 || Type3 AS Type, DateTimeEventTT,\n",
    "Satellite, Type1, Type2, Type3\n",
    "FROM Event\n",
    "WHERE Origin=\"Apparent moon radius + Elliptical + Time corrected (PyMeeus)\"\n",
    "),\n",
    "\n",
    "Thuillot AS\n",
    "(\n",
    "SELECT DateTimeEventTT, Satellite || Type1 || Type2 || Type3 AS Type, DateTimeEventTT\n",
    "FROM Event\n",
    "WHERE Origin=\"Thuillot\"\n",
    ")\n",
    "\n",
    "SELECT p.DateTimeEventTT, p.Satellite, p.Type1, p.Type2, p.Type3,\n",
    "strftime('%s', p.DateTimeEventTT) - strftime('%s', t.DateTimeEventTT) AS deltaTime,\n",
    "MIN( ABS( strftime('%s', p.DateTimeEventTT) - strftime('%s', t.DateTimeEventTT) )) AS minDeltaTime\n",
    "FROM (PyMeeus p INNER JOIN Thuillot t\n",
    "ON p.Type = t.Type)\n",
    "GROUP BY p.DateTimeEventTT\n",
    "HAVING minDeltaTime <= 3600\n",
    "\n",
    "\"\"\"\n",
    "\n",
    "df_apelltc_th = pd.read_sql_query(sql_cmd, cnx)"
   ],
   "metadata": {
    "collapsed": false,
    "pycharm": {
     "name": "#%%\n"
    }
   }
  },
  {
   "cell_type": "code",
   "execution_count": 31,
   "outputs": [
    {
     "data": {
      "text/plain": "<Figure size 432x288 with 1 Axes>",
      "image/png": "[encoded data removed]"
     },
     "metadata": {
      "needs_background": "light"
     },
     "output_type": "display_data"
    }
   ],
   "source": [
    "\n",
    "df_1= df_elltc_th[((df_elltc_th.Satellite == 2)&(df_elltc_th.Type1 == 'EC')&(df_elltc_th.Type2 == 'F')&(df_elltc_th.Type3 == 'INT'))].deltaTime\n",
    "\n",
    "plt.plot(df_1.to_numpy(), \"r\")\n",
    "\n",
    "df_2= df_tc_th[((df_tc_th.Satellite == 2)&(df_tc_th.Type1 == 'EC')&(df_tc_th.Type2 == 'F')&(df_tc_th.Type3 == 'EXT'))].deltaTime\n",
    "\n",
    "plt.plot(df_2.to_numpy(), \"b\")\n",
    "\n",
    "plt.grid()"
   ],
   "metadata": {
    "collapsed": false,
    "pycharm": {
     "name": "#%%\n"
    }
   }
  }
 ],
 "metadata": {
  "kernelspec": {
   "display_name": "Python 3",
   "language": "python",
   "name": "python3"
  },
  "language_info": {
   "codemirror_mode": {
    "name": "ipython",
    "version": 2
   },
   "file_extension": ".py",
   "mimetype": "text/x-python",
   "name": "python",
   "nbconvert_exporter": "python",
   "pygments_lexer": "ipython2",
   "version": "2.7.6"
  }
 },
 "nbformat": 4,
 "nbformat_minor": 0
}
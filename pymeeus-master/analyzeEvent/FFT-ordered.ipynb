{
 "cells": [
  {
   "cell_type": "code",
   "execution_count": 2,
   "metadata": {},
   "outputs": [],
   "source": [
    "import numpy as np\n",
    "import pandas as pd\n",
    "import sqlite3\n",
    "import matplotlib.pyplot as plt\n",
    "import matplotlib\n",
    "\n",
    "import scipy as sp\n",
    "from scipy import sparse\n",
    "from scipy.fft import fft, ifft\n",
    "from scipy.linalg import dft\n",
    "from scipy.signal import find_peaks\n",
    "\n",
    "from scipy.interpolate import interp1d\n",
    "\n",
    "%load_ext sql\n",
    "%sql sqlite:///Event.sqlite"
   ]
  },
  {
   "cell_type": "markdown",
   "metadata": {},
   "source": [
    "The database is impoted and converted to a pandas dataframe, much better for data analysis in python and also better for exporting the data to numpy"
   ]
  },
  {
   "cell_type": "code",
   "execution_count": 3,
   "metadata": {},
   "outputs": [],
   "source": [
    "cnx = sqlite3.connect(r'Event.sqlite')\n",
    "\n",
    "# create the dataframe from a query\n",
    "df = pd.read_sql_query(\"SELECT * FROM Event\", cnx)"
   ]
  },
  {
   "cell_type": "code",
   "execution_count": 4,
   "metadata": {},
   "outputs": [
    {
     "data": {
      "text/html": [
       "<div>\n",
       "<style scoped>\n",
       "    .dataframe tbody tr th:only-of-type {\n",
       "        vertical-align: middle;\n",
       "    }\n",
       "\n",
       "    .dataframe tbody tr th {\n",
       "        vertical-align: top;\n",
       "    }\n",
       "\n",
       "    .dataframe thead th {\n",
       "        text-align: right;\n",
       "    }\n",
       "</style>\n",
       "<table border=\"1\" class=\"dataframe\">\n",
       "  <thead>\n",
       "    <tr style=\"text-align: right;\">\n",
       "      <th></th>\n",
       "      <th>ID</th>\n",
       "      <th>DateTimeEventTT</th>\n",
       "      <th>Satellite</th>\n",
       "      <th>Type1</th>\n",
       "      <th>Type2</th>\n",
       "      <th>Type3</th>\n",
       "      <th>Origin</th>\n",
       "      <th>DateTimeAdded</th>\n",
       "    </tr>\n",
       "  </thead>\n",
       "  <tbody>\n",
       "    <tr>\n",
       "      <th>0</th>\n",
       "      <td>1</td>\n",
       "      <td>2020-01-01 15:17:59</td>\n",
       "      <td>1</td>\n",
       "      <td>OM</td>\n",
       "      <td>D</td>\n",
       "      <td>EXT</td>\n",
       "      <td>Thuillot</td>\n",
       "      <td>2020-12-13 12:52:55</td>\n",
       "    </tr>\n",
       "    <tr>\n",
       "      <th>1</th>\n",
       "      <td>2</td>\n",
       "      <td>2020-01-01 15:21:38</td>\n",
       "      <td>1</td>\n",
       "      <td>OM</td>\n",
       "      <td>D</td>\n",
       "      <td>INT</td>\n",
       "      <td>Thuillot</td>\n",
       "      <td>2020-12-13 12:52:55</td>\n",
       "    </tr>\n",
       "    <tr>\n",
       "      <th>2</th>\n",
       "      <td>3</td>\n",
       "      <td>2020-01-01 15:23:21</td>\n",
       "      <td>1</td>\n",
       "      <td>PA</td>\n",
       "      <td>D</td>\n",
       "      <td>EXT</td>\n",
       "      <td>Thuillot</td>\n",
       "      <td>2020-12-13 12:52:55</td>\n",
       "    </tr>\n",
       "    <tr>\n",
       "      <th>3</th>\n",
       "      <td>4</td>\n",
       "      <td>2020-01-01 15:27:01</td>\n",
       "      <td>1</td>\n",
       "      <td>PA</td>\n",
       "      <td>D</td>\n",
       "      <td>INT</td>\n",
       "      <td>Thuillot</td>\n",
       "      <td>2020-12-13 12:52:55</td>\n",
       "    </tr>\n",
       "    <tr>\n",
       "      <th>4</th>\n",
       "      <td>5</td>\n",
       "      <td>2020-01-01 17:32:48</td>\n",
       "      <td>1</td>\n",
       "      <td>OM</td>\n",
       "      <td>F</td>\n",
       "      <td>INT</td>\n",
       "      <td>Thuillot</td>\n",
       "      <td>2020-12-13 12:52:55</td>\n",
       "    </tr>\n",
       "    <tr>\n",
       "      <th>...</th>\n",
       "      <td>...</td>\n",
       "      <td>...</td>\n",
       "      <td>...</td>\n",
       "      <td>...</td>\n",
       "      <td>...</td>\n",
       "      <td>...</td>\n",
       "      <td>...</td>\n",
       "      <td>...</td>\n",
       "    </tr>\n",
       "    <tr>\n",
       "      <th>327786</th>\n",
       "      <td>381935</td>\n",
       "      <td>2016-12-31 14:17:00</td>\n",
       "      <td>2</td>\n",
       "      <td>PA</td>\n",
       "      <td>D</td>\n",
       "      <td>INT</td>\n",
       "      <td>Thuillot</td>\n",
       "      <td>2021-04-16 12:32:16</td>\n",
       "    </tr>\n",
       "    <tr>\n",
       "      <th>327787</th>\n",
       "      <td>381936</td>\n",
       "      <td>2016-12-31 14:18:53</td>\n",
       "      <td>2</td>\n",
       "      <td>OM</td>\n",
       "      <td>F</td>\n",
       "      <td>INT</td>\n",
       "      <td>Thuillot</td>\n",
       "      <td>2021-04-16 12:32:16</td>\n",
       "    </tr>\n",
       "    <tr>\n",
       "      <th>327788</th>\n",
       "      <td>381937</td>\n",
       "      <td>2016-12-31 14:23:15</td>\n",
       "      <td>2</td>\n",
       "      <td>OM</td>\n",
       "      <td>F</td>\n",
       "      <td>EXT</td>\n",
       "      <td>Thuillot</td>\n",
       "      <td>2021-04-16 12:32:16</td>\n",
       "    </tr>\n",
       "    <tr>\n",
       "      <th>327789</th>\n",
       "      <td>381938</td>\n",
       "      <td>2016-12-31 16:37:23</td>\n",
       "      <td>2</td>\n",
       "      <td>PA</td>\n",
       "      <td>F</td>\n",
       "      <td>INT</td>\n",
       "      <td>Thuillot</td>\n",
       "      <td>2021-04-16 12:32:16</td>\n",
       "    </tr>\n",
       "    <tr>\n",
       "      <th>327790</th>\n",
       "      <td>381939</td>\n",
       "      <td>2016-12-31 16:41:57</td>\n",
       "      <td>2</td>\n",
       "      <td>PA</td>\n",
       "      <td>F</td>\n",
       "      <td>EXT</td>\n",
       "      <td>Thuillot</td>\n",
       "      <td>2021-04-16 12:32:16</td>\n",
       "    </tr>\n",
       "  </tbody>\n",
       "</table>\n",
       "<p>327791 rows × 8 columns</p>\n",
       "</div>"
      ],
      "text/plain": [
       "            ID      DateTimeEventTT  Satellite Type1 Type2 Type3    Origin  \\\n",
       "0            1  2020-01-01 15:17:59          1    OM     D   EXT  Thuillot   \n",
       "1            2  2020-01-01 15:21:38          1    OM     D   INT  Thuillot   \n",
       "2            3  2020-01-01 15:23:21          1    PA     D   EXT  Thuillot   \n",
       "3            4  2020-01-01 15:27:01          1    PA     D   INT  Thuillot   \n",
       "4            5  2020-01-01 17:32:48          1    OM     F   INT  Thuillot   \n",
       "...        ...                  ...        ...   ...   ...   ...       ...   \n",
       "327786  381935  2016-12-31 14:17:00          2    PA     D   INT  Thuillot   \n",
       "327787  381936  2016-12-31 14:18:53          2    OM     F   INT  Thuillot   \n",
       "327788  381937  2016-12-31 14:23:15          2    OM     F   EXT  Thuillot   \n",
       "327789  381938  2016-12-31 16:37:23          2    PA     F   INT  Thuillot   \n",
       "327790  381939  2016-12-31 16:41:57          2    PA     F   EXT  Thuillot   \n",
       "\n",
       "              DateTimeAdded  \n",
       "0       2020-12-13 12:52:55  \n",
       "1       2020-12-13 12:52:55  \n",
       "2       2020-12-13 12:52:55  \n",
       "3       2020-12-13 12:52:55  \n",
       "4       2020-12-13 12:52:55  \n",
       "...                     ...  \n",
       "327786  2021-04-16 12:32:16  \n",
       "327787  2021-04-16 12:32:16  \n",
       "327788  2021-04-16 12:32:16  \n",
       "327789  2021-04-16 12:32:16  \n",
       "327790  2021-04-16 12:32:16  \n",
       "\n",
       "[327791 rows x 8 columns]"
      ]
     },
     "execution_count": 4,
     "metadata": {},
     "output_type": "execute_result"
    }
   ],
   "source": [
    "df"
   ]
  },
  {
   "cell_type": "code",
   "execution_count": 5,
   "metadata": {},
   "outputs": [
    {
     "data": {
      "text/plain": [
       "0         False\n",
       "1         False\n",
       "2         False\n",
       "3         False\n",
       "4         False\n",
       "          ...  \n",
       "327786    False\n",
       "327787    False\n",
       "327788    False\n",
       "327789    False\n",
       "327790    False\n",
       "Name: Origin, Length: 327791, dtype: bool"
      ]
     },
     "execution_count": 5,
     "metadata": {},
     "output_type": "execute_result"
    }
   ],
   "source": [
    "df.Origin == 'PyMeeus'"
   ]
  },
  {
   "cell_type": "code",
   "execution_count": 6,
   "metadata": {},
   "outputs": [
    {
     "data": {
      "text/html": [
       "<div>\n",
       "<style scoped>\n",
       "    .dataframe tbody tr th:only-of-type {\n",
       "        vertical-align: middle;\n",
       "    }\n",
       "\n",
       "    .dataframe tbody tr th {\n",
       "        vertical-align: top;\n",
       "    }\n",
       "\n",
       "    .dataframe thead th {\n",
       "        text-align: right;\n",
       "    }\n",
       "</style>\n",
       "<table border=\"1\" class=\"dataframe\">\n",
       "  <thead>\n",
       "    <tr style=\"text-align: right;\">\n",
       "      <th></th>\n",
       "      <th>ID</th>\n",
       "      <th>DateTimeEventTT</th>\n",
       "      <th>Satellite</th>\n",
       "      <th>Type1</th>\n",
       "      <th>Type2</th>\n",
       "      <th>Type3</th>\n",
       "      <th>Origin</th>\n",
       "      <th>DateTimeAdded</th>\n",
       "    </tr>\n",
       "  </thead>\n",
       "  <tbody>\n",
       "    <tr>\n",
       "      <th>0</th>\n",
       "      <td>1</td>\n",
       "      <td>2020-01-01 15:17:59</td>\n",
       "      <td>1</td>\n",
       "      <td>OM</td>\n",
       "      <td>D</td>\n",
       "      <td>EXT</td>\n",
       "      <td>Thuillot</td>\n",
       "      <td>2020-12-13 12:52:55</td>\n",
       "    </tr>\n",
       "    <tr>\n",
       "      <th>1</th>\n",
       "      <td>2</td>\n",
       "      <td>2020-01-01 15:21:38</td>\n",
       "      <td>1</td>\n",
       "      <td>OM</td>\n",
       "      <td>D</td>\n",
       "      <td>INT</td>\n",
       "      <td>Thuillot</td>\n",
       "      <td>2020-12-13 12:52:55</td>\n",
       "    </tr>\n",
       "    <tr>\n",
       "      <th>2</th>\n",
       "      <td>3</td>\n",
       "      <td>2020-01-01 15:23:21</td>\n",
       "      <td>1</td>\n",
       "      <td>PA</td>\n",
       "      <td>D</td>\n",
       "      <td>EXT</td>\n",
       "      <td>Thuillot</td>\n",
       "      <td>2020-12-13 12:52:55</td>\n",
       "    </tr>\n",
       "    <tr>\n",
       "      <th>3</th>\n",
       "      <td>4</td>\n",
       "      <td>2020-01-01 15:27:01</td>\n",
       "      <td>1</td>\n",
       "      <td>PA</td>\n",
       "      <td>D</td>\n",
       "      <td>INT</td>\n",
       "      <td>Thuillot</td>\n",
       "      <td>2020-12-13 12:52:55</td>\n",
       "    </tr>\n",
       "    <tr>\n",
       "      <th>4</th>\n",
       "      <td>5</td>\n",
       "      <td>2020-01-01 17:32:48</td>\n",
       "      <td>1</td>\n",
       "      <td>OM</td>\n",
       "      <td>F</td>\n",
       "      <td>INT</td>\n",
       "      <td>Thuillot</td>\n",
       "      <td>2020-12-13 12:52:55</td>\n",
       "    </tr>\n",
       "    <tr>\n",
       "      <th>...</th>\n",
       "      <td>...</td>\n",
       "      <td>...</td>\n",
       "      <td>...</td>\n",
       "      <td>...</td>\n",
       "      <td>...</td>\n",
       "      <td>...</td>\n",
       "      <td>...</td>\n",
       "      <td>...</td>\n",
       "    </tr>\n",
       "    <tr>\n",
       "      <th>327786</th>\n",
       "      <td>381935</td>\n",
       "      <td>2016-12-31 14:17:00</td>\n",
       "      <td>2</td>\n",
       "      <td>PA</td>\n",
       "      <td>D</td>\n",
       "      <td>INT</td>\n",
       "      <td>Thuillot</td>\n",
       "      <td>2021-04-16 12:32:16</td>\n",
       "    </tr>\n",
       "    <tr>\n",
       "      <th>327787</th>\n",
       "      <td>381936</td>\n",
       "      <td>2016-12-31 14:18:53</td>\n",
       "      <td>2</td>\n",
       "      <td>OM</td>\n",
       "      <td>F</td>\n",
       "      <td>INT</td>\n",
       "      <td>Thuillot</td>\n",
       "      <td>2021-04-16 12:32:16</td>\n",
       "    </tr>\n",
       "    <tr>\n",
       "      <th>327788</th>\n",
       "      <td>381937</td>\n",
       "      <td>2016-12-31 14:23:15</td>\n",
       "      <td>2</td>\n",
       "      <td>OM</td>\n",
       "      <td>F</td>\n",
       "      <td>EXT</td>\n",
       "      <td>Thuillot</td>\n",
       "      <td>2021-04-16 12:32:16</td>\n",
       "    </tr>\n",
       "    <tr>\n",
       "      <th>327789</th>\n",
       "      <td>381938</td>\n",
       "      <td>2016-12-31 16:37:23</td>\n",
       "      <td>2</td>\n",
       "      <td>PA</td>\n",
       "      <td>F</td>\n",
       "      <td>INT</td>\n",
       "      <td>Thuillot</td>\n",
       "      <td>2021-04-16 12:32:16</td>\n",
       "    </tr>\n",
       "    <tr>\n",
       "      <th>327790</th>\n",
       "      <td>381939</td>\n",
       "      <td>2016-12-31 16:41:57</td>\n",
       "      <td>2</td>\n",
       "      <td>PA</td>\n",
       "      <td>F</td>\n",
       "      <td>EXT</td>\n",
       "      <td>Thuillot</td>\n",
       "      <td>2021-04-16 12:32:16</td>\n",
       "    </tr>\n",
       "  </tbody>\n",
       "</table>\n",
       "<p>327791 rows × 8 columns</p>\n",
       "</div>"
      ],
      "text/plain": [
       "            ID      DateTimeEventTT  Satellite Type1 Type2 Type3    Origin  \\\n",
       "0            1  2020-01-01 15:17:59          1    OM     D   EXT  Thuillot   \n",
       "1            2  2020-01-01 15:21:38          1    OM     D   INT  Thuillot   \n",
       "2            3  2020-01-01 15:23:21          1    PA     D   EXT  Thuillot   \n",
       "3            4  2020-01-01 15:27:01          1    PA     D   INT  Thuillot   \n",
       "4            5  2020-01-01 17:32:48          1    OM     F   INT  Thuillot   \n",
       "...        ...                  ...        ...   ...   ...   ...       ...   \n",
       "327786  381935  2016-12-31 14:17:00          2    PA     D   INT  Thuillot   \n",
       "327787  381936  2016-12-31 14:18:53          2    OM     F   INT  Thuillot   \n",
       "327788  381937  2016-12-31 14:23:15          2    OM     F   EXT  Thuillot   \n",
       "327789  381938  2016-12-31 16:37:23          2    PA     F   INT  Thuillot   \n",
       "327790  381939  2016-12-31 16:41:57          2    PA     F   EXT  Thuillot   \n",
       "\n",
       "              DateTimeAdded  \n",
       "0       2020-12-13 12:52:55  \n",
       "1       2020-12-13 12:52:55  \n",
       "2       2020-12-13 12:52:55  \n",
       "3       2020-12-13 12:52:55  \n",
       "4       2020-12-13 12:52:55  \n",
       "...                     ...  \n",
       "327786  2021-04-16 12:32:16  \n",
       "327787  2021-04-16 12:32:16  \n",
       "327788  2021-04-16 12:32:16  \n",
       "327789  2021-04-16 12:32:16  \n",
       "327790  2021-04-16 12:32:16  \n",
       "\n",
       "[327791 rows x 8 columns]"
      ]
     },
     "execution_count": 6,
     "metadata": {},
     "output_type": "execute_result"
    }
   ],
   "source": [
    "df.drop_duplicates()"
   ]
  },
  {
   "cell_type": "code",
   "execution_count": 7,
   "metadata": {},
   "outputs": [],
   "source": [
    "sql_cmd = \"\"\"\n",
    "\n",
    "WITH\n",
    "\n",
    "PyMeeus AS\n",
    "(\n",
    "SELECT DateTimeEventTT, Satellite || Type1 || Type2 || Type3 AS Type, DateTimeEventTT, \n",
    "Satellite, Type1, Type2, Type3\n",
    "FROM Event\n",
    "WHERE ((Origin=\"PyMeeus\") \n",
    "AND (Satellite == 1)  \n",
    "AND (Type1 = \"EC\")\n",
    "AND (Type2 = \"D\") \n",
    "AND (Type3 = \"INT\")\n",
    ")),\n",
    "\n",
    "Thuillot AS\n",
    "(\n",
    "SELECT DateTimeEventTT, Satellite || Type1 || Type2 || Type3 AS Type, DateTimeEventTT\n",
    "FROM Event\n",
    "WHERE ((Origin=\"Thuillot\") \n",
    "AND (Satellite == 1)  \n",
    "AND (Type1 = \"EC\")\n",
    "AND (Type2 = \"D\") \n",
    "AND (Type3 = \"INT\")\n",
    "))\n",
    "\n",
    "\n",
    "SELECT p.DateTimeEventTT, p.Satellite, p.Type1, p.Type2, p.Type3, \n",
    "strftime('%s', p.DateTimeEventTT) - strftime('%s', t.DateTimeEventTT) AS deltaTime, \n",
    "MIN( ABS( strftime('%s', p.DateTimeEventTT) - strftime('%s', t.DateTimeEventTT) )) AS minDeltaTime\n",
    "FROM (PyMeeus p INNER JOIN Thuillot t\n",
    "ON p.Type = t.Type)\n",
    "GROUP BY p.DateTimeEventTT\n",
    "HAVING minDeltaTime <= 3600\n",
    "\n",
    "\"\"\"\n",
    "\n",
    "df = pd.read_sql_query(sql_cmd, cnx)"
   ]
  },
  {
   "cell_type": "code",
   "execution_count": 8,
   "metadata": {},
   "outputs": [
    {
     "data": {
      "text/html": [
       "<div>\n",
       "<style scoped>\n",
       "    .dataframe tbody tr th:only-of-type {\n",
       "        vertical-align: middle;\n",
       "    }\n",
       "\n",
       "    .dataframe tbody tr th {\n",
       "        vertical-align: top;\n",
       "    }\n",
       "\n",
       "    .dataframe thead th {\n",
       "        text-align: right;\n",
       "    }\n",
       "</style>\n",
       "<table border=\"1\" class=\"dataframe\">\n",
       "  <thead>\n",
       "    <tr style=\"text-align: right;\">\n",
       "      <th></th>\n",
       "      <th>DateTimeEventTT</th>\n",
       "      <th>Satellite</th>\n",
       "      <th>Type1</th>\n",
       "      <th>Type2</th>\n",
       "      <th>Type3</th>\n",
       "      <th>deltaTime</th>\n",
       "      <th>minDeltaTime</th>\n",
       "    </tr>\n",
       "  </thead>\n",
       "  <tbody>\n",
       "    <tr>\n",
       "      <th>0</th>\n",
       "      <td>2016-01-01 15:42:26</td>\n",
       "      <td>1</td>\n",
       "      <td>EC</td>\n",
       "      <td>D</td>\n",
       "      <td>INT</td>\n",
       "      <td>8</td>\n",
       "      <td>8</td>\n",
       "    </tr>\n",
       "    <tr>\n",
       "      <th>1</th>\n",
       "      <td>2016-01-03 10:10:43</td>\n",
       "      <td>1</td>\n",
       "      <td>EC</td>\n",
       "      <td>D</td>\n",
       "      <td>INT</td>\n",
       "      <td>8</td>\n",
       "      <td>8</td>\n",
       "    </tr>\n",
       "    <tr>\n",
       "      <th>2</th>\n",
       "      <td>2016-01-05 04:39:06</td>\n",
       "      <td>1</td>\n",
       "      <td>EC</td>\n",
       "      <td>D</td>\n",
       "      <td>INT</td>\n",
       "      <td>7</td>\n",
       "      <td>7</td>\n",
       "    </tr>\n",
       "    <tr>\n",
       "      <th>3</th>\n",
       "      <td>2016-01-06 23:07:25</td>\n",
       "      <td>1</td>\n",
       "      <td>EC</td>\n",
       "      <td>D</td>\n",
       "      <td>INT</td>\n",
       "      <td>7</td>\n",
       "      <td>7</td>\n",
       "    </tr>\n",
       "    <tr>\n",
       "      <th>4</th>\n",
       "      <td>2016-01-08 17:35:48</td>\n",
       "      <td>1</td>\n",
       "      <td>EC</td>\n",
       "      <td>D</td>\n",
       "      <td>INT</td>\n",
       "      <td>7</td>\n",
       "      <td>7</td>\n",
       "    </tr>\n",
       "    <tr>\n",
       "      <th>...</th>\n",
       "      <td>...</td>\n",
       "      <td>...</td>\n",
       "      <td>...</td>\n",
       "      <td>...</td>\n",
       "      <td>...</td>\n",
       "      <td>...</td>\n",
       "      <td>...</td>\n",
       "    </tr>\n",
       "    <tr>\n",
       "      <th>587</th>\n",
       "      <td>2021-08-12 02:44:56</td>\n",
       "      <td>1</td>\n",
       "      <td>EC</td>\n",
       "      <td>D</td>\n",
       "      <td>INT</td>\n",
       "      <td>0</td>\n",
       "      <td>0</td>\n",
       "    </tr>\n",
       "    <tr>\n",
       "      <th>588</th>\n",
       "      <td>2021-08-13 21:13:29</td>\n",
       "      <td>1</td>\n",
       "      <td>EC</td>\n",
       "      <td>D</td>\n",
       "      <td>INT</td>\n",
       "      <td>0</td>\n",
       "      <td>0</td>\n",
       "    </tr>\n",
       "    <tr>\n",
       "      <th>589</th>\n",
       "      <td>2021-08-15 15:42:03</td>\n",
       "      <td>1</td>\n",
       "      <td>EC</td>\n",
       "      <td>D</td>\n",
       "      <td>INT</td>\n",
       "      <td>-1</td>\n",
       "      <td>1</td>\n",
       "    </tr>\n",
       "    <tr>\n",
       "      <th>590</th>\n",
       "      <td>2021-08-17 10:10:38</td>\n",
       "      <td>1</td>\n",
       "      <td>EC</td>\n",
       "      <td>D</td>\n",
       "      <td>INT</td>\n",
       "      <td>-1</td>\n",
       "      <td>1</td>\n",
       "    </tr>\n",
       "    <tr>\n",
       "      <th>591</th>\n",
       "      <td>2021-08-19 04:39:13</td>\n",
       "      <td>1</td>\n",
       "      <td>EC</td>\n",
       "      <td>D</td>\n",
       "      <td>INT</td>\n",
       "      <td>0</td>\n",
       "      <td>0</td>\n",
       "    </tr>\n",
       "  </tbody>\n",
       "</table>\n",
       "<p>592 rows × 7 columns</p>\n",
       "</div>"
      ],
      "text/plain": [
       "         DateTimeEventTT  Satellite Type1 Type2 Type3  deltaTime  minDeltaTime\n",
       "0    2016-01-01 15:42:26          1    EC     D   INT          8             8\n",
       "1    2016-01-03 10:10:43          1    EC     D   INT          8             8\n",
       "2    2016-01-05 04:39:06          1    EC     D   INT          7             7\n",
       "3    2016-01-06 23:07:25          1    EC     D   INT          7             7\n",
       "4    2016-01-08 17:35:48          1    EC     D   INT          7             7\n",
       "..                   ...        ...   ...   ...   ...        ...           ...\n",
       "587  2021-08-12 02:44:56          1    EC     D   INT          0             0\n",
       "588  2021-08-13 21:13:29          1    EC     D   INT          0             0\n",
       "589  2021-08-15 15:42:03          1    EC     D   INT         -1             1\n",
       "590  2021-08-17 10:10:38          1    EC     D   INT         -1             1\n",
       "591  2021-08-19 04:39:13          1    EC     D   INT          0             0\n",
       "\n",
       "[592 rows x 7 columns]"
      ]
     },
     "execution_count": 8,
     "metadata": {},
     "output_type": "execute_result"
    }
   ],
   "source": [
    "df"
   ]
  },
  {
   "cell_type": "markdown",
   "metadata": {},
   "source": [
    "# Eclipses"
   ]
  },
  {
   "cell_type": "markdown",
   "metadata": {},
   "source": [
    "## IO"
   ]
  },
  {
   "cell_type": "code",
   "execution_count": 9,
   "metadata": {},
   "outputs": [
    {
     "data": {
      "text/plain": [
       "Text(0.5, 1.0, 'Variation in eclipse Time for satellite 1 - D')"
      ]
     },
     "execution_count": 9,
     "metadata": {},
     "output_type": "execute_result"
    },
    {
     "data": {
      "image/png": "[encoded data removed]",
      "text/plain": [
       "<Figure size 432x288 with 1 Axes>"
      ]
     },
     "metadata": {
      "needs_background": "light"
     },
     "output_type": "display_data"
    }
   ],
   "source": [
    "df_EC_INT_IO_INT= df[((df.Satellite == 1)&(df.Type1 == 'EC')&(df.Type2 == 'D')&(df.Type3 == 'INT'))]\n",
    "\n",
    "df_EC_INT_IO_INT= df_EC_INT_IO_INT[[ 'DateTimeEventTT','deltaTime']]\n",
    "\n",
    "dates_int = matplotlib.dates.date2num(df_EC_INT_IO_INT['DateTimeEventTT'].to_numpy())\n",
    "matplotlib.pyplot.plot_date(dates_int, df_EC_INT_IO_INT['deltaTime'].to_numpy(), 'b.')\n",
    "\n",
    "plt.ylabel('Time Difference (s)')\n",
    "plt.xlabel('Time')\n",
    "plt.title('Variation in eclipse Time for satellite 1 - D')"
   ]
  },
  {
   "cell_type": "markdown",
   "metadata": {},
   "source": [
    "now it becomes necessaire to identify the portions of the s(t) function which is multiplied with the underlaying one in the time domain, in order to filter the effects of it out of the spectrum"
   ]
  },
  {
   "cell_type": "code",
   "execution_count": 10,
   "metadata": {},
   "outputs": [],
   "source": [
    "datetime_array = df_EC_INT_IO_INT['DateTimeEventTT'].to_numpy()"
   ]
  },
  {
   "cell_type": "code",
   "execution_count": 11,
   "metadata": {},
   "outputs": [
    {
     "name": "stdout",
     "output_type": "stream",
     "text": [
      "0              0.0\n",
      "1         152897.0\n",
      "2         305800.0\n",
      "3         458699.0\n",
      "4         611602.0\n",
      "          ...     \n",
      "587    177073350.0\n",
      "588    177226263.0\n",
      "589    177379177.0\n",
      "590    177532092.0\n",
      "591    177685007.0\n",
      "Name: DateTimeEventTT, Length: 592, dtype: float64\n"
     ]
    }
   ],
   "source": [
    "df_unix_sec = pd.to_datetime(df_EC_INT_IO_INT['DateTimeEventTT']).astype(int)/ 10**9\n",
    "\n",
    "#print(df_unix_sec)\n",
    "\n",
    "first_sampling_time = df_unix_sec[0]\n",
    "\n",
    "relative_sampling_time = df_unix_sec - first_sampling_time\n",
    "\n",
    "print(relative_sampling_time)"
   ]
  },
  {
   "cell_type": "code",
   "execution_count": 12,
   "metadata": {},
   "outputs": [
    {
     "name": "stdout",
     "output_type": "stream",
     "text": [
      "[ 35  36 144 145 253 254 363 364 476 477]\n",
      "35\n",
      "36\n",
      "5657556\n",
      "23396389\n",
      "---\n",
      "144\n",
      "145\n",
      "39909512\n",
      "57495582\n",
      "---\n",
      "253\n",
      "254\n",
      "74161487\n",
      "91747693\n",
      "---\n",
      "363\n",
      "364\n",
      "108413767\n",
      "125847202\n",
      "---\n",
      "476\n",
      "477\n",
      "142972483\n",
      "160253240\n",
      "---\n",
      "87625301.0\n"
     ]
    }
   ],
   "source": [
    "#now we must find samples that are more than three days apart, usually the orbital period is somewhat like 6 days, so everything is ok\n",
    "\n",
    "samples_diff_vec = np.zeros(len(relative_sampling_time)-1)\n",
    "\n",
    "for i in range (len(relative_sampling_time)-1):\n",
    "\n",
    "    samples_diff_vec[i] = relative_sampling_time[i+1] - relative_sampling_time[i]\n",
    "\n",
    "    \n",
    "#print(samples_diff_vec)\n",
    "\n",
    "hot_positions = samples_diff_vec > 160000*2\n",
    "\n",
    "#print(hot_positions)\n",
    "\n",
    "#identify positions limits for the s(t) function\n",
    "\n",
    "s_limits = np.zeros(len(relative_sampling_time))\n",
    "\n",
    "\n",
    "for i in range (len(hot_positions)):\n",
    "\n",
    "    if(hot_positions[i]):\n",
    "    \n",
    "        s_limits[i] = relative_sampling_time[i]\n",
    "        i = i+1\n",
    "        s_limits[i] = relative_sampling_time[i]\n",
    "\n",
    "#print(s_limits)\n",
    "\n",
    "non_zero_indices = (np.nonzero(s_limits))[0]\n",
    "\n",
    "\n",
    "print(non_zero_indices)\n",
    "\n",
    "s_t = np.zeros(int(max(relative_sampling_time)))\n",
    "\n",
    "i = 0\n",
    "\n",
    "while i in range(np.size(non_zero_indices)-1):\n",
    "    \n",
    "    l_index = non_zero_indices[i]\n",
    "    print(l_index)\n",
    "    tmp = i+1\n",
    "    i = i+1\n",
    "    r_index = non_zero_indices[tmp]\n",
    "    i = i+1\n",
    "\n",
    "    print(r_index)\n",
    "    \n",
    "    print(int(relative_sampling_time[l_index]))\n",
    "    print(int(relative_sampling_time[r_index]))\n",
    "    print('---')\n",
    "    \n",
    "    for e in range(int(relative_sampling_time[l_index]), int(relative_sampling_time[r_index])):\n",
    "        s_t[e] = 1.0\n",
    "        #print(int(relative_sampling_time[l_index]))\n",
    "        \n",
    "        \n",
    "\n",
    "#print(s_t)\n",
    " \n",
    "print(np.sum(s_t))\n",
    "\n",
    "s_t_sparse=sparse.csr_matrix(s_t)\n",
    "    "
   ]
  },
  {
   "cell_type": "code",
   "execution_count": 13,
   "metadata": {},
   "outputs": [
    {
     "data": {
      "text/plain": [
       "[<matplotlib.lines.Line2D at 0x7fc169f56c18>]"
      ]
     },
     "execution_count": 13,
     "metadata": {},
     "output_type": "execute_result"
    },
    {
     "data": {
      "image/png": "[encoded data removed]",
      "text/plain": [
       "<Figure size 432x288 with 1 Axes>"
      ]
     },
     "metadata": {
      "needs_background": "light"
     },
     "output_type": "display_data"
    }
   ],
   "source": [
    "plt.plot(s_t[::32])"
   ]
  },
  {
   "cell_type": "code",
   "execution_count": 14,
   "metadata": {},
   "outputs": [
    {
     "name": "stdout",
     "output_type": "stream",
     "text": [
      "[2738290.            -0.j         -104026.55695002-39391.79077488j\n",
      " -102036.73493963-58452.17781543j ... -131273.22270492+89826.93403633j\n",
      " -102036.73493963+58452.17781543j -104026.55695002+39391.79077488j]\n"
     ]
    }
   ],
   "source": [
    "s_jump_spectrum = fft(s_t[::32])\n",
    "\n",
    "\n",
    "print(s_jump_spectrum)"
   ]
  },
  {
   "cell_type": "code",
   "execution_count": 15,
   "metadata": {},
   "outputs": [
    {
     "name": "stderr",
     "output_type": "stream",
     "text": [
      "/home/vserra/.local/lib/python3.6/site-packages/numpy/core/_asarray.py:83: ComplexWarning: Casting complex values to real discards the imaginary part\n",
      "  return array(a, dtype, copy=False, order=order)\n"
     ]
    },
    {
     "data": {
      "text/plain": [
       "[<matplotlib.lines.Line2D at 0x7fc169cbdc18>]"
      ]
     },
     "execution_count": 15,
     "metadata": {},
     "output_type": "execute_result"
    },
    {
     "data": {
      "image/png": "[encoded data removed]",
      "text/plain": [
       "<Figure size 432x288 with 1 Axes>"
      ]
     },
     "metadata": {
      "needs_background": "light"
     },
     "output_type": "display_data"
    }
   ],
   "source": [
    "plt.plot(s_jump_spectrum[0:10**2])"
   ]
  },
  {
   "cell_type": "code",
   "execution_count": 16,
   "metadata": {},
   "outputs": [],
   "source": [
    "#now we have to generate the remianing data from the eclipse difference time data\n",
    "\n",
    "eclipse_diff_data = np.zeros(int(max(relative_sampling_time)))\n",
    "\n",
    "\n",
    "time_diff_data_sparse = df_EC_INT_IO_INT['deltaTime'].to_numpy()\n",
    "\n",
    "\n",
    "for i in range(len(relative_sampling_time)-1):\n",
    "    \n",
    "    timestamp = int(relative_sampling_time[i])\n",
    "    \n",
    "    eclipse_diff_data[timestamp] = time_diff_data_sparse[i]"
   ]
  },
  {
   "cell_type": "code",
   "execution_count": 17,
   "metadata": {},
   "outputs": [
    {
     "data": {
      "text/plain": [
       "[<matplotlib.lines.Line2D at 0x7fc169a80550>]"
      ]
     },
     "execution_count": 17,
     "metadata": {},
     "output_type": "execute_result"
    },
    {
     "data": {
      "image/png": "[encoded data removed]",
      "text/plain": [
       "<Figure size 432x288 with 1 Axes>"
      ]
     },
     "metadata": {
      "needs_background": "light"
     },
     "output_type": "display_data"
    }
   ],
   "source": [
    "plt.plot(eclipse_diff_data[::4], 'b.')"
   ]
  },
  {
   "cell_type": "code",
   "execution_count": 18,
   "metadata": {},
   "outputs": [
    {
     "name": "stdout",
     "output_type": "stream",
     "text": [
      "Length of new vector : 49356 from : 177685007\n"
     ]
    }
   ],
   "source": [
    "#perform the FFT\n",
    "\n",
    "#the frequencie we want to be able to see are 1y and 10y. The overall sampling time is 5 years, menaning that we\n",
    "#need to at least extend the number of samples --> this is only possible by performing a downsampling first\n",
    "#otherwise the vector will be too much for the memory of the machine\n",
    "\n",
    "#we are measuring everything in seconds, we don't really need that precision, let's switch to hours instead,\n",
    "#this will reduce the size of the data to 50 thousands points\n",
    "\n",
    "n_samples_per_bin = 3600\n",
    "binned_vec_len = int((len(eclipse_diff_data)/n_samples_per_bin))\n",
    "\n",
    "print(\"Length of new vector : \" + str(binned_vec_len) + \" from : \" + str(len(eclipse_diff_data)))\n",
    "\n",
    "zeropad_initial = len(eclipse_diff_data) - n_samples_per_bin * binned_vec_len\n",
    "\n",
    "zeropad_vec = np.zeros(zeropad_initial)\n",
    "\n",
    "np.append(eclipse_diff_data, zeropad_vec)\n",
    "\n",
    "binned_eclipse_data_hours = np.zeros(binned_vec_len)\n",
    "\n",
    "for i in range(binned_vec_len):\n",
    "\n",
    "    binned_eclipse_data_hours[i] = np.sum(eclipse_diff_data[i*n_samples_per_bin: (i+1)*n_samples_per_bin])\n",
    "\n",
    "#eclipse_data_downsampled = eclipse_diff_data[::10]\n",
    "\n",
    "#print(str(len(eclipse_data_downsampled))  + \"samples, is a 5 years period\")\n",
    "\n",
    "#len_zero_trailer = int(len(eclipse_data_downsampled) * 6 / 5);\n",
    "\n",
    "#zero_trailer = np.zeros(len_zero_trailer)\n",
    "\n",
    "#np.append(eclipse_data_downsampled, zero_trailer)\n",
    "\n",
    "#plt.plot(eclipse_data_downsampled)\n",
    "\n",
    "#s_spectrum = fft(eclipse_diff_data)\n",
    "\n",
    "\n",
    "#print(s_spectrum)"
   ]
  },
  {
   "cell_type": "code",
   "execution_count": 19,
   "metadata": {},
   "outputs": [
    {
     "data": {
      "text/plain": [
       "[<matplotlib.lines.Line2D at 0x7fc1681ed0f0>]"
      ]
     },
     "execution_count": 19,
     "metadata": {},
     "output_type": "execute_result"
    },
    {
     "data": {
      "image/png": "[encoded data removed]",
      "text/plain": [
       "<Figure size 432x288 with 1 Axes>"
      ]
     },
     "metadata": {
      "needs_background": "light"
     },
     "output_type": "display_data"
    }
   ],
   "source": [
    "plt.plot(binned_eclipse_data_hours, 'b.')"
   ]
  },
  {
   "cell_type": "code",
   "execution_count": 20,
   "metadata": {},
   "outputs": [],
   "source": [
    "s_spectrum = fft(binned_eclipse_data_hours)"
   ]
  },
  {
   "cell_type": "code",
   "execution_count": 21,
   "metadata": {},
   "outputs": [
    {
     "name": "stderr",
     "output_type": "stream",
     "text": [
      "/home/vserra/.local/lib/python3.6/site-packages/numpy/core/_asarray.py:83: ComplexWarning: Casting complex values to real discards the imaginary part\n",
      "  return array(a, dtype, copy=False, order=order)\n"
     ]
    },
    {
     "data": {
      "text/plain": [
       "[<matplotlib.lines.Line2D at 0x7fc167fc6be0>]"
      ]
     },
     "execution_count": 21,
     "metadata": {},
     "output_type": "execute_result"
    },
    {
     "data": {
      "image/png": "[encoded data removed]",
      "text/plain": [
       "<Figure size 432x288 with 1 Axes>"
      ]
     },
     "metadata": {
      "needs_background": "light"
     },
     "output_type": "display_data"
    }
   ],
   "source": [
    "plt.plot(s_spectrum[:], 'b.')"
   ]
  },
  {
   "cell_type": "code",
   "execution_count": 22,
   "metadata": {},
   "outputs": [],
   "source": [
    "#this is not a particularry good result, there are too many variables variating the spectrum, \n",
    "#hence too many harmonics\n",
    "#we should filter it before we proceed"
   ]
  },
  {
   "cell_type": "code",
   "execution_count": 66,
   "metadata": {},
   "outputs": [
    {
     "name": "stdout",
     "output_type": "stream",
     "text": [
      "<scipy.interpolate.interpolate.interp1d object at 0x7fc169eb8368>\n"
     ]
    }
   ],
   "source": [
    "#let's begin with an interpolation, a simple cubic one\n",
    "\n",
    "hours_linspace = np.linspace(0, len(binned_eclipse_data_hours)-1, len(binned_eclipse_data_hours))\n",
    "\n",
    "idx = np.nonzero(binned_eclipse_data_hours)\n",
    "interp = interp1d(hours_linspace[idx],binned_eclipse_data_hours[idx], kind = 'linear', fill_value=\"extrapolate\")\n",
    "\n",
    "print(interp)\n",
    "\n",
    "eclipse_data_interp = interp(hours_linspace[:])"
   ]
  },
  {
   "cell_type": "code",
   "execution_count": 67,
   "metadata": {},
   "outputs": [
    {
     "data": {
      "text/plain": [
       "[<matplotlib.lines.Line2D at 0x7fc16277ec88>]"
      ]
     },
     "execution_count": 67,
     "metadata": {},
     "output_type": "execute_result"
    },
    {
     "data": {
      "image/png": "[encoded data removed]",
      "text/plain": [
       "<Figure size 432x288 with 1 Axes>"
      ]
     },
     "metadata": {
      "needs_background": "light"
     },
     "output_type": "display_data"
    }
   ],
   "source": [
    "plt.plot(eclipse_data_interp, 'b.')\n",
    "plt.plot(binned_eclipse_data_hours, 'r.')"
   ]
  },
  {
   "cell_type": "code",
   "execution_count": 68,
   "metadata": {},
   "outputs": [],
   "source": [
    "#zero pad for higher resolutioin\n",
    "zero_pad = np.zeros(10**7)\n",
    "s_interp = fft(np.append(eclipse_data_interp, zero_pad))"
   ]
  },
  {
   "cell_type": "code",
   "execution_count": 69,
   "metadata": {},
   "outputs": [
    {
     "name": "stderr",
     "output_type": "stream",
     "text": [
      "/home/vserra/.local/lib/python3.6/site-packages/numpy/core/_asarray.py:83: ComplexWarning: Casting complex values to real discards the imaginary part\n",
      "  return array(a, dtype, copy=False, order=order)\n"
     ]
    },
    {
     "data": {
      "text/plain": [
       "[<matplotlib.lines.Line2D at 0x7fc16a481518>]"
      ]
     },
     "execution_count": 69,
     "metadata": {},
     "output_type": "execute_result"
    },
    {
     "data": {
      "image/png": "[encoded data removed]",
      "text/plain": [
       "<Figure size 432x288 with 1 Axes>"
      ]
     },
     "metadata": {
      "needs_background": "light"
     },
     "output_type": "display_data"
    }
   ],
   "source": [
    "plt.plot(s_interp[0:4*10**2*10**1])"
   ]
  },
  {
   "cell_type": "code",
   "execution_count": 70,
   "metadata": {},
   "outputs": [
    {
     "name": "stdout",
     "output_type": "stream",
     "text": [
      "[     312      541      923     1199     1406     1615     1886     2025\n",
      " 10047331 10047470 10047741 10047950 10048157 10048433 10048815 10049044]\n"
     ]
    }
   ],
   "source": [
    "peaks, _ = find_peaks(np.abs(s_interp[:]), height=10**4)\n",
    "\n",
    "\n",
    "print(peaks)"
   ]
  },
  {
   "cell_type": "code",
   "execution_count": 71,
   "metadata": {},
   "outputs": [
    {
     "data": {
      "text/plain": [
       "[<matplotlib.lines.Line2D at 0x7fc169130080>]"
      ]
     },
     "execution_count": 71,
     "metadata": {},
     "output_type": "execute_result"
    },
    {
     "data": {
      "image/png": "[encoded data removed]",
      "text/plain": [
       "<Figure size 432x288 with 1 Axes>"
      ]
     },
     "metadata": {
      "needs_background": "light"
     },
     "output_type": "display_data"
    }
   ],
   "source": [
    "plt.plot(eclipse_data_interp[9000:11000], 'b.')"
   ]
  },
  {
   "cell_type": "code",
   "execution_count": 72,
   "metadata": {},
   "outputs": [
    {
     "name": "stderr",
     "output_type": "stream",
     "text": [
      "/home/vserra/.local/lib/python3.6/site-packages/numpy/core/_asarray.py:83: ComplexWarning: Casting complex values to real discards the imaginary part\n",
      "  return array(a, dtype, copy=False, order=order)\n"
     ]
    },
    {
     "data": {
      "text/plain": [
       "[<matplotlib.lines.Line2D at 0x7fc168fc8be0>]"
      ]
     },
     "execution_count": 72,
     "metadata": {},
     "output_type": "execute_result"
    },
    {
     "data": {
      "image/png": "[encoded data removed]",
      "text/plain": [
       "<Figure size 432x288 with 1 Axes>"
      ]
     },
     "metadata": {
      "needs_background": "light"
     },
     "output_type": "display_data"
    }
   ],
   "source": [
    "plt.plot(ifft(np.append(s_interp[0:10**4], zero_pad))[0:50*10**3])\n",
    "\n"
   ]
  },
  {
   "cell_type": "code",
   "execution_count": 73,
   "metadata": {},
   "outputs": [
    {
     "name": "stdout",
     "output_type": "stream",
     "text": [
      "49356\n"
     ]
    }
   ],
   "source": [
    "np.append(s_t, zeropad_vec)\n",
    "\n",
    "s_t_hrs = np.zeros(binned_vec_len)\n",
    "\n",
    "print(binned_vec_len)\n",
    "\n",
    "for i in range(binned_vec_len):\n",
    "\n",
    "    s_t_hrs[i] = np.mean(s_t[i*n_samples_per_bin: (i+1)*n_samples_per_bin])"
   ]
  },
  {
   "cell_type": "code",
   "execution_count": 74,
   "metadata": {},
   "outputs": [
    {
     "data": {
      "text/plain": [
       "[<matplotlib.lines.Line2D at 0x7fc168e95cc0>]"
      ]
     },
     "execution_count": 74,
     "metadata": {},
     "output_type": "execute_result"
    },
    {
     "data": {
      "image/png": "[encoded data removed]",
      "text/plain": [
       "<Figure size 432x288 with 1 Axes>"
      ]
     },
     "metadata": {
      "needs_background": "light"
     },
     "output_type": "display_data"
    }
   ],
   "source": [
    "plt.plot(s_t_hrs)"
   ]
  },
  {
   "cell_type": "code",
   "execution_count": 75,
   "metadata": {},
   "outputs": [],
   "source": [
    "cleaned_array = eclipse_data_interp * s_t_hrs\n",
    "\n",
    "s_cleaned = fft(np.append(cleaned_array, zero_pad))"
   ]
  },
  {
   "cell_type": "code",
   "execution_count": 76,
   "metadata": {
    "scrolled": true
   },
   "outputs": [
    {
     "name": "stderr",
     "output_type": "stream",
     "text": [
      "/home/vserra/.local/lib/python3.6/site-packages/numpy/core/_asarray.py:83: ComplexWarning: Casting complex values to real discards the imaginary part\n",
      "  return array(a, dtype, copy=False, order=order)\n"
     ]
    },
    {
     "data": {
      "text/plain": [
       "[<matplotlib.lines.Line2D at 0x7fc168b6df28>]"
      ]
     },
     "execution_count": 76,
     "metadata": {},
     "output_type": "execute_result"
    },
    {
     "data": {
      "image/png": "[encoded data removed]",
      "text/plain": [
       "<Figure size 432x288 with 1 Axes>"
      ]
     },
     "metadata": {
      "needs_background": "light"
     },
     "output_type": "display_data"
    }
   ],
   "source": [
    "plt.plot(s_cleaned[0:10**3])"
   ]
  },
  {
   "cell_type": "code",
   "execution_count": 77,
   "metadata": {},
   "outputs": [
    {
     "name": "stdout",
     "output_type": "stream",
     "text": [
      "[     325      530      756     1029     1354     1985     3155     4111\n",
      "     4282     5267     7376 10041980 10044089 10045074 10045245 10046201\n",
      " 10047371 10048002 10048327 10048600 10048826 10049031]\n"
     ]
    }
   ],
   "source": [
    "peaks, _ = find_peaks(np.abs(s_cleaned[:]), height=10**4)\n",
    "\n",
    "\n",
    "print(peaks)"
   ]
  },
  {
   "cell_type": "code",
   "execution_count": 58,
   "metadata": {},
   "outputs": [],
   "source": [
    "#plt.plot(s_spectrum[::5])\n",
    "\n",
    "#plt.plot(peaks, s_spectrum[peaks], \"x\")"
   ]
  },
  {
   "cell_type": "code",
   "execution_count": 60,
   "metadata": {},
   "outputs": [
    {
     "ename": "IndexError",
     "evalue": "index 2008631 is out of bounds for axis 0 with size 49356",
     "output_type": "error",
     "traceback": [
      "\u001b[0;31m---------------------------------------------------------------------------\u001b[0m",
      "\u001b[0;31mIndexError\u001b[0m                                Traceback (most recent call last)",
      "\u001b[0;32m<ipython-input-60-5d34cbda4d49>\u001b[0m in \u001b[0;36m<module>\u001b[0;34m\u001b[0m\n\u001b[1;32m      1\u001b[0m \u001b[0;31m#plt.plot(s_spectrum[::5])\u001b[0m\u001b[0;34m\u001b[0m\u001b[0;34m\u001b[0m\u001b[0;34m\u001b[0m\u001b[0m\n\u001b[1;32m      2\u001b[0m \u001b[0;34m\u001b[0m\u001b[0m\n\u001b[0;32m----> 3\u001b[0;31m \u001b[0mplt\u001b[0m\u001b[0;34m.\u001b[0m\u001b[0mplot\u001b[0m\u001b[0;34m(\u001b[0m\u001b[0mpeaks\u001b[0m\u001b[0;34m[\u001b[0m\u001b[0;34m:\u001b[0m\u001b[0;34m]\u001b[0m\u001b[0;34m,\u001b[0m \u001b[0ms_spectrum\u001b[0m\u001b[0;34m[\u001b[0m\u001b[0mpeaks\u001b[0m\u001b[0;34m[\u001b[0m\u001b[0;34m:\u001b[0m\u001b[0;34m]\u001b[0m\u001b[0;34m]\u001b[0m\u001b[0;34m,\u001b[0m \u001b[0;34m\"x\"\u001b[0m\u001b[0;34m)\u001b[0m\u001b[0;34m\u001b[0m\u001b[0;34m\u001b[0m\u001b[0m\n\u001b[0m",
      "\u001b[0;31mIndexError\u001b[0m: index 2008631 is out of bounds for axis 0 with size 49356"
     ]
    }
   ],
   "source": [
    "#plt.plot(s_spectrum[::5])\n",
    "\n",
    "plt.plot(peaks[:], s_spectrum[peaks[:]], \"x\")"
   ]
  },
  {
   "cell_type": "code",
   "execution_count": 29,
   "metadata": {},
   "outputs": [
    {
     "name": "stdout",
     "output_type": "stream",
     "text": [
      "[1162 1628 2324 2327 2447 2790 2898 3486 3489 3609 3732 3952 4060 4527\n",
      " 4648 4771]\n"
     ]
    }
   ],
   "source": [
    "print(peaks[0: int(len(peaks)/2)])"
   ]
  },
  {
   "cell_type": "code",
   "execution_count": 30,
   "metadata": {},
   "outputs": [
    {
     "data": {
      "text/plain": [
       "32"
      ]
     },
     "execution_count": 30,
     "metadata": {},
     "output_type": "execute_result"
    }
   ],
   "source": [
    "len(peaks)"
   ]
  },
  {
   "cell_type": "code",
   "execution_count": 31,
   "metadata": {},
   "outputs": [
    {
     "name": "stdout",
     "output_type": "stream",
     "text": [
      "31557600.0\n"
     ]
    }
   ],
   "source": [
    "#one year in seconds\n",
    "\n",
    "y_in_sec = 3600*24*365.25\n",
    "print(y_in_sec)"
   ]
  },
  {
   "cell_type": "code",
   "execution_count": 32,
   "metadata": {},
   "outputs": [
    {
     "name": "stdout",
     "output_type": "stream",
     "text": [
      "177685007.0\n"
     ]
    }
   ],
   "source": [
    "print(max(relative_sampling_time))"
   ]
  },
  {
   "cell_type": "code",
   "execution_count": 33,
   "metadata": {},
   "outputs": [
    {
     "data": {
      "text/plain": [
       "35537001.4"
      ]
     },
     "execution_count": 33,
     "metadata": {},
     "output_type": "execute_result"
    }
   ],
   "source": [
    "max(relative_sampling_time) / 5\n"
   ]
  },
  {
   "cell_type": "code",
   "execution_count": 34,
   "metadata": {},
   "outputs": [
    {
     "data": {
      "text/plain": [
       "6311520.0"
      ]
     },
     "execution_count": 34,
     "metadata": {},
     "output_type": "execute_result"
    }
   ],
   "source": [
    "y_in_sec / 5"
   ]
  },
  {
   "cell_type": "code",
   "execution_count": 35,
   "metadata": {},
   "outputs": [
    {
     "data": {
      "text/plain": [
       "1262304.0"
      ]
     },
     "execution_count": 35,
     "metadata": {},
     "output_type": "execute_result"
    }
   ],
   "source": [
    "y_in_sec / (5*5)"
   ]
  },
  {
   "cell_type": "code",
   "execution_count": 36,
   "metadata": {},
   "outputs": [],
   "source": [
    "#the frequency will be measured in JULIAN years, hence let's begin with a test of that and then move on\n",
    "#to the real fft of the data\n",
    "\n",
    "#the samples are taken at 1 sec distance from one another\n",
    "\n",
    "inteval_length_sec = max(relative_sampling_time) #length of the sampling interval in seconds\n",
    "\n",
    "t_vec_sec = np.linspace(0,int(inteval_length_sec), int(inteval_length_sec)+1) \n",
    "\n",
    "#convert the interval to JULIAN years\n",
    "y_in_sec = 31557600\n",
    "\n",
    "#test it all with a sine function\n",
    "freq_test = 1 #years\n",
    "#y_test = np.sin(freq_test * 2 * np.pi * t_vec_sec / y_in_sec ) + np.sin(freq_test * 5 * 2 * np.pi * t_vec_sec / y_in_sec )\n",
    "\n"
   ]
  },
  {
   "cell_type": "code",
   "execution_count": null,
   "metadata": {},
   "outputs": [],
   "source": [
    "#downsample fft\n",
    "downsample_analysis = 4\n",
    "\n",
    "#perform the fft\n",
    "spectrum_test = np.fft.fft(eclipse_diff_data[::downsample_analysis])\n",
    "\n",
    "N = s_spectrum.size #number of samples\n",
    "T = 1/y_in_sec  #spacing between samples\n",
    "\n",
    "#freq = np.linspace(0,T,N)\n",
    "\n",
    "downsample_visualizatioin = 16\n",
    "\n",
    "#plt.plot(freq[::downsample_visualizatioin*downsample_analysis], spectrum_test[::downsample_visualizatioin])\n",
    "\n",
    "plt.plot(spectrum_test[::downsample_visualizatioin])"
   ]
  },
  {
   "cell_type": "code",
   "execution_count": null,
   "metadata": {},
   "outputs": [],
   "source": [
    "import plotly.express as px\n",
    "import plotly.graph_objects as go\n",
    "\n",
    "fig = go.Figure(data=go.Scatter(y=np.abs(s_spectrum[::downsample_visualizatioin])))\n",
    "fig.show()"
   ]
  },
  {
   "cell_type": "code",
   "execution_count": null,
   "metadata": {},
   "outputs": [],
   "source": [
    "#plt.plot(y_test[::16])"
   ]
  },
  {
   "cell_type": "code",
   "execution_count": null,
   "metadata": {},
   "outputs": [],
   "source": [
    "plt.plot(abs(spectrum_test[0:40]), '.')"
   ]
  },
  {
   "cell_type": "code",
   "execution_count": null,
   "metadata": {},
   "outputs": [],
   "source": [
    "x = np.linspace(0, 1500, num = 1000)\n",
    "\n",
    "y = np.sin(10*2*np.pi*x/1000) + np.sin(np.pi*x/1000)\n",
    "#y = y + +np.sin(1/50*x)"
   ]
  },
  {
   "cell_type": "code",
   "execution_count": null,
   "metadata": {},
   "outputs": [],
   "source": [
    "spt = np.fft.fft(y)\n",
    "\n",
    "T = 1  # sampling interval \n",
    "N = y.size\n",
    "\n",
    "# 1/T = frequency\n",
    "f = np.linspace(0, 1 / T, N)\n",
    "\n",
    "plt.plot(y)"
   ]
  },
  {
   "cell_type": "code",
   "execution_count": null,
   "metadata": {},
   "outputs": [],
   "source": [
    "plt.plot((spt[0:20]), 'b.')"
   ]
  },
  {
   "cell_type": "code",
   "execution_count": null,
   "metadata": {},
   "outputs": [],
   "source": [
    "plt.plot(f, spt)"
   ]
  },
  {
   "cell_type": "code",
   "execution_count": null,
   "metadata": {},
   "outputs": [],
   "source": [
    "plt.plot(spt[0:20])"
   ]
  },
  {
   "cell_type": "code",
   "execution_count": null,
   "metadata": {},
   "outputs": [],
   "source": [
    "y = np.append(y, np.zeros(1500))\n"
   ]
  },
  {
   "cell_type": "code",
   "execution_count": null,
   "metadata": {},
   "outputs": [],
   "source": [
    "spt = np.fft.fft(y)\n",
    "plt.plot(abs((spt[0:2000])))"
   ]
  },
  {
   "cell_type": "code",
   "execution_count": null,
   "metadata": {},
   "outputs": [],
   "source": [
    "plt.plot(abs((spt[0:35*2])))"
   ]
  },
  {
   "cell_type": "code",
   "execution_count": null,
   "metadata": {},
   "outputs": [],
   "source": []
  },
  {
   "cell_type": "code",
   "execution_count": null,
   "metadata": {},
   "outputs": [],
   "source": []
  },
  {
   "cell_type": "code",
   "execution_count": null,
   "metadata": {},
   "outputs": [],
   "source": []
  }
 ],
 "metadata": {
  "kernelspec": {
   "display_name": "Python 3",
   "language": "python",
   "name": "python3"
  },
  "language_info": {
   "codemirror_mode": {
    "name": "ipython",
    "version": 3
   },
   "file_extension": ".py",
   "mimetype": "text/x-python",
   "name": "python",
   "nbconvert_exporter": "python",
   "pygments_lexer": "ipython3",
   "version": "3.6.9"
  }
 },
 "nbformat": 4,
 "nbformat_minor": 4
}

{
 "cells": [
  {
   "cell_type": "code",
   "execution_count": 1,
   "metadata": {},
   "outputs": [],
   "source": [
    "from pymeeus.Epoch import Epoch\n",
    "from pymeeus.Earth import Earth\n",
    "from pymeeus.Jupiter import Jupiter\n",
    "from pymeeus.JupiterMoons import JupiterMoons\n",
    "from pymeeus.Sun import Sun\n",
    "\n",
    "import numpy as np\n",
    "import matplotlib.pyplot as plt\n",
    "\n",
    "from numpy import cos as cos\n",
    "from numpy import sin as sin\n",
    "from numpy import tan as tan\n",
    "from numpy import arccos as arccos\n",
    "from numpy import arcsin as arcsin\n",
    "from numpy import arctan2 as arctan2"
   ]
  },
  {
   "cell_type": "code",
   "execution_count": 2,
   "metadata": {},
   "outputs": [],
   "source": [
    "epoch = Epoch()\n",
    "epoch.set(2020, 1, 3, 12, 50, 59)\n",
    "time_step = 1.157401129603386e-05 * 60"
   ]
  },
  {
   "cell_type": "code",
   "execution_count": 3,
   "metadata": {},
   "outputs": [
    {
     "name": "stdout",
     "output_type": "stream",
     "text": [
      "Flatness ratio at the equator (diameter) : 0.06937003411290409\n"
     ]
    }
   ],
   "source": [
    "epsilon = 1/15.4  #flatness ratio of jupiter on the equator\n",
    "\n",
    "R = 71492 #equatorial radius of Jupiter in km\n",
    "\n",
    "au_j_r = 149597870700/R\n",
    "\n",
    "f = 0.06487\n",
    "\n",
    "rho = f/(1-f)\n",
    "print(\"Flatness ratio at the equator (diameter) : \" + str(rho))"
   ]
  },
  {
   "cell_type": "code",
   "execution_count": 17,
   "metadata": {},
   "outputs": [
    {
     "name": "stdout",
     "output_type": "stream",
     "text": [
      "Jupiter's position in AU\n",
      "[[  1216151.95865708]\n",
      " [-10867870.54587904]\n",
      " [    18651.14670391]]\n",
      "p_hat :\n",
      "[0.         0.05460164 0.99850822]\n",
      "y_hat : \n",
      "[-0.99377979 -0.11119693  0.00608061]\n",
      "z_hat : \n",
      "[-0.00585323 -0.00237114 -0.99998006]\n"
     ]
    }
   ],
   "source": [
    "alpha = 2*rho +rho**2\n",
    "\n",
    "l, b, D = Jupiter.geometric_heliocentric_position(epoch)\n",
    "\n",
    "#convert from ecliptical spherical to ecliptical cartesian coordinates\n",
    "x_j = D * cos(b.rad()) * cos(l.rad()) * au_j_r\n",
    "y_j = D * cos(b.rad()) * sin(l.rad()) * au_j_r\n",
    "z_j = D * sin(b.rad()) * au_j_r\n",
    "\n",
    "r_p = (np.array([x_j, y_j, z_j])).T\n",
    "    \n",
    "r_p = r_p.reshape(3,1)\n",
    "print(\"Jupiter's position in AU\")\n",
    "print(r_p)\n",
    "\n",
    "#jupiter's axial tilt\n",
    "omega = np.deg2rad(3.13)\n",
    "\n",
    "p_hat = np.array([0,0,1]).T @ np.array([[1,0,0],[0,cos(omega),-sin(omega)],[0, sin(omega), cos(omega)]])\n",
    "\n",
    "p_hat = np.squeeze(p_hat.reshape(3,1))\n",
    "\n",
    "print(\"p_hat :\")\n",
    "print(p_hat)\n",
    "\n",
    "x_hat = np.squeeze(r_p/(D*au_j_r))\n",
    "\n",
    "y_hat = np.cross(x_hat, p_hat)/np.linalg.norm(np.cross(x_hat, p_hat))\n",
    "\n",
    "print(\"y_hat : \")\n",
    "print(y_hat)\n",
    "\n",
    "z_hat = np.cross(x_hat, y_hat)\n",
    "\n",
    "print(\"z_hat : \")\n",
    "print(z_hat)\n",
    "\n",
    "beta = (1+alpha)/(1+alpha*sin(np.deg2rad(omega))**2)"
   ]
  },
  {
   "cell_type": "code",
   "execution_count": 18,
   "metadata": {},
   "outputs": [
    {
     "name": "stdout",
     "output_type": "stream",
     "text": [
      "Position of IO in Jupiter Radii\n",
      "[-4.14759229  0.15290688 -4.16860633]\n",
      "Io's position in AU, Tulliauts coordinates System\n",
      "[ 1.99215405e-06 -1.98211155e-06  7.30733592e-08]\n"
     ]
    }
   ],
   "source": [
    "#Satellitenkoordinaten von der Sonne aus\n",
    "position_matrix = (np.array(JupiterMoons.rectangular_positions(epoch, solar = True))).reshape(4, 3)\n",
    "#extract only one line-vector for a single satellite, Io will be taken as an example for the following computations\n",
    "\n",
    "Q = position_matrix[0, :].T\n",
    "\n",
    "print(\"Position of IO in Jupiter Radii\")\n",
    "print(Q)\n",
    "\n",
    "Q_buffer = np.zeros([3,1])\n",
    "\n",
    "Q_buffer = Q;\n",
    "\n",
    "#It is necessare to rotate the coordinate-system to be working with Tulliauts method\n",
    "\n",
    "Q = np.array([-Q_buffer[2],Q_buffer[0] ,Q_buffer[1]])\n",
    "\n",
    "Q = Q/ au_j_r\n",
    "\n",
    "print(\"Io's position in AU, Tulliauts coordinates System\")\n",
    "print(Q)"
   ]
  },
  {
   "cell_type": "code",
   "execution_count": 19,
   "metadata": {},
   "outputs": [],
   "source": [
    "#check weather the Method is working in a timespan of 3600 minutes --> 60h\n",
    "n = 3600\n",
    "\n",
    "x_vec = np.zeros([n,1])\n",
    "y_vec = np.zeros([n,1])\n",
    "z_vec = np.zeros([n,1])\n",
    "d = np.zeros([n,1])\n",
    "t = np.zeros([n,1])\n",
    "\n",
    "epoch = Epoch()\n",
    "epoch.set(2020, 1, 2, 12, 0, 59)\n",
    "\n",
    "X = np.array([[0],[0],[1]])/ au_j_r\n",
    "M = np.array([[1,0,0],[0,1,0],[0,0,rho]])\n",
    "\n",
    "Q_buffer = np.zeros([3,1])\n",
    "    \n",
    "for i in range(0, n):\n",
    "\n",
    "    epoch += time_step\n",
    "    \n",
    "    l, b, D = Jupiter.geometric_heliocentric_position(epoch)\n",
    "\n",
    "    #convert from ecliptical spherical to ecliptical cartesian coordinates\n",
    "    x_j = D * cos(b.rad()) * cos(l.rad()) * au_j_r\n",
    "    y_j = D * cos(b.rad()) * sin(l.rad()) * au_j_r\n",
    "    z_j = D * sin(b.rad()) * au_j_r\n",
    "\n",
    "    r_p = (np.array([x_j, y_j, z_j])).T\n",
    "\n",
    "    r_p = r_p.reshape(3,1)\n",
    "\n",
    "    #jupiter's axial tilt\n",
    "    omega = np.deg2rad(3.13)\n",
    "\n",
    "    p_hat = np.array([0,0,1]).T @ np.array([[1,0,0],[0,cos(omega),-sin(omega)],[0, sin(omega), cos(omega)]])\n",
    "\n",
    "    p_hat = np.squeeze(p_hat.reshape(3,1))\n",
    "\n",
    "    x_hat = np.squeeze(r_p/D)\n",
    "\n",
    "    y_hat = np.cross(x_hat, p_hat)/np.abs(np.cross(x_hat, p_hat))\n",
    "\n",
    "    z_hat = np.cross(x_hat, y_hat)\n",
    "\n",
    "    beta = (1+alpha)/(1+alpha*sin(np.deg2rad(omega))**2)\n",
    "    \n",
    "    #Satellitenkoordinaten von der Sonne aus\n",
    "    position_matrix = (np.array(JupiterMoons.rectangular_positions(epoch, solar = True))).reshape(4, 3)\n",
    "    #extract only one line-vector for a single satellite, Io will be taken as an example for the following computations\n",
    "\n",
    "    Q = position_matrix[0, :].T\n",
    "\n",
    "    Q_buffer = np.zeros([3,1])\n",
    "\n",
    "    Q_buffer = Q;\n",
    "\n",
    "    #It is necessare to rotate the coordinate-system to be working with Tulliauts method\n",
    "\n",
    "    Q = np.array([-Q_buffer[2],Q_buffer[0] ,Q_buffer[1]])\n",
    "\n",
    "    Q = Q/ au_j_r\n",
    "\n",
    "    x_vec[i] = -Q_buffer[2]\n",
    "    \n",
    "    d[i] = np.sqrt(Q[1]**2+beta*Q[2]**2)-(R/(au_j_r *D))*(Q[0] + D)\n",
    "    \n",
    "    if(d[i]  > 0) :\n",
    "        print(epoch.get_full_date())\n",
    "        print(d[i])"
   ]
  },
  {
   "cell_type": "code",
   "execution_count": 20,
   "metadata": {},
   "outputs": [
    {
     "data": {
      "text/plain": [
       "[<matplotlib.lines.Line2D at 0x7f08c27d70f0>]"
      ]
     },
     "execution_count": 20,
     "metadata": {},
     "output_type": "execute_result"
    },
    {
     "data": {
      "image/png": "[encoded data removed]",
      "text/plain": [
       "<Figure size 432x288 with 1 Axes>"
      ]
     },
     "metadata": {
      "needs_background": "light"
     },
     "output_type": "display_data"
    }
   ],
   "source": [
    "plt.plot(d)"
   ]
  },
  {
   "cell_type": "code",
   "execution_count": 12,
   "metadata": {},
   "outputs": [
    {
     "data": {
      "text/plain": [
       "[<matplotlib.lines.Line2D at 0x7f08c2a5e898>]"
      ]
     },
     "execution_count": 12,
     "metadata": {},
     "output_type": "execute_result"
    },
    {
     "data": {
      "image/png": "[encoded data removed]",
      "text/plain": [
       "<Figure size 432x288 with 1 Axes>"
      ]
     },
     "metadata": {
      "needs_background": "light"
     },
     "output_type": "display_data"
    }
   ],
   "source": [
    "plt.plot(x_vec)"
   ]
  },
  {
   "cell_type": "code",
   "execution_count": null,
   "metadata": {},
   "outputs": [],
   "source": [
    "x_hat = np.squeeze(r_p / D)\n",
    "\n",
    "D = np.linalg.norm(r_p)\n",
    "\n",
    "y_hat = np.squeeze(np.cross(x_hat, p_hat, axis= 0)/np.linalg.norm(np.cross(x_hat, p_hat, axis = 0)))\n",
    "\n",
    "z_hat = np.squeeze(np.cross(x_hat, y_hat, axis = 0))\n",
    "\n",
    "x = np.dot(r_s , x_hat) \n",
    "\n",
    "y = np.dot(r_s , y_hat)\n",
    "\n",
    "z = np.dot(r_s , z_hat)\n",
    "\n",
    "sin_omega = - np.dot(p_hat ,x_hat)\n",
    "\n",
    "cos_omega =  np.dot(p_hat , y_hat)\n",
    "\n",
    "print(np.rad2deg(arcsin(sin_omega)))\n",
    "print(np.rad2deg(arcsin(cos_omega)))\n",
    "\n",
    "\n",
    "beta = (1+alpha)/(1+alpha+sin_omega**2)"
   ]
  },
  {
   "cell_type": "code",
   "execution_count": null,
   "metadata": {},
   "outputs": [],
   "source": [
    "d= np.sqrt(y**2 + beta* z**2) - R/D*(x+D)\n",
    "print(d)"
   ]
  },
  {
   "cell_type": "code",
   "execution_count": null,
   "metadata": {},
   "outputs": [],
   "source": []
  },
  {
   "cell_type": "code",
   "execution_count": null,
   "metadata": {},
   "outputs": [],
   "source": []
  },
  {
   "cell_type": "code",
   "execution_count": null,
   "metadata": {},
   "outputs": [],
   "source": []
  }
 ],
 "metadata": {
  "kernelspec": {
   "display_name": "Python 3",
   "language": "python",
   "name": "python3"
  },
  "language_info": {
   "codemirror_mode": {
    "name": "ipython",
    "version": 3
   },
   "file_extension": ".py",
   "mimetype": "text/x-python",
   "name": "python",
   "nbconvert_exporter": "python",
   "pygments_lexer": "ipython3",
   "version": "3.6.9"
  }
 },
 "nbformat": 4,
 "nbformat_minor": 4
}

{
 "cells": [
  {
   "cell_type": "markdown",
   "metadata": {},
   "source": [
    "This notebook is made to represent a new and improved shadow modelling, which can also be used to model the sahdow reciprocaly cast by one jupiter satellite on another"
   ]
  },
  {
   "cell_type": "code",
   "execution_count": 1,
   "metadata": {},
   "outputs": [],
   "source": [
    "import numpy as np\n",
    "import matplotlib.pyplot as plt"
   ]
  },
  {
   "cell_type": "code",
   "execution_count": 2,
   "metadata": {},
   "outputs": [
    {
     "name": "stdout",
     "output_type": "stream",
     "text": [
      "1.0\n"
     ]
    }
   ],
   "source": [
    "#point on the surface of \n",
    ",he earth \n",
    "x_e = np.array([0,0,0.9])#north pole taken to be the point on the earth's surface\n",
    "b = 0.9 # polar radius\n",
    "a = 1 #equatorial radius\n",
    "A = np.array([[1/a**2, 0, 0],[0,1/a**2,0],[0,0,1/b**2]])\n",
    "\n",
    "print(x_e.T @ A @ x_e) #the result of this equaton should be one"
   ]
  },
  {
   "cell_type": "code",
   "execution_count": 3,
   "metadata": {},
   "outputs": [
    {
     "name": "stdout",
     "output_type": "stream",
     "text": [
      "100\n"
     ]
    }
   ],
   "source": [
    "x_s = np.array([-1000,0,10]) #  point on the surface of the sun, with offset counted in earth's radii\n",
    "#the sun is 10 times bigger than earth\n",
    "r_s = np.array([-1000,0,0]) # sun's center of mass offset from earth\n",
    "R_s = 10 #sun radius\n",
    "print((x_s-r_s).T@(x_s-r_s)) # sould return the sun's radius, squared"
   ]
  },
  {
   "cell_type": "code",
   "execution_count": 4,
   "metadata": {},
   "outputs": [
    {
     "name": "stdout",
     "output_type": "stream",
     "text": [
      "[0.99993934 0.00985162 0.00492581]\n",
      "[ 3.20726556e-07 -4.47211702e-01  8.94358297e-01]\n",
      "[1.62778602e-04 8.94414156e-01 4.47239634e-01]\n",
      "[14.50003033  9.99507419  4.9975371 ]\n"
     ]
    }
   ],
   "source": [
    "#position of the satellite \n",
    "\n",
    "r = np.array([15,10,5]) #position of the satellite in the ECEF frame #15\n",
    "n = (r - r_s) / np.linalg.norm(r - r_s) # unit vector along ISF axis z\n",
    "u = (r -(n*r)*n)/np.linalg.norm(r-(n*r)*n) # u does not exist if the earth is between the satellite and the sun\n",
    "v = np.cross(n, u)\n",
    "\n",
    "#coordinates of the origin point\n",
    "gamma = 0.5\n",
    "\n",
    "o = r - gamma*n #origin of the ISF system\n",
    "\n",
    "PEC = np.linalg.norm(o)*u;\n",
    "\n",
    "PEC_isf = np.array([np.dot(u, PEC),\n",
    "                    np.dot(v, PEC),\n",
    "                    np.dot(n, PEC)]).T\n",
    "\n",
    "print(n)\n",
    "print(v)\n",
    "print(u)\n",
    "print(o)\n",
    "\n",
    "#section concerning the existance of the image plane was skipped for now..."
   ]
  },
  {
   "cell_type": "code",
   "execution_count": 5,
   "metadata": {},
   "outputs": [
    {
     "name": "stdout",
     "output_type": "stream",
     "text": [
      "[[1.        0.        0.       ]\n",
      " [0.        1.        0.       ]\n",
      " [0.        0.        1.2345679]]\n"
     ]
    }
   ],
   "source": [
    "M = A@r@(r.T)*A.T - (r.T@A@r - 1)*A\n",
    "\n",
    "print(M)"
   ]
  },
  {
   "cell_type": "code",
   "execution_count": 6,
   "metadata": {},
   "outputs": [
    {
     "name": "stdout",
     "output_type": "stream",
     "text": [
      "1.046919043377021\n",
      "0.09382539592222433\n",
      "1.1875004835100529\n",
      "-0.011693970715755137\n",
      "-0.0010333744963708386\n",
      "0.2500014228654173\n"
     ]
    }
   ],
   "source": [
    "k_0 = u.T@M@u\n",
    "print(k_0)\n",
    "k_1 = u.T@M@v\n",
    "print(k_1)\n",
    "k_2 = v.T@M@v \n",
    "print(k_2)\n",
    "k_3 = -2*gamma*u.T@M@n\n",
    "print(k_3)\n",
    "k_4 = -2*gamma*v.T@M@n\n",
    "print(k_4)\n",
    "k_5 = gamma**2*n.T@M@n\n",
    "print(k_5)"
   ]
  },
  {
   "cell_type": "code",
   "execution_count": 7,
   "metadata": {},
   "outputs": [],
   "source": [
    "delta = np.array([k_3, k_4]).T\n",
    "B = np.array([[k_0, k_1],[k_2, k_3]])"
   ]
  },
  {
   "cell_type": "code",
   "execution_count": 8,
   "metadata": {},
   "outputs": [
    {
     "name": "stdout",
     "output_type": "stream",
     "text": [
      "1.5859182941101124\n",
      "[[ 1.04691904  0.0938254 ]\n",
      " [ 1.18750048 -0.01169397]]\n"
     ]
    }
   ],
   "source": [
    "print(np.linalg.norm(B))\n",
    "\n",
    "print(B) #if B>0 then we do have a parabula"
   ]
  },
  {
   "cell_type": "code",
   "execution_count": 9,
   "metadata": {},
   "outputs": [
    {
     "name": "stdout",
     "output_type": "stream",
     "text": [
      "[ 1.14337853 -0.10815346]\n",
      "[[ 1.14337853  0.        ]\n",
      " [ 0.         -0.10815346]]\n"
     ]
    },
    {
     "data": {
      "text/plain": [
       "array([[ 1.04691904,  0.0938254 ],\n",
       "       [ 1.18750048, -0.01169397]])"
      ]
     },
     "execution_count": 9,
     "metadata": {},
     "output_type": "execute_result"
    }
   ],
   "source": [
    "Eigenvalues, Q = np.linalg.eig(B) #this step fails\n",
    "\n",
    "print(Eigenvalues)\n",
    "\n",
    "lambda_1 = Eigenvalues[0]\n",
    "lambda_2 = Eigenvalues[1]\n",
    "\n",
    "D = np.diag(Eigenvalues)\n",
    "\n",
    "print(D)\n",
    "\n",
    "Q@D@np.linalg.inv(Q)"
   ]
  },
  {
   "cell_type": "code",
   "execution_count": 10,
   "metadata": {},
   "outputs": [
    {
     "name": "stdout",
     "output_type": "stream",
     "text": [
      "[[ 1.04691904  0.0938254 ]\n",
      " [ 1.18750048 -0.01169397]]\n",
      "[[ 0.69725158 -0.08096235]\n",
      " [ 0.7168265   0.99671716]]\n",
      "4\n"
     ]
    }
   ],
   "source": [
    "print(B)\n",
    "\n",
    "print(Q)\n",
    "\n",
    "print(np.size(Q))"
   ]
  },
  {
   "cell_type": "code",
   "execution_count": 11,
   "metadata": {},
   "outputs": [
    {
     "name": "stdout",
     "output_type": "stream",
     "text": [
      "[0 0]\n"
     ]
    },
    {
     "data": {
      "text/plain": [
       "(2,)"
      ]
     },
     "execution_count": 11,
     "metadata": {},
     "output_type": "execute_result"
    }
   ],
   "source": [
    "alpha = 0#np.array(np.linspace(-1000, 1000, 10**6))\n",
    "beta  = 0#np.array(np.linspace(-1000, 1000, 10**6))\n",
    "Chsi  = np.array((alpha, beta)).T\n",
    "\n",
    "Chsi.reshape([2,1])\n",
    "\n",
    "print(Chsi)\n",
    "np.shape(Chsi)"
   ]
  },
  {
   "cell_type": "code",
   "execution_count": 12,
   "metadata": {},
   "outputs": [
    {
     "name": "stdout",
     "output_type": "stream",
     "text": [
      "[-0.00388952  0.00038469]\n"
     ]
    },
    {
     "name": "stderr",
     "output_type": "stream",
     "text": [
      "/home/vserra/.local/lib/python3.6/site-packages/ipykernel_launcher.py:11: RuntimeWarning: invalid value encountered in sqrt\n",
      "  # This is added back by InteractiveShellApp.init_path()\n"
     ]
    },
    {
     "data": {
      "text/plain": [
       "<matplotlib.collections.PathCollection at 0x7f5fdf493b00>"
      ]
     },
     "execution_count": 12,
     "metadata": {},
     "output_type": "execute_result"
    },
    {
     "data": {
      "image/png": "[encoded data removed]",
      "text/plain": [
       "<Figure size 432x288 with 1 Axes>"
      ]
     },
     "metadata": {
      "needs_background": "light"
     },
     "output_type": "display_data"
    }
   ],
   "source": [
    "#projection of the earth\n",
    "\n",
    "phi = Q.T@Chsi + 0.5*np.linalg.inv(D)@Q.T@delta\n",
    "\n",
    "print(phi)\n",
    "\n",
    "#get the poits on the ellipse\n",
    "alpha = np.array(np.linspace(-1000, 0, 10**6))\n",
    "\n",
    "\n",
    "beta = np.sqrt(-alpha*(alpha*k_0+k_3)/k_2 -k_5/k_2)\n",
    "\n",
    "plt.scatter(alpha, beta)"
   ]
  },
  {
   "cell_type": "code",
   "execution_count": 13,
   "metadata": {},
   "outputs": [],
   "source": [
    "import matplotlib as mpl\n",
    "import matplotlib.pyplot as plt\n",
    "\n",
    "mpl.rcParams['lines.color'] = 'k'\n",
    "mpl.rcParams['axes.prop_cycle'] = mpl.cycler('color', ['k'])\n",
    "\n",
    "x = np.linspace(-1, 1, 10**4)\n",
    "y = np.linspace(-1, 1, 10**4)\n",
    "x, y = np.meshgrid(x, y)\n",
    "\n",
    "def axes():\n",
    "    plt.axhline(0, alpha=.1)\n",
    "    plt.axvline(0, alpha=.1)\n",
    "    \n",
    "    "
   ]
  },
  {
   "cell_type": "code",
   "execution_count": 14,
   "metadata": {},
   "outputs": [
    {
     "data": {
      "image/png": "[encoded data removed]",
      "text/plain": [
       "<Figure size 432x288 with 1 Axes>"
      ]
     },
     "metadata": {
      "needs_background": "light"
     },
     "output_type": "display_data"
    }
   ],
   "source": [
    "axes()\n",
    "plt.contour(x, y,(k_0*x**2 + k_1*x*y + k_2*y**2 + k_3*x + k_4*y + k_5), [gamma], colors='r')\n",
    "plt.gca().set_aspect(\"equal\")\n",
    "plt.show()"
   ]
  },
  {
   "cell_type": "code",
   "execution_count": 15,
   "metadata": {},
   "outputs": [
    {
     "name": "stdout",
     "output_type": "stream",
     "text": [
      "0.00492580955251607\n"
     ]
    }
   ],
   "source": [
    "# Sun's projection\n",
    "\n",
    "R_0 = (gamma*R_s)/np.linalg.norm(r-r_s)\n",
    "\n",
    "print(R_0)"
   ]
  },
  {
   "cell_type": "code",
   "execution_count": 16,
   "metadata": {},
   "outputs": [
    {
     "data": {
      "image/png": "[encoded data removed]",
      "text/plain": [
       "<Figure size 432x288 with 1 Axes>"
      ]
     },
     "metadata": {
      "needs_background": "light"
     },
     "output_type": "display_data"
    }
   ],
   "source": [
    "axes()\n",
    "plt.contour(x, y,(x**2 + y**2 ), [R_0], colors='r')\n",
    "plt.contour(x, y,(k_0*x**2 + k_1*x*y + k_2*y**2 + k_3*x + k_4*y + k_5), [gamma], colors='b')\n",
    "\n",
    "plt.gca().set_aspect(\"equal\")\n",
    "plt.show()"
   ]
  },
  {
   "cell_type": "code",
   "execution_count": 17,
   "metadata": {},
   "outputs": [
    {
     "name": "stdout",
     "output_type": "stream",
     "text": [
      "[-0.044121951439149765, 0.09382539592222433]\n",
      "[-0.42555085  0.90493451]\n",
      "0.003534475052227864\n",
      "-0.028764032635920016\n",
      "[2.49957804e-01 3.06476938e-05 4.99833954e-01 3.06476938e-05\n",
      " 2.49997617e-01]\n"
     ]
    }
   ],
   "source": [
    "Omega = (k_2*k_3**2 -2*k_1*k_3*k_4+ k_0*k_4**2)/(4*(k_0*k_2-k_1**2))\n",
    "\n",
    "\n",
    "r1 = [lambda_1 - k_2, k_1]\n",
    "r2 = [lambda_2 - k_2, k_1]\n",
    "print(r1)\n",
    "\n",
    "r1 = r1/np.linalg.norm(r1)\n",
    "r2 = r1/np.linalg.norm(r2)\n",
    "print(r1)\n",
    "\n",
    "#computer transaltion parameters \n",
    "\n",
    "t_x = np.dot(r1,np.array([k_3, k_4]))/lambda_1\n",
    "t_y = np.dot(r2,np.array([k_3, k_4]))/lambda_2\n",
    "\n",
    "print(t_x)\n",
    "print(t_y)\n",
    "\n",
    "#semi major and semi minor axes\n",
    "semi_major_squared = (Omega - k_5) / lambda_1\n",
    "semi_minor_squared = (Omega - k_5) / lambda_2\n",
    "\n",
    "A = lambda_1*(R_0 - 0.5*t_x )**2 + 0.25*lambda_2*t_y*t_y - Omega + k_5;\n",
    "B = 2.0*lambda_2*R_0*t_y;\n",
    "C = lambda_1*(0.5*t_x*t_x - 2*R_0*R_0) + lambda_2*(0.5*t_y*t_y + 4*R_0*R_0) - 2*Omega + 2*k_5;\n",
    "D = 2*lambda_2*R_0*t_y;\n",
    "E = lambda_1*(R_0+0.5*t_x)*(R_0+0.5*t_x) + 0.25*lambda_2*t_y*t_y - Omega + k_5;\n",
    "\n",
    "coeff =  np.array([A,B,C,D,E])\n",
    "\n",
    "print(coeff)\n",
    "\n",
    "solutions = np.roots(coeff)\n",
    "XX = solutions"
   ]
  },
  {
   "cell_type": "code",
   "execution_count": 18,
   "metadata": {},
   "outputs": [
    {
     "name": "stdout",
     "output_type": "stream",
     "text": [
      "Posizione del centro del sole rispetto alla proiezione della terra : -0.00013063687061269132\n"
     ]
    }
   ],
   "source": [
    "#calculating the overlapping area\n",
    "\n",
    "#condition : is the sun's center inside the projection of the earth ? \n",
    "\n",
    "\n",
    "#since the projection of the earth must be an ellipse, the following check should be <= 1 if the \n",
    "sun_center_pos_earth = Omega/(Omega-k_5)\n",
    "\n",
    "print('Posizione del centro del sole rispetto alla proiezione della terra : '+ str(sun_center_pos_earth))"
   ]
  },
  {
   "cell_type": "code",
   "execution_count": 19,
   "metadata": {},
   "outputs": [],
   "source": [
    "#oringin of the sun in the transformed frame of reference\n",
    "\n",
    "O_s = 0.5*np.array([t_x, t_y]);\n",
    "\n",
    "#calculate the coordinates of the intersections betweent the circle and the conical curve in transformed frame\n",
    "#in the new frame, the origin is at the centre of the projection of the Earth\n",
    "Q1 = np.array((1.0 - XX[0]*XX[0])/(1.0 + XX[0]*XX[0])*R_0 + 0.5*t_x , 2*XX[0]/(1.0 + XX[0]*XX[0])*R_0 + 0.5*t_y)\n",
    "Q2 = np.array((1.0 - XX[1]*XX[1])/(1.0 + XX[1]*XX[1])*R_0 + 0.5*t_x , 2*XX[1]/(1.0 + XX[1]*XX[1])*R_0 + 0.5*t_y)"
   ]
  },
  {
   "cell_type": "code",
   "execution_count": 20,
   "metadata": {},
   "outputs": [],
   "source": [
    "PEC_new = np.array([np.dot(PEC_isf[:2], r1)+0.5*t_x,np.dot(PEC_isf[:2], r2)+0.5*t_y])"
   ]
  },
  {
   "cell_type": "code",
   "execution_count": 21,
   "metadata": {},
   "outputs": [
    {
     "name": "stdout",
     "output_type": "stream",
     "text": [
      "0.6776960814904248\n",
      "-13.320074710098368\n",
      "65.70125222530088\n",
      "(9.827469181173484+0.6072964181190792j)\n",
      "(9.827469181173484-0.6072964181190792j)\n"
     ]
    }
   ],
   "source": [
    "#figure out the intersection between the line from PEC_new to Os and the conical curve.\n",
    "#parameter equation of line from Oe to Os in transformed frame, x = td\n",
    "PEC_Os_len = np.sqrt( (O_s[0]-PEC_new[0])*(O_s[0]-PEC_new[0]) + (O_s[1]-PEC_new[1])*(O_s[1]-PEC_new[1]));\n",
    "d = np.array([(O_s[0]-PEC_new[0])/PEC_Os_len,(O_s[1]-PEC_new[1])/PEC_Os_len])\n",
    "aa = lambda_1*d[0]*d[0] + lambda_2*d[1]*d[1];\n",
    "bb = 2*(lambda_1*PEC_new[0]*d[0] + lambda_2*PEC_new[1]*d[1]);\n",
    "cc = lambda_1*PEC_new[0]*PEC_new[0] + lambda_2*PEC_new[1]*PEC_new[1] + k_5 - Omega;\n",
    "t1 = (-bb + np.lib.scimath.sqrt(bb*bb - 4.0*aa*cc ))/aa/2.0;\n",
    "t2 = (-bb - np.lib.scimath.sqrt(bb*bb - 4.0*aa*cc ))/aa/2.0;\n",
    "\n",
    "\n",
    "print(aa)\n",
    "print(bb)\n",
    "print(cc)\n",
    "\n",
    "\n",
    "print(t1)\n",
    "print(t2)"
   ]
  },
  {
   "cell_type": "code",
   "execution_count": 25,
   "metadata": {},
   "outputs": [],
   "source": [
    "if(t1*t2<0.0):\n",
    "        \n",
    "    if(t1 > 0):\n",
    "        dis_circle = t1\n",
    "    else:\n",
    "        dis_circle = t2\n",
    "        \n",
    "else:\n",
    "        \n",
    "    if(t1<=t2):\n",
    "        dis_circle = t1\n",
    "    else:\n",
    "        dis_circle = t2\n",
    "        "
   ]
  },
  {
   "cell_type": "code",
   "execution_count": null,
   "metadata": {},
   "outputs": [],
   "source": []
  }
 ],
 "metadata": {
  "kernelspec": {
   "display_name": "Python 3",
   "language": "python",
   "name": "python3"
  },
  "language_info": {
   "codemirror_mode": {
    "name": "ipython",
    "version": 3
   },
   "file_extension": ".py",
   "mimetype": "text/x-python",
   "name": "python",
   "nbconvert_exporter": "python",
   "pygments_lexer": "ipython3",
   "version": "3.6.9"
  }
 },
 "nbformat": 4,
 "nbformat_minor": 4
}

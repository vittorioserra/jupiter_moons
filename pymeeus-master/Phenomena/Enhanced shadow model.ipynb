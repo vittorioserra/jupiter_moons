{
 "cells": [
  {
   "cell_type": "markdown",
   "metadata": {},
   "source": [
    "This notebook is made to represent a new and improved shadow modelling, which can also be used to model the sahdow reciprocaly cast by one jupiter satellite on another"
   ]
  },
  {
   "cell_type": "code",
   "execution_count": 37,
   "metadata": {},
   "outputs": [],
   "source": [
    "import numpy as np"
   ]
  },
  {
   "cell_type": "code",
   "execution_count": 38,
   "metadata": {},
   "outputs": [
    {
     "name": "stdout",
     "output_type": "stream",
     "text": [
      "1.0\n"
     ]
    }
   ],
   "source": [
    "#point on the surface of the earth \n",
    "x_e = np.array([0,0,0.9])#north pole\n",
    "b = 0.9 # polar radius\n",
    "a = 1 #equatorial radius\n",
    "A = np.array([[1/a**2, 0, 0],[0,1/a**2,0],[0,0,1/b**2]])\n",
    "\n",
    "print(x_e.T @ A @ x_e) #the result of this equaton should be one"
   ]
  },
  {
   "cell_type": "code",
   "execution_count": 39,
   "metadata": {},
   "outputs": [
    {
     "name": "stdout",
     "output_type": "stream",
     "text": [
      "100\n"
     ]
    }
   ],
   "source": [
    "x_s = np.array([-100,0,10]) #  point on the surface of the sun, with offset counted in\n",
    "r_s = np.array([-100,0,0]) # sun's center of mass offset from earth\n",
    "R_s = 10 #sun radius\n",
    "print((x_s-r_s).T@(x_s-r_s)) # sould return the sun's radius, squared"
   ]
  },
  {
   "cell_type": "code",
   "execution_count": 40,
   "metadata": {},
   "outputs": [],
   "source": [
    "#position of the satellite \n",
    "\n",
    "r = np.array([15,0.75,0]) #ECEF\n",
    "n = (r - r_s) / np.linalg.norm(r - r_s) # unit vector along ISF axis z\n",
    "u = (r -(n*r)*n)/np.linalg.norm(r-(n*r)*n) # u does not exist if the arth is between the satellite and the sun\n",
    "v = np.cross(n, u)\n",
    "\n",
    "#coordinates of the origin point\n",
    "gamma = 1\n",
    "\n",
    "o = r - gamma*n"
   ]
  },
  {
   "cell_type": "code",
   "execution_count": 41,
   "metadata": {},
   "outputs": [],
   "source": [
    "M = A@r@(r.T)*A.T - (r.T@A@r - 1)*A"
   ]
  },
  {
   "cell_type": "code",
   "execution_count": 42,
   "metadata": {},
   "outputs": [],
   "source": [
    "k_0 = u.T@M@u\n",
    "k_1 = u.T@M@v\n",
    "k_2 = v.T@M@v \n",
    "k_3 = -2*gamma*u.T@M@n\n",
    "k_4 = -2*gamma*v.T@M@n\n",
    "k_5 = gamma**2*n.T@M@n"
   ]
  },
  {
   "cell_type": "code",
   "execution_count": 43,
   "metadata": {},
   "outputs": [],
   "source": [
    "delta = np.array([k_3, k_4]).T\n",
    "B = np.array([[k_0, k_1],[k_2, k_3]])"
   ]
  },
  {
   "cell_type": "code",
   "execution_count": 44,
   "metadata": {},
   "outputs": [
    {
     "name": "stdout",
     "output_type": "stream",
     "text": [
      "1.5887761425832416\n",
      "[[ 1.          0.        ]\n",
      " [ 1.2345008  -0.01474448]]\n"
     ]
    }
   ],
   "source": [
    "print(np.linalg.norm(B))\n",
    "\n",
    "print(B)"
   ]
  },
  {
   "cell_type": "code",
   "execution_count": 45,
   "metadata": {},
   "outputs": [
    {
     "name": "stdout",
     "output_type": "stream",
     "text": [
      "[[0.         0.6349973 ]\n",
      " [1.         0.77251435]]\n",
      "[[-0.01474448  0.        ]\n",
      " [ 0.          1.        ]]\n"
     ]
    }
   ],
   "source": [
    "Q, D = np.linalg.eig(B) #this step fails\n",
    "\n",
    "print(D)\n",
    "\n",
    "Q = np.array([[Q[0],0],[0,Q[1]]])\n",
    "\n",
    "print(Q)"
   ]
  },
  {
   "cell_type": "code",
   "execution_count": 46,
   "metadata": {},
   "outputs": [
    {
     "name": "stdout",
     "output_type": "stream",
     "text": [
      "[[ 1.          0.        ]\n",
      " [ 1.2345008  -0.01474448]]\n"
     ]
    }
   ],
   "source": [
    "print(B)"
   ]
  },
  {
   "cell_type": "code",
   "execution_count": 47,
   "metadata": {},
   "outputs": [
    {
     "name": "stdout",
     "output_type": "stream",
     "text": [
      "[[ 0.         -0.00936271]\n",
      " [-0.01474448  0.77251435]]\n"
     ]
    }
   ],
   "source": [
    "print(Q@D@Q.T) "
   ]
  },
  {
   "cell_type": "code",
   "execution_count": 48,
   "metadata": {},
   "outputs": [
    {
     "name": "stdout",
     "output_type": "stream",
     "text": [
      "0.0869546725337158\n"
     ]
    }
   ],
   "source": [
    "# Sun's projection\n",
    "\n",
    "R_0 = (gamma*R_s)/np.linalg.norm(r-r_s)\n",
    "\n",
    "print(R_0)"
   ]
  },
  {
   "cell_type": "code",
   "execution_count": 49,
   "metadata": {},
   "outputs": [],
   "source": [
    "Omega = (k_2*k_3**2 -2*k_1*k_3*k_4+ k_0*k_4**2)/(4*(k_0*k_2-k_1**2))"
   ]
  },
  {
   "cell_type": "code",
   "execution_count": null,
   "metadata": {},
   "outputs": [],
   "source": []
  }
 ],
 "metadata": {
  "kernelspec": {
   "display_name": "Python 3",
   "language": "python",
   "name": "python3"
  },
  "language_info": {
   "codemirror_mode": {
    "name": "ipython",
    "version": 3
   },
   "file_extension": ".py",
   "mimetype": "text/x-python",
   "name": "python",
   "nbconvert_exporter": "python",
   "pygments_lexer": "ipython3",
   "version": "3.6.9"
  }
 },
 "nbformat": 4,
 "nbformat_minor": 4
}

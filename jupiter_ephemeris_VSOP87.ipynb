{
 "cells": [
  {
   "cell_type": "code",
   "execution_count": 1,
   "metadata": {},
   "outputs": [],
   "source": [
    "import numpy as np\n",
    "import pandas as pd\n",
    "\n",
    "from astropy.time import Time as ap_time\n",
    "\n",
    "from datetime import datetime"
   ]
  },
  {
   "cell_type": "markdown",
   "metadata": {},
   "source": [
    "The first section of the code implemets a fully functional VSOP87 for the computation of Jupiter's position. The objective is to first compute Jupiter's position in heliocentric-rectangualr coordinates and then use the high-precison E5 Method to compue the orbit of the Galileian Moons"
   ]
  },
  {
   "cell_type": "markdown",
   "metadata": {},
   "source": [
    "# Load the VSOP87 coefficents"
   ]
  },
  {
   "cell_type": "code",
   "execution_count": 2,
   "metadata": {},
   "outputs": [],
   "source": [
    "jupiter_vsop87_elements_l0 = pd.read_csv('jupiter_l0.csv', sep='\\s+|[0-9]+-[0-9]+', header = None , skiprows = 1, engine = 'python')\n",
    "jupiter_vsop87_elements_l1 = pd.read_csv('jupiter_l1.csv', sep='\\s+|[0-9]+-[0-9]+', header = None , skiprows = 1, engine = 'python')\n",
    "jupiter_vsop87_elements_l2 = pd.read_csv('jupiter_l2.csv', sep='\\s+|[0-9]+-[0-9]+', header = None , skiprows = 1, engine = 'python')\n",
    "jupiter_vsop87_elements_l3 = pd.read_csv('jupiter_l3.csv', sep='\\s+|[0-9]+-[0-9]+', header = None , skiprows = 1, engine = 'python')\n",
    "jupiter_vsop87_elements_l4 = pd.read_csv('jupiter_l4.csv', sep='\\s+|[0-9]+-[0-9]+', header = None , skiprows = 1, engine = 'python')\n",
    "jupiter_vsop87_elements_l5 = pd.read_csv('jupiter_l5.csv', sep='\\s+|[0-9]+-[0-9]+', header = None , skiprows = 1, engine = 'python')\n",
    "\n",
    "jupiter_vsop87_elements_b0 = pd.read_csv('jupiter_b0.csv', sep='\\s+|[0-9]+-[0-9]+', header = None , skiprows = 1, engine = 'python')\n",
    "jupiter_vsop87_elements_b1 = pd.read_csv('jupiter_b1.csv', sep='\\s+|[0-9]+-[0-9]+', header = None , skiprows = 1, engine = 'python')\n",
    "jupiter_vsop87_elements_b2 = pd.read_csv('jupiter_b2.csv', sep='\\s+|[0-9]+-[0-9]+', header = None , skiprows = 1, engine = 'python')\n",
    "jupiter_vsop87_elements_b3 = pd.read_csv('jupiter_b3.csv', sep='\\s+|[0-9]+-[0-9]+', header = None , skiprows = 1, engine = 'python')\n",
    "jupiter_vsop87_elements_b4 = pd.read_csv('jupiter_b4.csv', sep='\\s+|[0-9]+-[0-9]+', header = None , skiprows = 1, engine = 'python')\n",
    "jupiter_vsop87_elements_b5 = pd.read_csv('jupiter_b5.csv', sep='\\s+|[0-9]+-[0-9]+', header = None , skiprows = 1, engine = 'python')\n",
    "\n",
    "jupiter_vsop87_elements_r0 = pd.read_csv('jupiter_r0.csv', sep='\\s+|[0-9]+-[0-9]+', header = None , skiprows = 1, engine = 'python')\n",
    "jupiter_vsop87_elements_r1 = pd.read_csv('jupiter_r1.csv', sep='\\s+|[0-9]+-[0-9]+', header = None , skiprows = 1, engine = 'python')\n",
    "jupiter_vsop87_elements_r2 = pd.read_csv('jupiter_r2.csv', sep='\\s+|[0-9]+-[0-9]+', header = None , skiprows = 1, engine = 'python')\n",
    "jupiter_vsop87_elements_r3 = pd.read_csv('jupiter_r3.csv', sep='\\s+|[0-9]+-[0-9]+', header = None , skiprows = 1, engine = 'python')\n",
    "jupiter_vsop87_elements_r4 = pd.read_csv('jupiter_r4.csv', sep='\\s+|[0-9]+-[0-9]+', header = None , skiprows = 1, engine = 'python')\n",
    "jupiter_vsop87_elements_r5 = pd.read_csv('jupiter_r5.csv', sep='\\s+|[0-9]+-[0-9]+', header = None , skiprows = 1, engine = 'python')\n",
    "\n",
    "\n",
    "earth_vsop87_elements_l0 = pd.read_csv('earth_l0.csv', sep='\\s+|[0-9]+-[0-9]+', header = None , skiprows = 1, engine = 'python')\n",
    "earth_vsop87_elements_l1 = pd.read_csv('earth_l1.csv', sep='\\s+|[0-9]+-[0-9]+', header = None , skiprows = 1, engine = 'python')\n",
    "earth_vsop87_elements_l2 = pd.read_csv('earth_l2.csv', sep='\\s+|[0-9]+-[0-9]+', header = None , skiprows = 1, engine = 'python')\n",
    "earth_vsop87_elements_l3 = pd.read_csv('earth_l3.csv', sep='\\s+|[0-9]+-[0-9]+', header = None , skiprows = 1, engine = 'python')\n",
    "earth_vsop87_elements_l4 = pd.read_csv('earth_l4.csv', sep='\\s+|[0-9]+-[0-9]+', header = None , skiprows = 1, engine = 'python')\n",
    "earth_vsop87_elements_l5 = pd.read_csv('earth_l5.csv', sep='\\s+|[0-9]+-[0-9]+', header = None , skiprows = 1, engine = 'python')\n",
    "\n",
    "earth_vsop87_elements_b0 = pd.read_csv('earth_b0.csv', sep='\\s+|[0-9]+-[0-9]+', header = None , skiprows = 1, engine = 'python')\n",
    "earth_vsop87_elements_b1 = pd.read_csv('earth_b1.csv', sep='\\s+|[0-9]+-[0-9]+', header = None , skiprows = 1, engine = 'python')\n",
    "earth_vsop87_elements_b2 = pd.read_csv('earth_b2.csv', sep='\\s+|[0-9]+-[0-9]+', header = None , skiprows = 1, engine = 'python')\n",
    "earth_vsop87_elements_b3 = pd.read_csv('earth_b3.csv', sep='\\s+|[0-9]+-[0-9]+', header = None , skiprows = 1, engine = 'python')\n",
    "earth_vsop87_elements_b4 = pd.read_csv('earth_b4.csv', sep='\\s+|[0-9]+-[0-9]+', header = None , skiprows = 1, engine = 'python')\n",
    "\n",
    "earth_vsop87_elements_r0 = pd.read_csv('earth_r0.csv', sep='\\s+|[0-9]+-[0-9]+', header = None , skiprows = 1, engine = 'python')\n",
    "earth_vsop87_elements_r1 = pd.read_csv('earth_r1.csv', sep='\\s+|[0-9]+-[0-9]+', header = None , skiprows = 1, engine = 'python')\n",
    "earth_vsop87_elements_r2 = pd.read_csv('earth_r2.csv', sep='\\s+|[0-9]+-[0-9]+', header = None , skiprows = 1, engine = 'python')\n",
    "earth_vsop87_elements_r3 = pd.read_csv('earth_r3.csv', sep='\\s+|[0-9]+-[0-9]+', header = None , skiprows = 1, engine = 'python')\n",
    "earth_vsop87_elements_r4 = pd.read_csv('earth_r4.csv', sep='\\s+|[0-9]+-[0-9]+', header = None , skiprows = 1, engine = 'python')\n",
    "earth_vsop87_elements_r5 = pd.read_csv('earth_r5.csv', sep='\\s+|[0-9]+-[0-9]+', header = None , skiprows = 1, engine = 'python')"
   ]
  },
  {
   "cell_type": "code",
   "execution_count": 3,
   "metadata": {},
   "outputs": [],
   "source": [
    "curr_time = datetime.now()\n",
    "\n",
    "datestr = (str(curr_time.year) +\"-\"+ str(curr_time.month) +\"-\"+ str(curr_time.day) +\"T\"+ \n",
    "          str(curr_time.hour) +\":\"+ str(curr_time.minute) +\":\"+ str(curr_time.second))\n",
    "\n",
    "\n",
    "datestr = \"1992-12-16T00:00:59\"\n",
    "\n",
    "\n",
    "t = ap_time(datestr)"
   ]
  },
  {
   "cell_type": "code",
   "execution_count": 4,
   "metadata": {},
   "outputs": [
    {
     "name": "stdout",
     "output_type": "stream",
     "text": [
      "current julian day : 2448972.5006828704\n",
      "current mean sidereal time : 5h40m31.1301s\n"
     ]
    }
   ],
   "source": [
    "#curr_julian_day = 2448972.50068\n",
    "curr_julian_day = t.jd\n",
    "curr_mean_sidereal_time = t.sidereal_time('mean', 'greenwich')\n",
    "\n",
    "print(\"current julian day : \" + str(curr_julian_day))\n",
    "print(\"current mean sidereal time : \" + str(curr_mean_sidereal_time))"
   ]
  },
  {
   "cell_type": "code",
   "execution_count": 5,
   "metadata": {},
   "outputs": [],
   "source": [
    "#clculate tau in julian millenia since J2000.0\n",
    "\n",
    "tau = (curr_julian_day-2451545.0)/365250.0 #julian millenia\n",
    "T = (curr_julian_day-2451545.0)/36525.0    #julian century"
   ]
  },
  {
   "cell_type": "code",
   "execution_count": 6,
   "metadata": {},
   "outputs": [
    {
     "name": "stdout",
     "output_type": "stream",
     "text": [
      "d : 15690.000682870392\n",
      "T_1 : 0.4295688071969991\n",
      "alpha_zero_deg : 268.0455772504436\n",
      "delta_zero_deg : 64.49295507156197\n"
     ]
    }
   ],
   "source": [
    "#step 1 : d = JDE - 2433282.5 ; T_1 = d / 36525\n",
    "\n",
    "d = curr_julian_day - 2433282.5 \n",
    "\n",
    "print(\"d : \" + str(d))\n",
    "\n",
    "T_1 = d / 36525\n",
    "\n",
    "print(\"T_1 : \"+ str(T_1))\n",
    "\n",
    "#RA and DEC of Jupiter's north pole for 1985\n",
    "\n",
    "alpha_0_deg = 268 + 0.1061*T_1\n",
    "delta_0_deg = 64.5 - 0.0164*T_1\n",
    "\n",
    "print(\"alpha_zero_deg : \"+ str(alpha_0_deg))\n",
    "print(\"delta_zero_deg : \"+ str(delta_0_deg))\n"
   ]
  },
  {
   "cell_type": "code",
   "execution_count": 7,
   "metadata": {},
   "outputs": [
    {
     "name": "stdout",
     "output_type": "stream",
     "text": [
      "W_1_deg : 309.8647610414773\n",
      "W_2_deg : 114.28755073994398\n"
     ]
    }
   ],
   "source": [
    "#step 2 : \n",
    "\n",
    "W_1_deg = 17.71 + 877.90003539*d\n",
    "W_2_deg = 16.838 + 870.27003539*d\n",
    "\n",
    "#nor values to 0--360\n",
    "\n",
    "while(W_1_deg > 360 or W_1_deg < 0):\n",
    "    if(W_1_deg > 360):\n",
    "        W_1_deg = W_1_deg - 360;\n",
    "        \n",
    "    if(W_1_deg <0 ):\n",
    "        W_1_deg = W_1_deg + 360;\n",
    "\n",
    "\n",
    "while(W_2_deg > 360 or W_2_deg < 0 ):\n",
    "    \n",
    "    if(W_2_deg > 360):\n",
    "        W_2_deg = W_2_deg - 360;\n",
    "    else:\n",
    "        W_2_deg = W_2_deg + 360\n",
    "\n",
    "    \n",
    "print(\"W_1_deg : \"+str(W_1_deg))\n",
    "print(\"W_2_deg : \"+str(W_2_deg))"
   ]
  },
  {
   "cell_type": "code",
   "execution_count": 8,
   "metadata": {},
   "outputs": [
    {
     "name": "stdout",
     "output_type": "stream",
     "text": [
      "L_earth : 84.28572573710517\n",
      "B_earth : 0.00020649937312923721\n",
      "R_earth : 0.9841231625984798\n"
     ]
    }
   ],
   "source": [
    "#heliocentric longitude, latitue and radius vector of the earth (l_0, b_0, R)\n",
    "\n",
    "# A = col 16, B = col 17, C = col 18\n",
    "\n",
    "#print(earth_vsop87_elements_l0.loc[:, 18]);\n",
    "#print(\"----- tau : \"+ str(tau))\n",
    "#print(earth_vsop87_elements_l0.loc[:, 18]*tau);\n",
    "\n",
    "l_0_earth = earth_vsop87_elements_l0.loc[:, 16] * np.cos(earth_vsop87_elements_l0.loc[:, 17] + earth_vsop87_elements_l0.loc[:, 18]*tau)\n",
    "l_1_earth = earth_vsop87_elements_l1.loc[:, 16] * np.cos(earth_vsop87_elements_l1.loc[:, 17] + earth_vsop87_elements_l1.loc[:, 18]*tau)\n",
    "l_2_earth = earth_vsop87_elements_l2.loc[:, 16] * np.cos(earth_vsop87_elements_l2.loc[:, 17] + earth_vsop87_elements_l2.loc[:, 18]*tau)\n",
    "l_3_earth = earth_vsop87_elements_l3.loc[:, 16] * np.cos(earth_vsop87_elements_l3.loc[:, 17] + earth_vsop87_elements_l3.loc[:, 18]*tau)\n",
    "l_4_earth = earth_vsop87_elements_l4.loc[:, 16] * np.cos(earth_vsop87_elements_l4.loc[:, 17] + earth_vsop87_elements_l4.loc[:, 18]*tau)\n",
    "l_5_earth = earth_vsop87_elements_l5.loc[:, 16] * np.cos(earth_vsop87_elements_l5.loc[:, 17] + earth_vsop87_elements_l5.loc[:, 18]*tau)\n",
    "\n",
    "L_earth = (np.sum(l_0_earth) + np.sum(l_1_earth)*tau + np.sum(l_2_earth)*(tau**2) + np.sum(l_3_earth)*(tau**3)\n",
    "          + np.sum(l_4_earth)*(tau**4) + np.sum(l_5_earth)*(tau**5))\n",
    "\n",
    "b_0_earth = earth_vsop87_elements_b0.loc[:, 16] * np.cos(earth_vsop87_elements_b0.loc[:, 17] + earth_vsop87_elements_b0.loc[:, 18]*tau)\n",
    "b_1_earth = earth_vsop87_elements_b1.loc[:, 16] * np.cos(earth_vsop87_elements_b1.loc[:, 17] + earth_vsop87_elements_b1.loc[:, 18]*tau)\n",
    "b_2_earth = earth_vsop87_elements_b2.loc[:, 16] * np.cos(earth_vsop87_elements_b2.loc[:, 17] + earth_vsop87_elements_b2.loc[:, 18]*tau)\n",
    "b_3_earth = earth_vsop87_elements_b3.loc[:, 16] * np.cos(earth_vsop87_elements_b3.loc[:, 17] + earth_vsop87_elements_b3.loc[:, 18]*tau)\n",
    "b_4_earth = earth_vsop87_elements_b4.loc[:, 16] * np.cos(earth_vsop87_elements_b4.loc[:, 17] + earth_vsop87_elements_b4.loc[:, 18]*tau)\n",
    "\n",
    "\n",
    "B_earth = (np.sum(b_0_earth) + np.sum(b_1_earth)*tau + np.sum(b_2_earth)*(tau**2) + np.sum(b_3_earth)*(tau**3)\n",
    "          + np.sum(b_4_earth)*(tau**4))\n",
    "\n",
    "r_0_earth = earth_vsop87_elements_r0.loc[:, 16] * np.cos((earth_vsop87_elements_r0.loc[:, 17] + earth_vsop87_elements_r0.loc[:, 18]*tau))\n",
    "r_1_earth = earth_vsop87_elements_r1.loc[:, 16] * np.cos((earth_vsop87_elements_r1.loc[:, 17] + earth_vsop87_elements_r1.loc[:, 18]*tau))\n",
    "r_2_earth = earth_vsop87_elements_r2.loc[:, 16] * np.cos((earth_vsop87_elements_r2.loc[:, 17] + earth_vsop87_elements_r2.loc[:, 18]*tau))\n",
    "r_3_earth = earth_vsop87_elements_r3.loc[:, 16] * np.cos((earth_vsop87_elements_r3.loc[:, 17] + earth_vsop87_elements_r3.loc[:, 18]*tau))\n",
    "r_4_earth = earth_vsop87_elements_r4.loc[:, 16] * np.cos((earth_vsop87_elements_r4.loc[:, 17] + earth_vsop87_elements_r4.loc[:, 18]*tau))\n",
    "r_5_earth = earth_vsop87_elements_r5.loc[:, 16] * np.cos((earth_vsop87_elements_r0.loc[:, 17] + earth_vsop87_elements_r5.loc[:, 18]*tau))\n",
    "\n",
    "R_earth = (np.sum(r_0_earth) + np.sum(r_1_earth)*tau + np.sum(r_2_earth)*(tau**2) + np.sum(r_3_earth)*(tau**3)\n",
    "          + np.sum(r_4_earth)*(tau**4) + np.sum(r_5_earth)*(tau**5))\n",
    "\n",
    "L_earth_deg = L_earth*180/np.pi;\n",
    "\n",
    "B_earth_deg = B_earth*180/np.pi;\n",
    "\n",
    "\n",
    "while(L_earth_deg < 0 or L_earth_deg > 360):\n",
    "    \n",
    "    if(L_earth_deg > 360):\n",
    "        L_earth_deg = L_earth_deg - 360;\n",
    "    else:\n",
    "        L_earth_deg = L_earth_deg + 360\n",
    "\n",
    "\n",
    "print(\"L_earth : \" + str(L_earth_deg))\n",
    "print(\"B_earth : \" + str(B_earth_deg))\n",
    "print(\"R_earth : \" + str(R_earth))\n"
   ]
  },
  {
   "cell_type": "code",
   "execution_count": null,
   "metadata": {},
   "outputs": [],
   "source": []
  },
  {
   "cell_type": "code",
   "execution_count": 9,
   "metadata": {},
   "outputs": [
    {
     "name": "stdout",
     "output_type": "stream",
     "text": [
      "L_jupiter : 181.88219396323942\n",
      "B_jupiter : 1.290474216190096\n",
      "R_jupiter : 5.44642319890066\n"
     ]
    }
   ],
   "source": [
    "#heliocentric coordinates of jupiter, [eliocentric - ] latitude, longitiude and radius vector\n",
    "\n",
    "# A = col 16, B = col 17, C = col 18\n",
    "\n",
    "l_0_jupiter = jupiter_vsop87_elements_l0.loc[:, 16] * np.cos((jupiter_vsop87_elements_l0.loc[:, 17] + jupiter_vsop87_elements_l0.loc[:, 18]*tau))\n",
    "l_1_jupiter = jupiter_vsop87_elements_l1.loc[:, 16] * np.cos((jupiter_vsop87_elements_l1.loc[:, 17] + jupiter_vsop87_elements_l1.loc[:, 18]*tau))\n",
    "l_2_jupiter = jupiter_vsop87_elements_l2.loc[:, 16] * np.cos((jupiter_vsop87_elements_l2.loc[:, 17] + jupiter_vsop87_elements_l2.loc[:, 18]*tau))\n",
    "l_3_jupiter = jupiter_vsop87_elements_l3.loc[:, 16] * np.cos((jupiter_vsop87_elements_l3.loc[:, 17] + jupiter_vsop87_elements_l3.loc[:, 18]*tau))\n",
    "l_4_jupiter = jupiter_vsop87_elements_l4.loc[:, 16] * np.cos((jupiter_vsop87_elements_l4.loc[:, 17] + jupiter_vsop87_elements_l4.loc[:, 18]*tau))\n",
    "l_5_jupiter = jupiter_vsop87_elements_l5.loc[:, 16] * np.cos((jupiter_vsop87_elements_l0.loc[:, 17] + jupiter_vsop87_elements_l5.loc[:, 18]*tau))\n",
    "\n",
    "L_jupiter = (np.sum(l_0_jupiter) + np.sum(l_1_jupiter)*tau + np.sum(l_2_jupiter)*(tau**2) + np.sum(l_3_jupiter)*(tau**3)\n",
    "          + np.sum(l_4_jupiter)*(tau**4) + np.sum(l_5_jupiter)*(tau**5))\n",
    "\n",
    "b_0_jupiter = jupiter_vsop87_elements_b0.loc[:, 16] * np.cos((jupiter_vsop87_elements_b0.loc[:, 17] + jupiter_vsop87_elements_b0.loc[:, 18]*tau))\n",
    "b_1_jupiter = jupiter_vsop87_elements_b1.loc[:, 16] * np.cos((jupiter_vsop87_elements_b1.loc[:, 17] + jupiter_vsop87_elements_b1.loc[:, 18]*tau))\n",
    "b_2_jupiter = jupiter_vsop87_elements_b2.loc[:, 16] * np.cos((jupiter_vsop87_elements_b2.loc[:, 17] + jupiter_vsop87_elements_b2.loc[:, 18]*tau))\n",
    "b_3_jupiter = jupiter_vsop87_elements_b3.loc[:, 16] * np.cos((jupiter_vsop87_elements_b3.loc[:, 17] + jupiter_vsop87_elements_b3.loc[:, 18]*tau))\n",
    "b_4_jupiter = jupiter_vsop87_elements_b4.loc[:, 16] * np.cos((jupiter_vsop87_elements_b4.loc[:, 17] + jupiter_vsop87_elements_b4.loc[:, 18]*tau))\n",
    "b_5_jupiter = jupiter_vsop87_elements_b5.loc[:, 16] * np.cos((jupiter_vsop87_elements_b5.loc[:, 17] + jupiter_vsop87_elements_b5.loc[:, 18]*tau))\n",
    "\n",
    "\n",
    "b_0_jupiter.head(10)\n",
    "\n",
    "B_jupiter = (np.sum(b_0_jupiter) + np.sum(b_1_jupiter)*tau + np.sum(b_2_jupiter)*(tau**2) + np.sum(b_3_jupiter)*(tau**3)\n",
    "          + np.sum(b_4_jupiter)*(tau**4) + np.sum(b_5_jupiter)*(tau**5))\n",
    "\n",
    "r_0_jupiter = jupiter_vsop87_elements_r0.loc[:, 16] * np.cos((jupiter_vsop87_elements_r0.loc[:, 17] + jupiter_vsop87_elements_r0.loc[:, 18]*tau))\n",
    "r_1_jupiter = jupiter_vsop87_elements_r1.loc[:, 16] * np.cos((jupiter_vsop87_elements_r1.loc[:, 17] + jupiter_vsop87_elements_r1.loc[:, 18]*tau))\n",
    "r_2_jupiter = jupiter_vsop87_elements_r2.loc[:, 16] * np.cos((jupiter_vsop87_elements_r2.loc[:, 17] + jupiter_vsop87_elements_r2.loc[:, 18]*tau))\n",
    "r_3_jupiter = jupiter_vsop87_elements_r3.loc[:, 16] * np.cos((jupiter_vsop87_elements_r3.loc[:, 17] + jupiter_vsop87_elements_r3.loc[:, 18]*tau))\n",
    "r_4_jupiter = jupiter_vsop87_elements_r4.loc[:, 16] * np.cos((jupiter_vsop87_elements_r4.loc[:, 17] + jupiter_vsop87_elements_r4.loc[:, 18]*tau))\n",
    "r_5_jupiter = jupiter_vsop87_elements_r5.loc[:, 16] * np.cos((jupiter_vsop87_elements_r0.loc[:, 17] + jupiter_vsop87_elements_r5.loc[:, 18]*tau))\n",
    "\n",
    "R_jupiter = (np.sum(r_0_jupiter) + np.sum(r_1_jupiter)*tau + np.sum(r_2_jupiter)*(tau**2) + np.sum(r_3_jupiter)*(tau**3)\n",
    "          + np.sum(r_4_jupiter)*(tau**4) + np.sum(r_5_jupiter)*(tau**5))\n",
    "\n",
    "\n",
    "L_jupiter_deg = L_jupiter*180/np.pi;\n",
    "\n",
    "B_jupiter_deg = B_jupiter*180/np.pi;\n",
    "\n",
    "\n",
    "while(L_jupiter_deg < 0 or L_jupiter_deg > 360):\n",
    "    \n",
    "    if(L_jupiter_deg > 360):\n",
    "        L_jupiter_deg = L_jupiter_deg - 360;\n",
    "    else:\n",
    "        L_jupiter_deg = L_jupiter_deg + 360\n",
    "\n",
    "\n",
    "print(\"L_jupiter : \" + str(L_jupiter_deg))\n",
    "print(\"B_jupiter : \" + str(B_jupiter_deg))\n",
    "print(\"R_jupiter : \" + str(R_jupiter))"
   ]
  },
  {
   "cell_type": "code",
   "execution_count": 10,
   "metadata": {},
   "outputs": [
    {
     "name": "stdout",
     "output_type": "stream",
     "text": [
      "Earth's position in heliocentric coordinates : x|y|z : 0.09798682837049594|0.9792328531131627|3.546872350549087e-06\n",
      "Jupiter's position in heliocentric coordinates : x|y|z : -5.442104052977018|-0.1788400768859938|0.12265954913424534\n"
     ]
    }
   ],
   "source": [
    "#convert to heliocentric cartesian\n",
    "\n",
    "#earth\n",
    "x_earth = R_earth*np.cos(B_earth)*np.cos(L_earth)\n",
    "y_earth = R_earth*np.cos(B_earth)*np.sin(L_earth)\n",
    "z_earth = R_earth*np.sin(B_earth)\n",
    "\n",
    "#jupiter\n",
    "x_jupiter = R_jupiter*np.cos(B_jupiter)*np.cos(L_jupiter)\n",
    "y_jupiter = R_jupiter*np.cos(B_jupiter)*np.sin(L_jupiter)\n",
    "z_jupiter = R_jupiter*np.sin(B_jupiter)\n",
    "\n",
    "\n",
    "print(\"Earth's position in heliocentric coordinates : x|y|z : \" + str(x_earth)+\"|\"+str(y_earth)+\"|\"+str(z_earth))\n",
    "print(\"Jupiter's position in heliocentric coordinates : x|y|z : \" + str(x_jupiter)+\"|\"+str(y_jupiter)+\"|\"+str(z_jupiter))"
   ]
  },
  {
   "cell_type": "code",
   "execution_count": 11,
   "metadata": {},
   "outputs": [
    {
     "name": "stdout",
     "output_type": "stream",
     "text": [
      "Earth-Jupiter distance : x|y|z-->Delta : -5.54009088134815|-1.1580729300055164|0.1226560022618948|5.661164578043934\n"
     ]
    }
   ],
   "source": [
    "#calculate distance between earth and jupiter (Delta)\n",
    "x_dist = x_jupiter - R_earth*np.cos(L_earth)\n",
    "y_dist = y_jupiter - R_earth*np.sin(L_earth)\n",
    "z_dist = z_jupiter - R_earth*np.sin(B_earth)\n",
    "\n",
    "Delta = np.sqrt(x_dist**2  + y_dist**2 + z_dist**2)\n",
    "\n",
    "print(\"Earth-Jupiter distance : x|y|z-->Delta : \" + str(x_dist)+\"|\"+str(y_dist)+\"|\"+str(z_dist)+\"|\"+str(Delta))"
   ]
  },
  {
   "cell_type": "code",
   "execution_count": 12,
   "metadata": {},
   "outputs": [
    {
     "name": "stdout",
     "output_type": "stream",
     "text": [
      "l-correction term in deg : -0.0024790892595810987\n"
     ]
    }
   ],
   "source": [
    "#correct jupiter's heliocentric latitude for the light-delay time\n",
    "\n",
    "l_correction_deg = -0.01299*Delta/(R_jupiter**2)\n",
    "\n",
    "print(\"l-correction term in deg : \"+str(l_correction_deg))"
   ]
  },
  {
   "cell_type": "code",
   "execution_count": 13,
   "metadata": {},
   "outputs": [
    {
     "name": "stdout",
     "output_type": "stream",
     "text": [
      "Jupiter's position in heliocentric coordinates --corrected for light delay : x|y|z : -5.442111785983555|-0.17860460629096228|0.12265954913424534\n",
      "Earth-Jupiter distance : x|y|z-->Delta : -5.540098614354052|-1.157837459404125|0.1226560022618948|5.661123981512678\n"
     ]
    }
   ],
   "source": [
    "#repeat cnversion to cartesian with the updated latutude of jupiter and recmpute the diatnce Delta\n",
    "\n",
    "L_jupiter = L_jupiter + l_correction_deg*(np.pi/180)\n",
    "\n",
    "x_jupiter = R_jupiter*np.cos(B_jupiter)*np.cos(L_jupiter)\n",
    "y_jupiter = R_jupiter*np.cos(B_jupiter)*np.sin(L_jupiter)\n",
    "z_jupiter = R_jupiter*np.sin(B_jupiter)\n",
    "\n",
    "\n",
    "print(\"Jupiter's position in heliocentric coordinates --corrected for light delay : x|y|z : \" + str(x_jupiter)+\"|\"+str(y_jupiter)+\"|\"+str(z_jupiter))\n",
    "\n",
    "#calculate distance between earth and jupiter (Delta) accounting for light delay\n",
    "x_dist = -x_earth + x_jupiter\n",
    "y_dist = -y_earth + y_jupiter\n",
    "z_dist = -z_earth + z_jupiter\n",
    "\n",
    "Delta = np.sqrt(x_dist**2  + y_dist**2 + z_dist**2)\n",
    "\n",
    "print(\"Earth-Jupiter distance : x|y|z-->Delta : \" + str(x_dist)+\"|\"+str(y_dist)+\"|\"+str(z_dist)+\"|\"+str(Delta))"
   ]
  },
  {
   "cell_type": "code",
   "execution_count": 14,
   "metadata": {},
   "outputs": [
    {
     "name": "stdout",
     "output_type": "stream",
     "text": [
      "Epsilon_0 in degrees : 23.440207007981048\n"
     ]
    }
   ],
   "source": [
    "#obliuquity of the ecliptic \n",
    "\n",
    "epsilon_0_deg = 23.43929111 - 0.01300416667*T - 0.0000001638888889*(T**2) + 0.0000005036111111*(T**3)\n",
    "\n",
    "print(\"Epsilon_0 in degrees : \" + str(epsilon_0_deg))"
   ]
  },
  {
   "cell_type": "code",
   "execution_count": 15,
   "metadata": {},
   "outputs": [
    {
     "name": "stdout",
     "output_type": "stream",
     "text": [
      "alpha_s | delta_s : -177.76222347533266|0.43646717559048415\n"
     ]
    }
   ],
   "source": [
    "\n",
    "alpha_s = np.arctan2(np.cos(np.deg2rad(epsilon_0_deg))*np.sin(L_jupiter)-np.sin(np.deg2rad(epsilon_0_deg))*np.tan(B_jupiter), np.cos(L_jupiter))\n",
    "delta_s = np.cos(np.deg2rad(epsilon_0_deg))*np.sin(B_jupiter) + np.sin(np.deg2rad(epsilon_0_deg))*np.cos(B_jupiter)*np.sin(L_jupiter)\n",
    "\n",
    "print(\"alpha_s | delta_s : \"+str(np.rad2deg(alpha_s))+\"|\"+str(np.rad2deg(delta_s)))\n"
   ]
  },
  {
   "cell_type": "code",
   "execution_count": 16,
   "metadata": {},
   "outputs": [
    {
     "name": "stdout",
     "output_type": "stream",
     "text": [
      "D_s : -2.1980519518511796\n"
     ]
    }
   ],
   "source": [
    "D_s = np.arcsin(-np.sin(np.deg2rad(delta_0_deg))*np.sin(delta_s)-np.cos(np.deg2rad(delta_0_deg))*np.cos(delta_s)*np.cos(np.deg2rad(alpha_0_deg)-alpha_s))\n",
    "\n",
    "print(\"D_s : \" + str(np.rad2deg(D_s)))"
   ]
  },
  {
   "cell_type": "code",
   "execution_count": 17,
   "metadata": {},
   "outputs": [
    {
     "name": "stdout",
     "output_type": "stream",
     "text": [
      "u|v|alpha|delta|zeta of jupiter\n",
      "-1.1110792920406625|-0.3480443708619479|-168.65964565558104|-3.5247518576377153|13.523786518747778\n"
     ]
    }
   ],
   "source": [
    "u_jupiter = y_dist*np.cos(np.deg2rad(epsilon_0_deg))-z_dist*np.sin(np.deg2rad(epsilon_0_deg))\n",
    "v_jupiter = y_dist*np.sin(np.deg2rad(epsilon_0_deg))+z_dist*np.cos(np.deg2rad(epsilon_0_deg))\n",
    "\n",
    "alpha_jupiter = np.arctan2(u_jupiter, x_dist)\n",
    "\n",
    "delta_jupiter = np.arctan2(v_jupiter, np.sqrt(x_dist**2 + u_jupiter**2))\n",
    "\n",
    "zeta_jupiter = np.arctan2(np.sin(np.deg2rad(delta_0_deg))*np.cos(delta_jupiter)*np.cos(np.deg2rad(alpha_0_deg)-alpha_jupiter)-np.sin(delta_jupiter)*np.cos(np.deg2rad(delta_0_deg)), np.cos(delta_jupiter)*np.sin(np.deg2rad(alpha_0_deg)-alpha_jupiter))\n",
    "\n",
    "print(\"u|v|alpha|delta|zeta of jupiter\")\n",
    "print(str(u_jupiter)+\"|\"+str(v_jupiter)+\"|\"+str(np.rad2deg(alpha_jupiter))+\"|\"+str(np.rad2deg(delta_jupiter))+\"|\"+str(np.rad2deg(zeta_jupiter)))"
   ]
  },
  {
   "cell_type": "code",
   "execution_count": 18,
   "metadata": {},
   "outputs": [
    {
     "name": "stdout",
     "output_type": "stream",
     "text": [
      "D_E : -2.4846380177433716\n"
     ]
    }
   ],
   "source": [
    "D_E = np.arcsin(-np.sin(np.deg2rad(delta_0_deg))*np.sin(delta_jupiter)-np.cos(np.deg2rad(delta_0_deg))*np.cos(delta_jupiter)*np.cos(np.deg2rad(alpha_0_deg)-alpha_jupiter))\n",
    "\n",
    "print(\"D_E : \" + str(np.rad2deg(D_E)))"
   ]
  },
  {
   "cell_type": "code",
   "execution_count": 19,
   "metadata": {},
   "outputs": [
    {
     "name": "stdout",
     "output_type": "stream",
     "text": [
      "omega_1 in deg : 267.63720776554635 omega 2 in deg : 72.30948319787828\n"
     ]
    }
   ],
   "source": [
    "omega_1_deg = W_1_deg - np.rad2deg(zeta_jupiter) - 5.07033*Delta\n",
    "\n",
    "omega_2_deg = W_2_deg - np.rad2deg(zeta_jupiter) - 5.02626*Delta\n",
    "\n",
    "print(\"omega_1 in deg : \" + str(omega_1_deg) + \" omega 2 in deg : \" + str(omega_2_deg))\n"
   ]
  },
  {
   "cell_type": "code",
   "execution_count": 20,
   "metadata": {},
   "outputs": [
    {
     "name": "stdout",
     "output_type": "stream",
     "text": [
      "C : 0.42851790149969865\n"
     ]
    }
   ],
   "source": [
    "C_deg = np.sign(np.sin(L_jupiter - L_earth)) *57.2958*((2*R_jupiter*Delta + R_earth**2 - R_jupiter**2 - Delta**2)/(4*R_jupiter*Delta))\n",
    "\n",
    "print(\"C : \" + str(C_deg))"
   ]
  },
  {
   "cell_type": "code",
   "execution_count": 21,
   "metadata": {},
   "outputs": [
    {
     "name": "stdout",
     "output_type": "stream",
     "text": [
      "omega_1 in deg : 268.065725667046 omega 2 in deg : 72.73800109937798\n"
     ]
    }
   ],
   "source": [
    "#correction of omega_1 and omega_2\n",
    "\n",
    "omega_1_deg_corrected = omega_1_deg + C_deg;\n",
    "omega_2_deg_corrected = omega_2_deg + C_deg;\n",
    "\n",
    "\n",
    "print(\"omega_1 in deg : \" + str(omega_1_deg_corrected) + \" omega 2 in deg : \" + str(omega_2_deg_corrected))"
   ]
  },
  {
   "cell_type": "code",
   "execution_count": 22,
   "metadata": {},
   "outputs": [],
   "source": [
    "#correct for the Earth's nutation \n",
    "\n",
    "D_deg = 297.85036 + 445267.111480*T - 0.0019142*(T**2) + (T**3)/189474\n",
    "M_deg = 357.52772 + 35999.050340*T  - 0.0001603*(T**2) - (T**3)/300000\n",
    "M_moon_deg = 134.96298 + 477198.867398*T + 0.0086972*(T**2) + (T**3)/56250\n",
    "F_deg = 93.27191 + 483202.017538*T +0.0020708*(T**2) + (T**3)/450000\n",
    "Omega_deg = 125.04452 - 1934.136261*T + 0.0020708*(T**2) + (T**3)/450000\n",
    "\n",
    "D_rad = np.deg2rad(D_deg)\n",
    "M_rad = np.deg2rad(M_deg)\n",
    "M_moon_rad = np.deg2rad(M_moon_deg)\n",
    "F_rad = np.deg2rad(F_deg)\n",
    "Omega_rad = np.deg2rad(Omega_deg)\n",
    "\n",
    "elementary_angles_rad = np.array([D_rad, M_rad, M_moon_rad, F_rad, Omega_rad])\n",
    "\n",
    "arg_matrix = np.array([[0, 0, 0, 0, 1], \n",
    "                       [-2, 0, 0, 2, 2], \n",
    "                       [0, 0, 0, 2, 2], \n",
    "                       [0, 0, 0, 0, 2], \n",
    "                       [0, 1, 0, 0, 0], \n",
    "                       [0, 0, 1, 0, 0], \n",
    "                       [-2, 1, 0, 2, 2], \n",
    "                       [0, 0, 0, 2, 1], \n",
    "                       [0, 0, 1, 2, 2], \n",
    "                       [-2, -1, 0, 2, 2], \n",
    "                       [-2, 0, 1, 0, 0], \n",
    "                       [-2, 0, 0, 2, 1], \n",
    "                       [0, 0, -1, 2, 2], \n",
    "                       [2, 0, 0, 0, 0], \n",
    "                       [0, 0, 1, 0, 1], \n",
    "                       [2, 0, -1, 2, 2], \n",
    "                       [0, 0, -1, 0, 1], \n",
    "                       [0, 0, 1, 2, 1], \n",
    "                       [-2, 0, 2, 0, 0], \n",
    "                       [0, 0, -2, 2, 1], \n",
    "                       [2, 0, 0, 2, 2], \n",
    "                       [0, 0, 2, 2, 2], \n",
    "                       [0, 0, 2, 0, 0], \n",
    "                       [-2, 0, 1, 2, 2], \n",
    "                       [0, 0, 0, 2, 0], \n",
    "                       [-2, 0, 0, 2, 0], \n",
    "                       [0, 0, -1, 2, 1], \n",
    "                       [0, 2, 0, 0, 0], \n",
    "                       [2, 0, -1, 0, 1], \n",
    "                       [-2, 2, 0, 2, 2], \n",
    "                       [0, 1, 0, 0, 1], \n",
    "                       [-2, 0, 1, 0, 1], \n",
    "                       [0, -1, 0, 0, 1], \n",
    "                       [0, 0, 2, -2, 0], \n",
    "                       [2, 0, -1, 2, 1], \n",
    "                       [2, 0, 1, 2, 2], \n",
    "                       [0, 1, 0, 2, 2], \n",
    "                       [-2, 1, 1, 0, 0], \n",
    "                       [0, -1, 0, 2, 2], \n",
    "                       [2, 0, 0, 2, 1], \n",
    "                       [2, 0, 1, 0, 0], \n",
    "                       [-2, 0, 2, 2, 2], \n",
    "                       [-2, 0, 1, 2, 1], \n",
    "                       [2, 0, -2, 0, 1], \n",
    "                       [2, 0, 0, 0, 1], \n",
    "                       [0, -1, 1, 0, 0], \n",
    "                       [-2, -1, 0, 2, 1], \n",
    "                       [-2, 0, 0, 0, 1], \n",
    "                       [0, 0, 2, 2, 1], \n",
    "                       [-2, 0, 2, 0, 1], \n",
    "                       [-2, 1, 0, 2, 1], \n",
    "                       [0, 0, 1, -2, 0], \n",
    "                       [-1, 0, 1, 0, 0], \n",
    "                       [-2, 1, 0, 0, 0], \n",
    "                       [1, 0, 0, 0, 0], \n",
    "                       [0, 0, 1, 2, 0], \n",
    "                       [0, 0, -2, 2, 2], \n",
    "                       [-1, -1, 1, 0, 0], \n",
    "                       [0, 1, 1, 0, 0], \n",
    "                       [0, -1, 1, 2, 2], \n",
    "                       [2, -1, -1, 2, 2], \n",
    "                       [0, 0, 3, 2, 2], \n",
    "                       [2, -1, 0, 2, 2]])\n",
    "\n",
    "delta_psi_coeff_meeus = np.array( [[-171996.0, -174.2], [-13187.0, -1.6], [-2274.0, -0.2], [2062.0, 0.2], [1426.0, -3.4], [712.0, 0.1], [-517.0, 1.2], [-386.0, -0.4], [-301.0, 0.0], [217.0, -0.5], [-158.0, 0.0], [129.0, 0.1], [123.0, 0.0], [63.0, 0.0], [63.0, 0.1], [-59.0, 0.0], [-58.0, -0.1], [-51.0, 0.0], [48.0, 0.0], [46.0, 0.0], [-38.0, 0.0], [-31.0, 0.0], [29.0, 0.0], [29.0, 0.0], [26.0, 0.0], [-22.0, 0.0], [21.0, 0.0], [17.0, -0.1], [16.0, 0.0], [-16.0, 0.1], [-15.0, 0.0], [-13.0, 0.0], [-12.0, 0.0], [11.0, 0.0], [-10.0, 0.0], [-8.0, 0.0], [7.0, 0.0], [-7.0, 0.0], [-7.0, 0.0], [-7.0, 0.0], [6.0, 0.0], [6.0, 0.0], [6.0, 0.0], [-6.0, 0.0], [-6.0, 0.0], [5.0, 0.0], [-5.0, 0.0], [-5.0, 0.0], [-5.0, 0.0], [4.0, 0.0], [4.0, 0.0], [4.0, 0.0], [-4.0, 0.0], [-4.0, 0.0], [-4.0, 0.0], [3.0, 0.0], [-3.0, 0.0], [-3.0, 0.0], [-3.0, 0.0], [-3.0, 0.0], [-3.0, 0.0], [-3.0, 0.0], [-3.0, 0.0]])\n",
    "\n",
    "delta_epsilon_coeff_meeus = np.array( [[92025.0, 8.9], [5736.0, -3.1], [977.0, -0.5], [-895.0, 0.5], [54.0, -0.1], [-7.0, 0.0], [224.0, -0.6], [200.0, 0.0], [129.0, -0.1], [-95.0, 0.3], [0.0, 0.0], [-70.0, 0.0], [-53.0, 0.0], [0.0, 0.0], [-33.0, 0.0], [26.0, 0.0], [32.0, 0.0], [27.0, 0.0], [0.0, 0.0], [-24.0, 0.0], [16.0, 0.0], [13.0, 0.0], [0.0, 0.0], [-12.0, 0.0], [0.0, 0.0], [0.0, 0.0], [-10.0, 0.0], [0.0, 0.0], [-8.0, 0.0], [7.0, 0.0], [9.0, 0.0], [7.0, 0.0], [6.0, 0.0], [0.0, 0.0], [5.0, 0.0], [3.0, 0.0], [-3.0, 0.0], [0.0, 0.0], [3.0, 0.0], [3.0, 0.0], [0.0, 0.0], [-3.0, 0.0], [-3.0, 0.0], [3.0, 0.0], [3.0, 0.0], [0.0, 0.0], [3.0, 0.0], [3.0, 0.0], [3.0, 0.0], [0.0, 0.0], [0.0, 0.0], [0.0, 0.0], [0.0, 0.0], [0.0, 0.0], [0.0, 0.0], [0.0, 0.0], [0.0, 0.0], [0.0, 0.0], [0.0, 0.0], [0.0, 0.0], [0.0, 0.0], [0.0, 0.0], [0.0, 0.0] ])\n",
    "\n",
    "\n",
    "delta_psi_coeff_deg = delta_psi_coeff_meeus / (10000*3600)\n",
    "delta_psi_coeff_rad = np.deg2rad(delta_psi_coeff_deg)\n",
    "\n",
    "delta_epsilon_coeff_deg = delta_epsilon_coeff_meeus / (10000*3600)\n",
    "delta_epsilon_coeff_rad = np.deg2rad(delta_epsilon_coeff_deg)\n",
    "\n"
   ]
  },
  {
   "cell_type": "code",
   "execution_count": 23,
   "metadata": {},
   "outputs": [
    {
     "name": "stdout",
     "output_type": "stream",
     "text": [
      "Delta_psi ; Delta_epsilon : 0.004682119183398254|-0.0004969565681112461\n",
      "epsilon_0 :  23.439710051412938\n"
     ]
    }
   ],
   "source": [
    "delta_psi_rad = np.sum(np.sin(np.sum(elementary_angles_rad * arg_matrix, 1)) * np.sum((np.array([[1, T],]) * delta_psi_coeff_rad), 1))\n",
    "delta_epsilon_rad = np.sum(np.cos(np.sum(elementary_angles_rad * arg_matrix, 1)) * np.sum((np.array([[1, T],]) * delta_epsilon_coeff_rad), 1))\n",
    "\n",
    "\n",
    "delta_psi_deg = np.rad2deg(delta_psi_rad)\n",
    "delta_epsilon_deg = np.rad2deg(delta_epsilon_rad)\n",
    "\n",
    "print(\"Delta_psi ; Delta_epsilon : \"+str(delta_psi_deg) + \"|\"+str(delta_epsilon_deg))\n",
    "\n",
    "epsilon_deg = epsilon_0_deg + delta_epsilon_deg\n",
    "epsilon_rad = np.deg2rad(epsilon_deg)\n",
    "\n",
    "print(\"epsilon_0 : \", str(epsilon_deg))"
   ]
  },
  {
   "cell_type": "code",
   "execution_count": 24,
   "metadata": {},
   "outputs": [
    {
     "name": "stdout",
     "output_type": "stream",
     "text": [
      "correction to alpha : -0.00162687690964729\n",
      "correction to delta : 0.0005602310731067368\n"
     ]
    }
   ],
   "source": [
    "correction_alpha_deg = 0.005693*((np.cos(alpha_jupiter)*np.cos(L_earth)*np.cos(epsilon_rad)+np.sin(alpha_jupiter)*np.sin(L_earth))/np.cos(delta_jupiter))\n",
    "correction_alpha_rad = np.deg2rad(correction_alpha_deg)\n",
    "\n",
    "correction_delta_deg = 0.005693*(np.cos(L_earth)*np.cos(epsilon_rad)*(np.tan(epsilon_rad)*np.cos(delta_jupiter)-np.sin(alpha_jupiter)*np.sin(delta_jupiter))+np.cos(alpha_jupiter)*np.sin(delta_jupiter)*np.sin(L_earth))\n",
    "correction_delta_rad = np.deg2rad(correction_delta_deg)\n",
    "\n",
    "print(\"correction to alpha : \" + str(correction_alpha_deg))\n",
    "print(\"correction to delta : \" + str(correction_delta_deg))"
   ]
  },
  {
   "cell_type": "code",
   "execution_count": 25,
   "metadata": {},
   "outputs": [],
   "source": [
    "#correct for jupiter's aberration \n",
    "\n",
    "aberration_corrected_alpha_jupiter = alpha_jupiter + correction_alpha_rad;\n",
    "aberration_corrected_delta_jupiter = delta_jupiter + correction_delta_rad;\n",
    "\n",
    "aberration_corrected_alpha_zero = np.deg2rad(alpha_0_deg) + correction_alpha_rad;\n",
    "aberration_corrected_delta_zero = np.deg2rad(delta_0_deg) + correction_delta_rad;"
   ]
  },
  {
   "cell_type": "code",
   "execution_count": 26,
   "metadata": {},
   "outputs": [],
   "source": [
    "#correction for nutation (only considering first oder correction terms)\n",
    "\n",
    "delta_alpha_jupiter = (np.cos(epsilon_rad) + np.sin(epsilon_rad)*np.sin(alpha_jupiter)*np.tan(delta_jupiter))*delta_psi_rad - (np.cos(alpha_jupiter)*np.tan(delta_jupiter))*delta_epsilon_rad\n",
    "delta_delta_jupiter = (np.sin(epsilon_rad)*np.cos(alpha_jupiter))*delta_psi_rad + np.sin(alpha_jupiter)*delta_epsilon_rad\n",
    "\n",
    "\n",
    "delta_alpha_zero = (np.cos(epsilon_rad) + np.sin(epsilon_rad)*np.sin(np.deg2rad(alpha_0_deg))*np.tan(np.deg2rad(delta_0_deg)))*delta_psi_rad - (np.cos(np.deg2rad(alpha_0_deg))*np.tan(np.deg2rad(delta_0_deg)))*delta_epsilon_rad\n",
    "delta_delta_zero = (np.sin(epsilon_rad)*np.cos(np.deg2rad(alpha_0_deg)))*delta_psi_rad + np.sin(np.deg2rad(alpha_0_deg))*delta_epsilon_rad\n"
   ]
  },
  {
   "cell_type": "code",
   "execution_count": 27,
   "metadata": {},
   "outputs": [
    {
     "name": "stdout",
     "output_type": "stream",
     "text": [
      "Alpha Jupiter -nutation corrected- :-168.6569242142991\n",
      "Delta Jupiter -nutation corrected- :-3.525920015964329\n",
      "Alpha Zero -nutation corrected- :268.04430935178084\n",
      "Delta Zero -nutation corrected- :64.493948451457\n"
     ]
    }
   ],
   "source": [
    "alpha_jupiter_nutation_corrected = aberration_corrected_alpha_jupiter + delta_alpha_jupiter\n",
    "delta_jupiter_nutation_corrected = aberration_corrected_delta_jupiter + delta_delta_jupiter\n",
    "\n",
    "alpha_zero_nutation_corrected = aberration_corrected_alpha_zero + delta_alpha_zero\n",
    "delta_zero_nutation_corrected = aberration_corrected_delta_zero + delta_delta_zero\n",
    "\n",
    "print(\"Alpha Jupiter -nutation corrected- :\" + str(alpha_jupiter_nutation_corrected*(180/np.pi)))\n",
    "print(\"Delta Jupiter -nutation corrected- :\" + str(delta_jupiter_nutation_corrected*(180/np.pi)))\n",
    "print(\"Alpha Zero -nutation corrected- :\" + str(alpha_zero_nutation_corrected*(180/np.pi)))\n",
    "print(\"Delta Zero -nutation corrected- :\" + str(delta_zero_nutation_corrected*(180/np.pi)))"
   ]
  },
  {
   "cell_type": "code",
   "execution_count": 28,
   "metadata": {},
   "outputs": [
    {
     "name": "stdout",
     "output_type": "stream",
     "text": [
      "Position Angle P : 24.800099833497804\n"
     ]
    }
   ],
   "source": [
    "#position angle P in radians\n",
    "\n",
    "P = np.arctan((np.cos(delta_zero_nutation_corrected)*np.sin(alpha_zero_nutation_corrected - alpha_jupiter_nutation_corrected))/\n",
    "             (np.sin(delta_zero_nutation_corrected)*np.cos(delta_jupiter_nutation_corrected) - \n",
    "              np.cos(delta_zero_nutation_corrected)*np.sin(delta_jupiter_nutation_corrected)*np.cos(alpha_zero_nutation_corrected - alpha_jupiter_nutation_corrected)))\n",
    "\n",
    "print(\"Position Angle P : \" + str(P*(180/np.pi)))"
   ]
  },
  {
   "cell_type": "code",
   "execution_count": 29,
   "metadata": {},
   "outputs": [],
   "source": [
    "#TO DO \n",
    "#IMPLEMENT E5 METHOD; VSOP87 code completely functional in d-mode"
   ]
  },
  {
   "cell_type": "code",
   "execution_count": 30,
   "metadata": {},
   "outputs": [],
   "source": [
    "#already referred to VSOP-87 frame\n",
    "sun_geocentric_longitude = L_earth + np.pi\n",
    "sun_geocentric_latitude = -B_earth\n",
    "sun_radius_vector = R_earth"
   ]
  },
  {
   "cell_type": "code",
   "execution_count": 31,
   "metadata": {},
   "outputs": [],
   "source": [
    "#conversion to geocentric\n",
    "x_geo = x_jupiter + R_earth*np.cos(sun_geocentric_longitude)\n",
    "y_geo = y_jupiter + R_earth*np.sin(sun_geocentric_longitude)\n",
    "z_geo = z_jupiter + R_earth*np.sin(sun_geocentric_latitude)"
   ]
  },
  {
   "cell_type": "code",
   "execution_count": 32,
   "metadata": {},
   "outputs": [
    {
     "name": "stdout",
     "output_type": "stream",
     "text": [
      "earth-juputer distance : 5.661123981514604\n"
     ]
    }
   ],
   "source": [
    "#distance to the earth \n",
    "delta_geo = np.sqrt(x_geo**2 + y_geo**2 + z_geo**2)\n",
    "print(\"earth-juputer distance : \" + str(delta_geo))"
   ]
  },
  {
   "cell_type": "code",
   "execution_count": 33,
   "metadata": {},
   "outputs": [],
   "source": [
    "#geocentric longitude and latitude\n",
    "lambda_zero = np.arctan2(y_geo, x_geo)\n",
    "beta_zero = np.arctan(z_geo/(np.sqrt(x_geo**2 + y_geo**2)))\n",
    "\n",
    "light_time_delay = 0.0057755183 * delta_geo"
   ]
  },
  {
   "cell_type": "code",
   "execution_count": 34,
   "metadata": {},
   "outputs": [],
   "source": [
    "reference_time_jupiter_moons = curr_julian_day - 2443000.5 - light_time_delay"
   ]
  },
  {
   "cell_type": "code",
   "execution_count": 35,
   "metadata": {},
   "outputs": [],
   "source": [
    "#mean longitudes of the satellites\n",
    "l_1 = 106.07719 + 203.488955790*reference_time_jupiter_moons\n",
    "l_2 = 175.73161 + 101.374724735*reference_time_jupiter_moons\n",
    "l_3 = 120.55883 + 50.317609207*reference_time_jupiter_moons\n",
    "l_4 = 84.44459 + 21.571071177*reference_time_jupiter_moons"
   ]
  },
  {
   "cell_type": "code",
   "execution_count": 36,
   "metadata": {},
   "outputs": [],
   "source": [
    "#liongutudes of the perijoves\n",
    "pi_1 = 97.0881 + 0.16138586*reference_time_jupiter_moons\n",
    "pi_2 = 154.8663 + 0.04726307*reference_time_jupiter_moons\n",
    "pi_3 = 188.1840 + 0.00712734*reference_time_jupiter_moons \n",
    "pi_4 = 335.2868 + 0.00184000*reference_time_jupiter_moons"
   ]
  },
  {
   "cell_type": "code",
   "execution_count": 37,
   "metadata": {},
   "outputs": [],
   "source": [
    "#longitude of the nodes of the equatorial plane of jupiter\n",
    "omega_1 = 312.3346 - 0.13279386*reference_time_jupiter_moons \n",
    "omega_2 = 100.4411 - 0.03263064*reference_time_jupiter_moons \n",
    "omega_3 = 119.1942 - 0.00717703*reference_time_jupiter_moons \n",
    "omega_4 = 322.6186 - 0.00175934*reference_time_jupiter_moons "
   ]
  },
  {
   "cell_type": "code",
   "execution_count": 38,
   "metadata": {},
   "outputs": [],
   "source": [
    "#principal inqeuality of the longitude\n",
    "Gamma = 0.33033*np.sin(np.deg2rad(163.679 + 0.0010512*reference_time_jupiter_moons)) \\\n",
    "                                  + 0.03439*np.sin(np.deg2rad(34.486 - 0.0161731*reference_time_jupiter_moons))"
   ]
  },
  {
   "cell_type": "code",
   "execution_count": 39,
   "metadata": {},
   "outputs": [],
   "source": [
    "#phase of free libration\n",
    "Phi_lambda = 199.6766 + 0.17379190*reference_time_jupiter_moons"
   ]
  },
  {
   "cell_type": "code",
   "execution_count": 40,
   "metadata": {},
   "outputs": [],
   "source": [
    "#longitude of the node of jupiter's equator\n",
    "psi_jupiter = 316.5182 - 0.00000208*reference_time_jupiter_moons"
   ]
  },
  {
   "cell_type": "code",
   "execution_count": 41,
   "metadata": {},
   "outputs": [],
   "source": [
    "#mean anomalies of jupiter and saturn \n",
    "G = 30.23756 + 0.0830925701*reference_time_jupiter_moons + Gamma\n",
    "G_ = 31.97853 + 0.0334597339*reference_time_jupiter_moons"
   ]
  },
  {
   "cell_type": "code",
   "execution_count": 42,
   "metadata": {},
   "outputs": [],
   "source": [
    "#Longitude of the perihelion of Jupiter:\n",
    "PI = 13.469942"
   ]
  },
  {
   "cell_type": "code",
   "execution_count": 43,
   "metadata": {},
   "outputs": [],
   "source": [
    "sum1 = 0\n",
    "sum1 += 0.47259 * np.sin(2*np.deg2rad(l_1 - l_2))\n",
    "sum1 -= 0.03478 * np.sin(np.deg2rad(pi_3 - pi_4))\n",
    "sum1 += 0.01081 * np.sin(np.deg2rad(l_2 - 2 * l_3 + pi_3))\n",
    "sum1 += 0.00738 * np.sin(np.deg2rad(Phi_lambda))\n",
    "sum1 += 0.00713 * np.sin(np.deg2rad(l_2 - 2 * l_3 + pi_2))\n",
    "sum1 -= 0.00674 * np.sin(np.deg2rad(pi_1 + pi_3 - 2 * PI - 2 * G))\n",
    "sum1 += 0.00666 * np.sin(np.deg2rad(l_2 - 2 * l_3 + pi_4))\n",
    "sum1 += 0.00445 * np.sin(np.deg2rad(l_1 - pi_3))\n",
    "sum1 -= 0.00354 * np.sin(np.deg2rad(l_1 - l_2))\n",
    "sum1 -= 0.00317 * np.sin(np.deg2rad(2 * psi_jupiter - 2 * PI))\n",
    "sum1 += 0.00265 * np.sin(np.deg2rad(l_1 - pi_4))\n",
    "sum1 -= 0.00186 * np.sin(np.deg2rad(G))\n",
    "sum1 += 0.00162 * np.sin(np.deg2rad(pi_2 - pi_3))\n",
    "sum1 += 0.00158 * np.sin(np.deg2rad(4 * (l_1 - l_2)))\n",
    "sum1 -= 0.00155 * np.sin(np.deg2rad(l_1 - l_3))\n",
    "sum1 -= 0.00138 * np.sin(np.deg2rad(psi_jupiter + omega_3 - 2 * PI - 2 * G))\n",
    "sum1 -= 0.00115 * np.sin(np.deg2rad(2 * (l_1 - 2 * l_2 + omega_2)))\n",
    "sum1 += 0.00089 * np.sin(np.deg2rad(pi_2 - pi_4))\n",
    "sum1 += 0.00085 * np.sin(np.deg2rad(l_1 + pi_3 - 2 * PI - 2 * G))\n",
    "sum1 += 0.00083 * np.sin(np.deg2rad(omega_2 - omega_3))\n",
    "sum1 += 0.00053 * np.sin(np.deg2rad(psi_jupiter - omega_2))\n",
    "\n",
    "sum2 = 0\n",
    "sum2 += 1.06476 * np.sin(np.deg2rad(2 * (l_2 - l_3)))\n",
    "sum2 += 0.04256 * np.sin(np.deg2rad(l_1 - 2 * l_2 + pi_3))\n",
    "sum2 += 0.03581 * np.sin(np.deg2rad(l_2 - pi_3))\n",
    "sum2 += 0.02395 * np.sin(np.deg2rad(l_1 - 2 * l_2 + pi_4))\n",
    "sum2 += 0.01984 * np.sin(np.deg2rad(l_2 - pi_4))\n",
    "sum2 -= 0.01778 * np.sin(np.deg2rad(Phi_lambda))\n",
    "sum2 += 0.01654 * np.sin(np.deg2rad(l_2 - pi_2))\n",
    "sum2 += 0.01334 * np.sin(np.deg2rad(l_2 - 2 * l_3 + pi_2))\n",
    "sum2 += 0.01294 * np.sin(np.deg2rad(pi_3 - pi_4))\n",
    "sum2 -= 0.01142 * np.sin(np.deg2rad(l_2 - l_3))\n",
    "sum2 -= 0.01057 * np.sin(np.deg2rad(G))\n",
    "sum2 -= 0.00775 * np.sin(np.deg2rad(2 * (psi_jupiter - PI)))\n",
    "sum2 += 0.00524 * np.sin(np.deg2rad(2 * (l_1 - l_2)))\n",
    "sum2 -= 0.00460 * np.sin(np.deg2rad((l_1 - l_3)))\n",
    "sum2 += 0.00316 * np.sin(np.deg2rad(psi_jupiter - 2 * G + omega_3 - 2 * PI))\n",
    "sum2 -= 0.00203 * np.sin(np.deg2rad(pi_1 + pi_3 - 2 * PI - 2 * G))\n",
    "sum2 += 0.00146 * np.sin(np.deg2rad(psi_jupiter - omega_3))\n",
    "sum2 -= 0.00145 * np.sin(np.deg2rad(2 * G))\n",
    "sum2 += 0.00125 * np.sin(np.deg2rad(psi_jupiter - omega_4))\n",
    "sum2 -= 0.00115 * np.sin(np.deg2rad(l_1 - 2 * l_3 + pi_3))\n",
    "sum2 -= 0.00094 * np.sin(np.deg2rad(2 * (l_2 - omega_2)))\n",
    "sum2 += 0.00086 * np.sin(np.deg2rad(2 * (l_1 - 2 * l_2 + omega_2)))\n",
    "sum2 -= 0.00086 * np.sin(np.deg2rad(5 * G_ - 2 * G + 52.225))\n",
    "sum2 -= 0.00078 * np.sin(np.deg2rad(l_2 - l_4))\n",
    "sum2 -= 0.00064 * np.sin(np.deg2rad(3 * l_3 - 7 * l_4 + 4*pi_4))\n",
    "sum2 += 0.00064 * np.sin(np.deg2rad(pi_1 - pi_4))\n",
    "sum2 -= 0.00063 * np.sin(np.deg2rad(l_1 - 2 * l_3 + pi_4))\n",
    "sum2 += 0.00058 * np.sin(np.deg2rad(omega_3 - omega_4))\n",
    "sum2 += 0.00056 * np.sin(np.deg2rad(2 * (psi_jupiter - PI - G)))\n",
    "sum2 += 0.00056 * np.sin(np.deg2rad(2 * (l_2 - l_4)))\n",
    "sum2 += 0.00055 * np.sin(np.deg2rad(2 * (l_1 - l_3)))\n",
    "sum2 += 0.00052 * np.sin(np.deg2rad(3 * l_3 - 7 * l_4 + pi_3 + 3 * pi_4))\n",
    "sum2 -= 0.00043 * np.sin(np.deg2rad(l_1 - pi_3))\n",
    "sum2 += 0.00041 * np.sin(np.deg2rad(5 * (l_2 - l_3)))\n",
    "sum2 += 0.00041 * np.sin(np.deg2rad(pi_4 - PI))\n",
    "sum2 += 0.00032 * np.sin(np.deg2rad(omega_2 - omega_3))\n",
    "sum2 += 0.00032 * np.sin(np.deg2rad(2 * (l_3 - G - PI)))\n",
    "\n",
    "sum3 = 0\n",
    "sum3 += 0.16490 * np.sin(np.deg2rad(l_3 - pi_3))\n",
    "sum3 += 0.09081 * np.sin(np.deg2rad(l_3 - pi_4))\n",
    "sum3 -= 0.06907 * np.sin(np.deg2rad(l_2 - l_3))\n",
    "sum3 += 0.03784 * np.sin(np.deg2rad(pi_3 - pi_4))\n",
    "sum3 += 0.01846 * np.sin(np.deg2rad(2 * (l_3 - l_4)))\n",
    "sum3 -= 0.01340 * np.sin(np.deg2rad(G))\n",
    "sum3 -= 0.01014 * np.sin(np.deg2rad(2 * (psi_jupiter - PI)))\n",
    "sum3 += 0.00704 * np.sin(np.deg2rad(l_2 - 2 * l_3 + pi_3))\n",
    "sum3 -= 0.00620 * np.sin(np.deg2rad(l_2 - 2 * l_3 + pi_2))\n",
    "sum3 -= 0.00541 * np.sin(np.deg2rad(l_3 - l_4))\n",
    "sum3 += 0.00381 * np.sin(np.deg2rad(l_2 - 2 * l_3 + pi_4))\n",
    "sum3 += 0.00235 * np.sin(np.deg2rad(psi_jupiter - omega_3))\n",
    "sum3 += 0.00198 * np.sin(np.deg2rad(psi_jupiter - omega_4))\n",
    "sum3 += 0.00176 * np.sin(np.deg2rad(Phi_lambda))\n",
    "sum3 += 0.00130 * np.sin(np.deg2rad(3 * (l_3 - l_4)))\n",
    "sum3 += 0.00125 * np.sin(np.deg2rad(l_1 - l_3))\n",
    "sum3 -= 0.00119 * np.sin(np.deg2rad(5 * G_ - 2 * G + 52.225))\n",
    "sum3 += 0.00109 * np.sin(np.deg2rad(l_1 - l_2))\n",
    "sum3 -= 0.00100 * np.sin(np.deg2rad(3 * l_3 - 7 * l_4 + 4 * pi_4))\n",
    "sum3 += 0.00091 * np.sin(np.deg2rad(omega_3 - omega_4))\n",
    "sum3 += 0.00080 * np.sin(np.deg2rad(3 * l_3 - 7 * l_4 + pi_3 + 3 * pi_4))\n",
    "sum3 -= 0.00075 * np.sin(np.deg2rad(2 * l_2 - 3 * l_3 + pi_3))\n",
    "sum3 += 0.00072 * np.sin(np.deg2rad(pi_1 + pi_3 - 2 * PI - 2 * G))\n",
    "sum3 += 0.00069 * np.sin(np.deg2rad(pi_4 - PI))\n",
    "sum3 -= 0.00058 * np.sin(np.deg2rad(2 * l_3 - 3 * l_4 + pi_4))\n",
    "sum3 -= 0.00057 * np.sin(np.deg2rad(l_3 - 2 * l_4 + pi_4))\n",
    "sum3 += 0.00056 * np.sin(np.deg2rad(l_3 + pi_3 - 2 * PI - 2 * G))\n",
    "sum3 -= 0.00052 * np.sin(np.deg2rad(l_2 - 2 * l_3 + pi_1))\n",
    "sum3 -= 0.00050 * np.sin(np.deg2rad(pi_2 - pi_3))\n",
    "sum3 += 0.00048 * np.sin(np.deg2rad(l_3 - 2 * l_4 + pi_3))\n",
    "sum3 -= 0.00045 * np.sin(np.deg2rad(2 * l_2 - 3 * l_3 + pi_4))\n",
    "sum3 -= 0.00041 * np.sin(np.deg2rad(pi_2 - pi_4))\n",
    "sum3 -= 0.00038 * np.sin(np.deg2rad(2 * G))\n",
    "sum3 -= 0.00037 * np.sin(np.deg2rad(pi_3 - pi_4 + omega_3 - omega_4))\n",
    "sum3 -= 0.00032 * np.sin(np.deg2rad(3 * l_3 - 7 * l_4 + 2 * pi_3 + 2 * pi_4))\n",
    "sum3 += 0.00030 * np.sin(np.deg2rad(4 * (l_3 - l_4)))\n",
    "sum3 += 0.00029 * np.sin(np.deg2rad(l_3 + pi_4 - 2 * PI - 2 * G))\n",
    "sum3 -= 0.00028 * np.sin(np.deg2rad(omega_3 + psi_jupiter - 2 * PI - 2 * G))\n",
    "sum3 += 0.00026 * np.sin(np.deg2rad(l_3 - PI - G))\n",
    "sum3 += 0.00024 * np.sin(np.deg2rad(l_2 - 3 * l_3 + 2 * l_4))\n",
    "sum3 += 0.00021 * np.sin(np.deg2rad(2 * (l_3 - PI - G)))\n",
    "sum3 -= 0.00021 * np.sin(np.deg2rad(l_3 - pi_2))\n",
    "sum3 += 0.00017 * np.sin(np.deg2rad(2 * (l_3 - pi_3)))\n",
    "\n",
    "sum4=0\n",
    "sum4 += 0.84287 * np.sin(np.deg2rad(l_4 - pi_4))\n",
    "sum4 += 0.03431 * np.sin(np.deg2rad(pi_4 - pi_3))\n",
    "sum4 -= 0.03305 * np.sin(np.deg2rad(2 * (psi_jupiter - PI)))\n",
    "sum4 -= 0.03211 * np.sin(np.deg2rad(G))\n",
    "sum4 -= 0.01862 * np.sin(np.deg2rad(l_4 - pi_3))\n",
    "sum4 += 0.01186 * np.sin(np.deg2rad(psi_jupiter - omega_4))\n",
    "sum4 += 0.00623 * np.sin(np.deg2rad(l_4 + pi_4 - 2 * G - 2 * PI))\n",
    "sum4 += 0.00387 * np.sin(np.deg2rad(2 * (l_4 - pi_4)))\n",
    "sum4 -= 0.00284 * np.sin(np.deg2rad(5 * G_ - 2 * G + 52.225))\n",
    "sum4 -= 0.00234 * np.sin(np.deg2rad(2 * (psi_jupiter - pi_4)))\n",
    "sum4 -= 0.00223 * np.sin(np.deg2rad(l_3 - l_4))\n",
    "sum4 -= 0.00208 * np.sin(np.deg2rad(l_4 - PI))\n",
    "sum4 += 0.00178 * np.sin(np.deg2rad(psi_jupiter + omega_4 - 2 * pi_4))\n",
    "sum4 += 0.00134 * np.sin(np.deg2rad(pi_4 - PI))\n",
    "sum4 += 0.00125 * np.sin(np.deg2rad(2 * (l_4 - G - PI)))\n",
    "sum4 -= 0.00117 * np.sin(np.deg2rad(2 * G))\n",
    "sum4 -= 0.00112 * np.sin(np.deg2rad(2 * (l_3 - l_4)))\n",
    "sum4 += 0.00107 * np.sin(np.deg2rad(3 * l_3 - 7 * l_4 + 4 * pi_4))\n",
    "sum4 += 0.00102 * np.sin(np.deg2rad(l_4 - G - PI))\n",
    "sum4 += 0.00096 * np.sin(np.deg2rad(2 * l_4 - psi_jupiter - omega_4))\n",
    "sum4 += 0.00087 * np.sin(np.deg2rad(2 * (psi_jupiter - omega_4)))\n",
    "sum4 -= 0.00085 * np.sin(np.deg2rad(3 * l_3 - 7 * l_4 +pi_3 + 3 * pi_4))\n",
    "sum4 += 0.00085 * np.sin(np.deg2rad(l_3 - 2 * l_4 + pi_4))\n",
    "sum4 -= 0.00081 * np.sin(np.deg2rad(2 * (l_4 - psi_jupiter)))\n",
    "sum4 += 0.00071 * np.sin(np.deg2rad(l_4 + pi_4 - 2 * PI - 3 * G))\n",
    "sum4 += 0.00061 * np.sin(np.deg2rad(l_1 - l_4))\n",
    "sum4 -= 0.00056 * np.sin(np.deg2rad(psi_jupiter - omega_3))\n",
    "sum4 -= 0.00054 * np.sin(np.deg2rad(l_3 - 2 * l_4 + pi_3))\n",
    "sum4 += 0.00051 * np.sin(np.deg2rad(l_2 - l_4))\n",
    "sum4 += 0.00042 * np.sin(np.deg2rad(2 * (psi_jupiter - G - PI)))\n",
    "sum4 += 0.00039 * np.sin(np.deg2rad(2 * (pi_4 - omega_4)))\n",
    "sum4 += 0.00036 * np.sin(np.deg2rad(psi_jupiter + PI -pi_4 - omega_4))\n",
    "sum4 += 0.00035 * np.sin(np.deg2rad(2 * G_ - G + 188.37))\n",
    "sum4 -= 0.00035 * np.sin(np.deg2rad(l_4 - pi_4 + 2 * PI - 2 * psi_jupiter))\n",
    "sum4 -= 0.00032 * np.sin(np.deg2rad(l_4 + pi_4 - 2 * PI - G))\n",
    "sum4 += 0.00030 * np.sin(np.deg2rad(2 * G_ - 2 * G + 149.15))\n",
    "sum4 += 0.00029 * np.sin(np.deg2rad(3 * l_3 - 7 * l_4 + 2 * pi_3 + 2 * pi_4))\n",
    "sum4 += 0.00028 * np.sin(np.deg2rad(l_4 - pi_4 + 2 * psi_jupiter - 2 * PI))\n",
    "sum4 -= 0.00028 * np.sin(np.deg2rad(2 * (l_4 - omega_4)))\n",
    "sum4 -= 0.00027 * np.sin(np.deg2rad(pi_3 - pi_4 + omega_3 - omega_4))\n",
    "sum4 -= 0.00026 * np.sin(np.deg2rad(5 * G_ - 3 * G + 188.37))\n",
    "sum4 += 0.00025 * np.sin(np.deg2rad(omega_4 - omega_3))\n",
    "sum4 -= 0.00025 * np.sin(np.deg2rad(l_2 - 3*l_3 + 2*l_4))\n",
    "sum4 -= 0.00023 * np.sin(np.deg2rad(3 * (l_3 - l_4)))\n",
    "sum4 += 0.00021 * np.sin(np.deg2rad(2 * l_4 - 2 * PI - 3 * G))\n",
    "sum4 -= 0.00021 * np.sin(np.deg2rad(2 * l_3 - 3 * l_4 + pi_4))\n",
    "sum4 += 0.00019 * np.sin(np.deg2rad(l_4 - pi_4 - G))\n",
    "sum4 -= 0.00019 * np.sin(np.deg2rad(2 * l_4 - pi_3 - pi_4))\n",
    "sum4 -= 0.00018 * np.sin(np.deg2rad(l_4 - pi_4 + G))\n",
    "sum4 -= 0.00016 * np.sin(np.deg2rad(l_4 + pi_3 - 2 * PI - 2 * G))"
   ]
  },
  {
   "cell_type": "code",
   "execution_count": 44,
   "metadata": {},
   "outputs": [
    {
     "name": "stdout",
     "output_type": "stream",
     "text": [
      "sum_1 : -0.00653647779826641\n",
      "sum_2 : 1.1001089779807336\n",
      "sum_3 : 0.04055555843193225\n",
      "sum_4 : 0.5910390470234095\n"
     ]
    }
   ],
   "source": [
    "print(\"sum_1 : \" +str(sum1))\n",
    "print(\"sum_2 : \" +str(sum2))\n",
    "print(\"sum_3 : \" +str(sum3))\n",
    "print(\"sum_4 : \" +str(sum4))"
   ]
  },
  {
   "cell_type": "code",
   "execution_count": 45,
   "metadata": {},
   "outputs": [],
   "source": [
    "#sum1 = 0.00654\n",
    "#sum2 = 1.10011\n",
    "#sum3 = 0.04056\n",
    "#sum4 = 0.59104"
   ]
  },
  {
   "cell_type": "code",
   "execution_count": 46,
   "metadata": {
    "scrolled": true
   },
   "outputs": [],
   "source": [
    "L1 = l_1 + sum1\n",
    "L2 = l_2 + sum2\n",
    "L3 = l_3 + sum3\n",
    "L4 = l_4 + sum4"
   ]
  },
  {
   "cell_type": "code",
   "execution_count": 47,
   "metadata": {},
   "outputs": [],
   "source": [
    "tan_B1 = +0.0006393*np.sin(np.deg2rad(L1 - omega_1)) \\\n",
    "+0.0001825*np.sin(np.deg2rad(L1 - omega_2)) \\\n",
    "+0.0000329*np.sin(np.deg2rad(L1 - omega_3)) \\\n",
    "-0.0000311*np.sin(np.deg2rad(L1 - psi_jupiter)) \\\n",
    "+0.0000093*np.sin(np.deg2rad(L1 - omega_4)) \\\n",
    "+0.0000075*np.sin(np.deg2rad(3*L1 - 4*l_2 - 1.9927*sum1 + omega_2)) \\\n",
    "+0.0000046*np.sin(np.deg2rad(L1 + psi_jupiter - 2*PI- 2*G)) \n",
    "\n",
    "tan_B2 = +0.0081004*np.sin(np.deg2rad(L2 - omega_2)) \\\n",
    "+0.0004512*np.sin(np.deg2rad(L2 - omega_3)) \\\n",
    "-0.0003284*np.sin(np.deg2rad(L2 - psi_jupiter)) \\\n",
    "+0.0001160*np.sin(np.deg2rad(L2 - omega_4)) \\\n",
    "+0.0000272*np.sin(np.deg2rad(l_1 - 2*l_3 + 1.0146*sum2 + omega_2)) \\\n",
    "-0.0000144*np.sin(np.deg2rad(L2 - omega_1)) \\\n",
    "+0.0000143*np.sin(np.deg2rad(L2 + psi_jupiter - 2*PI - 2*G)) \\\n",
    "+0.0000035*np.sin(np.deg2rad(L2 - psi_jupiter + G)) \\\n",
    "-0.0000028*np.sin(np.deg2rad(l_1 - 2*l_3 + 1.0146*sum2 + omega_3)) \n",
    "\n",
    "tan_B3 = +0.0032402*np.sin(np.deg2rad(L3 - omega_3)) \\\n",
    "-0.0016911*np.sin(np.deg2rad(L3 - psi_jupiter)) \\\n",
    "+0.0006847*np.sin(np.deg2rad(L3 - omega_4)) \\\n",
    "-0.0002797*np.sin(np.deg2rad(L3 - omega_2)) \\\n",
    "+0.0000321*np.sin(np.deg2rad(L3+ psi_jupiter- 2*PI - 2*G)) \\\n",
    "+0.0000051*np.sin(np.deg2rad(L3 - psi_jupiter+ G)) \\\n",
    "-0.0000045*np.sin(np.deg2rad(L3 - psi_jupiter- G)) \\\n",
    "-0.0000045*np.sin(np.deg2rad(L3 + psi_jupiter- 2*PI)) \\\n",
    "+0.0000037*np.sin(np.deg2rad(L3 + psi_jupiter - 2*PI - 3*G)) \\\n",
    "+0.0000030*np.sin(np.deg2rad(2*l_2 - 3*L3 + 4.03*sum3 + omega_2)) \\\n",
    "-0.0000021*np.sin(np.deg2rad(2*l_2 - 3*L3 + 4.03*sum3 + omega_3)) \n",
    "\n",
    "tan_B4 = -0.0076579*np.sin(np.deg2rad(L4 - psi_jupiter)) \\\n",
    "+0.0044134*np.sin(np.deg2rad(L4 - omega_4)) \\\n",
    "-0.0005112*np.sin(np.deg2rad(L4 - omega_3)) \\\n",
    "+0.0000773*np.sin(np.deg2rad(L4 + psi_jupiter - 2*PI - 2*G)) \\\n",
    "+0.0000104*np.sin(np.deg2rad(L4 - psi_jupiter + G)) \\\n",
    "-0.0000102*np.sin(np.deg2rad(L4 - psi_jupiter - G)) \\\n",
    "+0.0000088*np.sin(np.deg2rad(L4 + psi_jupiter - 2*PI - 3*G)) \\\n",
    "-0.0000038*np.sin(np.deg2rad(L4 + psi_jupiter - 2*PI - G)) \n",
    "\n",
    "B_1_rad = np.arctan(tan_B1)\n",
    "B_2_rad = np.arctan(tan_B2)\n",
    "B_3_rad = np.arctan(tan_B3)\n",
    "B_4_rad = np.arctan(tan_B4)"
   ]
  },
  {
   "cell_type": "code",
   "execution_count": 48,
   "metadata": {},
   "outputs": [],
   "source": [
    "sum_r_1 =-0.0041339*np.cos(np.deg2rad((2 *(l_1 - l_2))))\n",
    "sum_r_1 -=0.0000387*np.cos(np.deg2rad((l_1 - pi_3) ))\n",
    "sum_r_1 -=0.0000214*np.cos(np.deg2rad((l_1 - pi_4) ))\n",
    "sum_r_1 +=0.0000170*np.cos(np.deg2rad((l_1 - l_2) ))\n",
    "sum_r_1 -=0.0000131*np.cos(np.deg2rad((4*(l_1 - l_2)) ))\n",
    "sum_r_1 +=0.0000106*np.cos(np.deg2rad((l_1 - l_3) ))\n",
    "sum_r_1 -=0.0000066*np.cos(np.deg2rad((l_1 + pi_3 - 2*PI - 2*G))) \n",
    "\n",
    "sum_r_2 =+0.0093848*np.cos(np.deg2rad((l_1 - l_2) ))\n",
    "sum_r_2 -=0.0003116*np.cos(np.deg2rad((l_2 - pi_3) ))\n",
    "sum_r_2 -=0.0001744*np.cos(np.deg2rad((l_2 - pi_4) ))\n",
    "sum_r_2 -=0.0001442*np.cos(np.deg2rad((l_2 - pi_2) ))\n",
    "sum_r_2 +=0.0000553*np.cos(np.deg2rad((l_2 - l_3) ))\n",
    "sum_r_2 +=0.0000523*np.cos(np.deg2rad((l_1 - l_3) ))\n",
    "sum_r_2 -=0.0000290*np.cos(np.deg2rad((2*(l_1 - l_2))))\n",
    "sum_r_2 +=0.0000164*np.cos(np.deg2rad((2*(l_2 - omega_2)) ))\n",
    "sum_r_2 +=0.0000107*np.cos(np.deg2rad((l_1 - 2*l_3 + pi_3) ))\n",
    "sum_r_2 -=0.0000102*np.cos(np.deg2rad((l_2 - pi_1)))\n",
    "sum_r_2 -=0.0000091*np.cos(np.deg2rad((2*(l_1 - l_3))))\n",
    "\n",
    "sum_r_3 =-0.0014388*np.cos(np.deg2rad((l_3 - pi_3) ))\n",
    "sum_r_3 -=0.0007919*np.cos(np.deg2rad((l_3- pi_4) ))\n",
    "sum_r_3 +=0.0006342*np.cos(np.deg2rad((l_2 - l_3) ))\n",
    "sum_r_3 -=0.0001761*np.cos(np.deg2rad((2*(l_3 - l_4)) ))\n",
    "sum_r_3 +=0.0000294*np.cos(np.deg2rad((l_3 - l_4) ))\n",
    "sum_r_3 -=0.0000156*np.cos(np.deg2rad((3*(l_3 - l_4)) ))\n",
    "sum_r_3 +=0.0000156*np.cos(np.deg2rad((l_1 - l_3) ))\n",
    "sum_r_3 -=0.0000153*np.cos(np.deg2rad((l_1 - l_2) ))\n",
    "sum_r_3 +=0.0000070*np.cos(np.deg2rad((2*l_2 - 3*l_3 + pi_3) ))\n",
    "sum_r_3 -=0.0000051*np.cos(np.deg2rad((l_3 + pi_3 - 2*PI - 2*G) ))\n",
    "\n",
    "sum_r_4 =-0.0073546*np.cos(np.deg2rad((l_4 - pi_4) ))\n",
    "sum_r_4 +=0.0001621*np.cos(np.deg2rad((l_4 - pi_3) ))\n",
    "sum_r_4 +=0.0000974*np.cos(np.deg2rad((l_3 - l_4) ))\n",
    "sum_r_4 -=0.0000543*np.cos(np.deg2rad((l_4 + pi_4 - 2*PI - 2*G) ))\n",
    "sum_r_4 -=0.0000271*np.cos(np.deg2rad((2*(l_4 - pi_4))))\n",
    "sum_r_4 +=0.0000182*np.cos(np.deg2rad((l_4 - PI) ))\n",
    "sum_r_4 +=0.0000177*np.cos(np.deg2rad((2*(l_3 - l_4)) )) \n",
    "sum_r_4 -=0.0000167*np.cos(np.deg2rad((2*l_4 - psi_jupiter - omega_4))) \n",
    "sum_r_4 +=0.0000167*np.cos(np.deg2rad((psi_jupiter - omega_4) )) \n",
    "sum_r_4 -=0.0000155*np.cos(np.deg2rad((2*(l_4 - PI - G)) )) \n",
    "sum_r_4 +=0.0000142*np.cos(np.deg2rad((2*(l_4 - psi_jupiter)) )) \n",
    "sum_r_4 +=0.0000105*np.cos(np.deg2rad((l_1 - l_4))) \n",
    "sum_r_4 +=0.0000092*np.cos(np.deg2rad((l_2 - l_4) )) \n",
    "sum_r_4 -=0.0000089*np.cos(np.deg2rad((l_4 - PI - G) )) \n",
    "sum_r_4 +=0.0000062*np.cos(np.deg2rad((l_4 + pi_4 - 2*PI - 3*G) )) \n",
    "sum_r_4 +=0.0000048*np.cos(np.deg2rad((2*(l_4 - omega_4))))"
   ]
  },
  {
   "cell_type": "code",
   "execution_count": 49,
   "metadata": {},
   "outputs": [],
   "source": [
    "a1 = 5.90569 \n",
    "a2 = 9.39657 \n",
    "a3 = 14.98832 \n",
    "a4 = 26.36273 \n",
    "\n",
    "R_1 = a1 * (1+sum_r_1)\n",
    "R_2 = a2 * (1+sum_r_2)\n",
    "R_3 = a3 * (1+sum_r_3)\n",
    "R_4 = a4 * (1+sum_r_4)\n"
   ]
  },
  {
   "cell_type": "code",
   "execution_count": 50,
   "metadata": {},
   "outputs": [],
   "source": [
    "#computations for the pürecession since B1950.0\n",
    "\n",
    "#time in julian centuries since standard 1950 equinox\n",
    "T_0 = (curr_julian_day -2433282.423)/36525 \n",
    "\n",
    "#time in centuries since std. equinox 1900.0\n",
    "\n",
    "#precession in longitude\n",
    "P = 1.3966626*T_0 + 0.0003088*(T_0**2)\n",
    "\n",
    "#correct all longitudes and psi\n",
    "L1_corrected = L1 + P\n",
    "L2_corrected = L2 + P\n",
    "L3_corrected = L3 + P\n",
    "L4_corrected = L4 + P\n",
    "psi_jupiter_corrected = psi_jupiter + P\n",
    "\n",
    "time_JC_1900 = ( curr_julian_day - 2415020.50000) / 36525 #leave out final .5\n",
    "\n",
    "#inclination of jupiter#s orbit with respect for the orbital plane\n",
    "I = 3.120262 + 0.0006*time_JC_1900"
   ]
  },
  {
   "cell_type": "code",
   "execution_count": 51,
   "metadata": {},
   "outputs": [],
   "source": [
    "#cartesian coordinates referred to jupiter\n",
    "X_1 = R_1 * np.cos(np.deg2rad(L1_corrected - psi_jupiter_corrected))*np.cos(B_1_rad)\n",
    "Y_1 = R_1 * np.sin(np.deg2rad(L1_corrected - psi_jupiter_corrected))*np.cos(B_1_rad)\n",
    "Z_1 = R_1 * np.sin(B_1_rad)\n",
    "\n",
    "\n",
    "X_2 = R_2 * np.cos(np.deg2rad(L2_corrected - psi_jupiter_corrected))*np.cos(B_2_rad)\n",
    "Y_2 = R_2 * np.sin(np.deg2rad(L2_corrected - psi_jupiter_corrected))*np.cos(B_2_rad)\n",
    "Z_2 = R_2 * np.sin(B_2_rad)\n",
    "\n",
    "X_3 = R_3 * np.cos(np.deg2rad(L3_corrected - psi_jupiter_corrected))*np.cos(B_3_rad)\n",
    "Y_3 = R_3 * np.sin(np.deg2rad(L3_corrected - psi_jupiter_corrected))*np.cos(B_3_rad)\n",
    "Z_3 = R_3 * np.sin(B_3_rad)\n",
    "\n",
    "X_4 = R_4 * np.cos(np.deg2rad(L4_corrected - psi_jupiter_corrected))*np.cos(B_4_rad)\n",
    "Y_4 = R_4 * np.sin(np.deg2rad(L4_corrected - psi_jupiter_corrected))*np.cos(B_4_rad)\n",
    "Z_4 = R_4 * np.sin(B_4_rad)\n",
    "\n",
    "#fictional fifth satellite\n",
    "X_5 = 0\n",
    "Y_5 = 0\n",
    "Z_5 = 1"
   ]
  },
  {
   "cell_type": "code",
   "execution_count": 52,
   "metadata": {},
   "outputs": [],
   "source": [
    "\n",
    "#JC_jupiter_angles = (curr_julian_day - 2451545)/36525\n",
    "\n",
    "JC_jupiter_angles = ( curr_julian_day - light_time_delay- 2451545)/36525\n",
    "\n",
    "Omega_ascending_node_jupiter_deg = 100.464407 + 1.0209774*JC_jupiter_angles + 0.00040315*(JC_jupiter_angles**2) + 0.000000404*(JC_jupiter_angles**3)\n",
    "i_ecliptic_jupiter_deg = 1.303267 -0.0054965*JC_jupiter_angles + 0.00000466*(JC_jupiter_angles**2) - 0.000000002*(JC_jupiter_angles**3)"
   ]
  },
  {
   "cell_type": "code",
   "execution_count": 53,
   "metadata": {},
   "outputs": [],
   "source": [
    "#function to obtain the apparent rectangular coordinates\n",
    "\n",
    "def apparent_rectangular_coordinates(X, Y, Z, Omega, psi, i):\n",
    "    \n",
    "    #rotate thoiwards jupiter's orbital plane    \n",
    "    A_1 = X\n",
    "    B_1 = Y * np.cos(np.deg2rad(I)) - Z * np.sin(np.deg2rad(I))\n",
    "    C_1 = Y * np.sin(np.deg2rad(I)) + Z * np.cos(np.deg2rad(I))\n",
    "    \n",
    "    #rotate thowards the ascending node of jupiter's orbit\n",
    "    \n",
    "    Phi = psi_jupiter + P - Omega #added P\n",
    "    \n",
    "    A_2 = A_1*np.cos(np.deg2rad(Phi)) - B_1*np.sin(np.deg2rad(Phi))\n",
    "    B_2 = A_1*np.sin(np.deg2rad(Phi)) + B_1*np.cos(np.deg2rad(Phi))\n",
    "    C_2 = C_1\n",
    "    \n",
    "    #rotate thowards the plane of the ecliptic\n",
    "    A_3 = A_2\n",
    "    B_3 = B_2 * np.cos(np.deg2rad(i)) - C_2* np.sin(np.deg2rad(i))\n",
    "    C_3 = B_2 * np.sin(np.deg2rad(i)) + C_2* np.cos(np.deg2rad(i))\n",
    "    \n",
    "    #rotate thowards the vernal equinox\n",
    "    A_4 = A_3 * np.cos(np.deg2rad(Omega)) - B_3 * np.sin(np.deg2rad(Omega))\n",
    "    B_4 = A_3 * np.sin(np.deg2rad(Omega)) + B_3 * np.cos(np.deg2rad(Omega))\n",
    "    C_4 = C_3\n",
    "    \n",
    "    A_5 = A_4 *np.sin(lambda_zero) - B_4*np.cos(lambda_zero)\n",
    "    B_5 = A_4 *np.cos(lambda_zero) + B_4*np.sin(lambda_zero)\n",
    "    C_5 = C_4\n",
    "    \n",
    "    A_6 = A_5\n",
    "    B_6 = C_5*np.sin(beta_zero) + B_5*np.cos(beta_zero)\n",
    "    C_6 = C_5*np.cos(beta_zero) - B_5*np.sin(beta_zero)\n",
    "    \n",
    "                         \n",
    "    return np.array([[A_6],[B_6],[C_6]])\n",
    "                     "
   ]
  },
  {
   "cell_type": "code",
   "execution_count": 54,
   "metadata": {},
   "outputs": [],
   "source": [
    "Io_param = apparent_rectangular_coordinates(X_1, Y_1, Z_1, Omega_ascending_node_jupiter_deg, psi_jupiter_corrected,i_ecliptic_jupiter_deg)\n",
    "Europa_param = apparent_rectangular_coordinates(X_2, Y_2, Z_2, Omega_ascending_node_jupiter_deg, psi_jupiter_corrected,i_ecliptic_jupiter_deg)\n",
    "Ganimede_param = apparent_rectangular_coordinates(X_3, Y_3, Z_3, Omega_ascending_node_jupiter_deg, psi_jupiter_corrected,i_ecliptic_jupiter_deg)\n",
    "Callisto_param = apparent_rectangular_coordinates(X_4, Y_4, Z_4, Omega_ascending_node_jupiter_deg, psi_jupiter_corrected,i_ecliptic_jupiter_deg)\n",
    "Fictional_param = apparent_rectangular_coordinates(X_5, Y_5, Z_5, Omega_ascending_node_jupiter_deg, psi_jupiter_corrected,i_ecliptic_jupiter_deg)\n",
    "\n",
    "zeta_fictional = Fictional_param[0, 0]\n",
    "eta_fictional = Fictional_param[2,0]\n",
    "\n",
    "D = np.arctan2(zeta_fictional, eta_fictional)"
   ]
  },
  {
   "cell_type": "code",
   "execution_count": 55,
   "metadata": {},
   "outputs": [],
   "source": [
    "def cartesian_coordinates_apparent(A_6, B_6, C_6, D):\n",
    "    X = A_6 * np.cos(D)-C_6*np.sin(D)\n",
    "    Y = A_6 * np.sin(D)+C_6*np.cos(D)\n",
    "    Z = B_6\n",
    "    \n",
    "    return np.array([[X],[Y],[Z]])"
   ]
  },
  {
   "cell_type": "code",
   "execution_count": 56,
   "metadata": {},
   "outputs": [],
   "source": [
    "Io_cart = cartesian_coordinates_apparent(Io_param[0,0], Io_param[1,0], Io_param[2,0], D)\n",
    "Europa_cart = cartesian_coordinates_apparent(Europa_param[0,0], Europa_param[1,0], Europa_param[2,0], D)\n",
    "Ganimede_cart = cartesian_coordinates_apparent(Ganimede_param[0,0], Ganimede_param[1,0], Ganimede_param[2,0], D)\n",
    "Callisto_cart = cartesian_coordinates_apparent(Callisto_param[0,0], Callisto_param[1,0], Callisto_param[2,0], D)"
   ]
  },
  {
   "cell_type": "code",
   "execution_count": 57,
   "metadata": {},
   "outputs": [
    {
     "name": "stdout",
     "output_type": "stream",
     "text": [
      "Io : [[-3.44903165]\n",
      " [ 0.2136159 ]\n",
      " [-4.8189394 ]]\n",
      "Europa : [[ 7.43807784]\n",
      " [ 0.27511454]\n",
      " [-5.7471347 ]]\n",
      "Ganimede : [[  1.19902514]\n",
      " [  0.58925163]\n",
      " [-14.94058382]]\n",
      "Callisto : [[  7.0562089 ]\n",
      " [  1.0267758 ]\n",
      " [-25.22414539]]\n"
     ]
    }
   ],
   "source": [
    "print(\"Io : \" +str(Io_cart))\n",
    "print(\"Europa : \" +str(Europa_cart))\n",
    "print(\"Ganimede : \" +str(Ganimede_cart))\n",
    "print(\"Callisto : \" +str(Callisto_cart))"
   ]
  },
  {
   "cell_type": "code",
   "execution_count": 58,
   "metadata": {},
   "outputs": [],
   "source": [
    "#1. Differntial light time correction\n",
    "#the correction has to be added to x\n",
    "\n",
    "def correct_differential_light_time(cartesian_jovian, R_jovian ,K) : \n",
    "    \n",
    "    z_jovian = cartesian_jovian[2,0]\n",
    "    x_jovian = cartesian_jovian[0,0]\n",
    "    \n",
    "    x_correction = (np.abs(z_jovian)/K)*np.sqrt(1-(x_jovian/R_jovian)**2)\n",
    "    \n",
    "    cartesian_jovian[0,0] += x_correction\n",
    "    \n",
    "    return cartesian_jovian"
   ]
  },
  {
   "cell_type": "code",
   "execution_count": 59,
   "metadata": {},
   "outputs": [],
   "source": [
    "Io_cart = correct_differential_light_time(Io_cart, R_1, 17295)"
   ]
  },
  {
   "cell_type": "code",
   "execution_count": 60,
   "metadata": {},
   "outputs": [],
   "source": [
    "Europa_cart = correct_differential_light_time(Europa_cart, R_2, 21819)\n",
    "Ganimede_cart = correct_differential_light_time(Ganimede_cart, R_3, 27558)\n",
    "Callisto_cart = correct_differential_light_time(Callisto_cart, R_4, 36548)"
   ]
  },
  {
   "cell_type": "code",
   "execution_count": 61,
   "metadata": {},
   "outputs": [],
   "source": [
    "#perspective_correction\n",
    "\n",
    "def perspective_correction(cartesian_jovian, earth_jupiter_dist) : \n",
    "    \n",
    "    z_jovian = cartesian_jovian[2,0]\n",
    "    W = (earth_jupiter_dist/(earth_jupiter_dist + (z_jovian/2095)))\n",
    "    \n",
    "    cartesian_jovian[0,0] = cartesian_jovian[0,0]*W\n",
    "    cartesian_jovian[1,0] = cartesian_jovian[1,0]*W\n",
    "    \n",
    "    return cartesian_jovian    "
   ]
  },
  {
   "cell_type": "code",
   "execution_count": 62,
   "metadata": {},
   "outputs": [],
   "source": [
    "Io_cart = perspective_correction(Io_cart, Delta)\n",
    "Europa_cart = perspective_correction(Europa_cart, Delta)\n",
    "Ganimede_cart = perspective_correction(Ganimede_cart, Delta)\n",
    "Callisto_cart = perspective_correction(Callisto_cart, Delta)"
   ]
  },
  {
   "cell_type": "code",
   "execution_count": 63,
   "metadata": {},
   "outputs": [
    {
     "name": "stdout",
     "output_type": "stream",
     "text": [
      "Io : [[-3.45020687]\n",
      " [ 0.21370273]\n",
      " [-4.8189394 ]]\n",
      "Europa : [[ 7.44184517]\n",
      " [ 0.27524792]\n",
      " [-5.7471347 ]]\n",
      "Ganimede : [[  1.20107861]\n",
      " [  0.58999487]\n",
      " [-14.94058382]]\n",
      "Callisto : [[  7.07191424]\n",
      " [  1.02896421]\n",
      " [-25.22414539]]\n"
     ]
    }
   ],
   "source": [
    "print(\"Io : \" +str(Io_cart))\n",
    "print(\"Europa : \" +str(Europa_cart))\n",
    "print(\"Ganimede : \" +str(Ganimede_cart))\n",
    "print(\"Callisto : \" +str(Callisto_cart))"
   ]
  }
 ],
 "metadata": {
  "kernelspec": {
   "display_name": "Python 3",
   "language": "python",
   "name": "python3"
  },
  "language_info": {
   "codemirror_mode": {
    "name": "ipython",
    "version": 3
   },
   "file_extension": ".py",
   "mimetype": "text/x-python",
   "name": "python",
   "nbconvert_exporter": "python",
   "pygments_lexer": "ipython3",
   "version": "3.6.9"
  }
 },
 "nbformat": 4,
 "nbformat_minor": 4
}
